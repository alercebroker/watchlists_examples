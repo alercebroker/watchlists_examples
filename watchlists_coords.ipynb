{
 "cells": [
  {
   "cell_type": "markdown",
   "metadata": {},
   "source": [
    "# ALeRCE watchlists, list of coordinates\n",
    "\n",
    "```Author: Alejandra Muñoz Arancibia```\n",
    "\n",
    "ALeRCE notebook\n",
    "\n",
    "Read a list of RA Dec coordinates and search radii, connect to the database and check if there are objects matching a cone search. Check which of the objects have recent detections (date criterion can be changed). Save the lists of objects that match the cone search and meet the date criterion to csv files, including their information from the ``objects`` table"
   ]
  },
  {
   "cell_type": "code",
   "execution_count": 1,
   "metadata": {
    "ExecuteTime": {
     "end_time": "2020-11-27T15:54:24.613105Z",
     "start_time": "2020-11-27T15:54:24.602124Z"
    }
   },
   "outputs": [
    {
     "data": {
      "text/html": [
       "<style>.container { width:100% !important; }</style>"
      ],
      "text/plain": [
       "<IPython.core.display.HTML object>"
      ]
     },
     "metadata": {},
     "output_type": "display_data"
    }
   ],
   "source": [
    "from IPython.core.display import display, HTML\n",
    "display(HTML(\"<style>.container { width:100% !important; }</style>\"))"
   ]
  },
  {
   "cell_type": "code",
   "execution_count": 2,
   "metadata": {
    "ExecuteTime": {
     "end_time": "2020-11-27T15:54:25.384765Z",
     "start_time": "2020-11-27T15:54:24.614481Z"
    }
   },
   "outputs": [],
   "source": [
    "import pandas as pd\n",
    "import numpy as np\n",
    "from astropy.time import Time\n",
    "import psycopg2\n",
    "from datetime import date, datetime, timedelta\n",
    "import json"
   ]
  },
  {
   "cell_type": "markdown",
   "metadata": {},
   "source": [
    "Define directory and input file names"
   ]
  },
  {
   "cell_type": "code",
   "execution_count": 3,
   "metadata": {
    "ExecuteTime": {
     "end_time": "2020-11-27T15:54:25.388644Z",
     "start_time": "2020-11-27T15:54:25.386407Z"
    }
   },
   "outputs": [],
   "source": [
    "dir_watchlists = 'example_tables/' # can be changed to preferred directory\n",
    "namefil = dir_watchlists+'coords_example.csv' # can be changed to preferred file"
   ]
  },
  {
   "cell_type": "markdown",
   "metadata": {},
   "source": [
    "Input csv file structure: 1 line header, including name, RA (in deg), Dec (in deg) and search radius (in arcsec)"
   ]
  },
  {
   "cell_type": "code",
   "execution_count": 4,
   "metadata": {
    "ExecuteTime": {
     "end_time": "2020-11-27T15:54:25.942478Z",
     "start_time": "2020-11-27T15:54:25.390276Z"
    },
    "scrolled": true
   },
   "outputs": [
    {
     "data": {
      "text/html": [
       "<div>\n",
       "<style scoped>\n",
       "    .dataframe tbody tr th:only-of-type {\n",
       "        vertical-align: middle;\n",
       "    }\n",
       "\n",
       "    .dataframe tbody tr th {\n",
       "        vertical-align: top;\n",
       "    }\n",
       "\n",
       "    .dataframe thead th {\n",
       "        text-align: right;\n",
       "    }\n",
       "</style>\n",
       "<table border=\"1\" class=\"dataframe\">\n",
       "  <thead>\n",
       "    <tr style=\"text-align: right;\">\n",
       "      <th></th>\n",
       "      <th>name</th>\n",
       "      <th>ra</th>\n",
       "      <th>dec</th>\n",
       "      <th>r_arcsec</th>\n",
       "      <th>r_deg</th>\n",
       "    </tr>\n",
       "  </thead>\n",
       "  <tbody>\n",
       "    <tr>\n",
       "      <th>0</th>\n",
       "      <td>WISEAJ175530.00+301326.0</td>\n",
       "      <td>268.87508</td>\n",
       "      <td>30.22383</td>\n",
       "      <td>50.0</td>\n",
       "      <td>0.013889</td>\n",
       "    </tr>\n",
       "    <tr>\n",
       "      <th>1</th>\n",
       "      <td>KUG0303-003</td>\n",
       "      <td>46.45086</td>\n",
       "      <td>-0.17677</td>\n",
       "      <td>50.0</td>\n",
       "      <td>0.013889</td>\n",
       "    </tr>\n",
       "    <tr>\n",
       "      <th>2</th>\n",
       "      <td>IC2974</td>\n",
       "      <td>178.45304</td>\n",
       "      <td>-5.16783</td>\n",
       "      <td>50.0</td>\n",
       "      <td>0.013889</td>\n",
       "    </tr>\n",
       "    <tr>\n",
       "      <th>3</th>\n",
       "      <td>WISEAJ034717.72-082702.9</td>\n",
       "      <td>56.82375</td>\n",
       "      <td>-8.45089</td>\n",
       "      <td>50.0</td>\n",
       "      <td>0.013889</td>\n",
       "    </tr>\n",
       "    <tr>\n",
       "      <th>4</th>\n",
       "      <td>CGCG064-083</td>\n",
       "      <td>152.50105</td>\n",
       "      <td>11.91656</td>\n",
       "      <td>50.0</td>\n",
       "      <td>0.013889</td>\n",
       "    </tr>\n",
       "    <tr>\n",
       "      <th>5</th>\n",
       "      <td>MCG-01-30-038</td>\n",
       "      <td>177.65333</td>\n",
       "      <td>-7.60794</td>\n",
       "      <td>50.0</td>\n",
       "      <td>0.013889</td>\n",
       "    </tr>\n",
       "  </tbody>\n",
       "</table>\n",
       "</div>"
      ],
      "text/plain": [
       "                       name         ra       dec  r_arcsec     r_deg\n",
       "0  WISEAJ175530.00+301326.0  268.87508  30.22383      50.0  0.013889\n",
       "1               KUG0303-003   46.45086  -0.17677      50.0  0.013889\n",
       "2                    IC2974  178.45304  -5.16783      50.0  0.013889\n",
       "3  WISEAJ034717.72-082702.9   56.82375  -8.45089      50.0  0.013889\n",
       "4               CGCG064-083  152.50105  11.91656      50.0  0.013889\n",
       "5             MCG-01-30-038  177.65333  -7.60794      50.0  0.013889"
      ]
     },
     "execution_count": 4,
     "metadata": {},
     "output_type": "execute_result"
    }
   ],
   "source": [
    "coords = pd.read_csv(namefil, sep=',', comment='#', skip_blank_lines=True)\n",
    "coords['r_deg'] = coords['r_arcsec']/3600.\n",
    "coords"
   ]
  },
  {
   "cell_type": "markdown",
   "metadata": {},
   "source": [
    "Connect to the DB"
   ]
  },
  {
   "cell_type": "code",
   "execution_count": 5,
   "metadata": {
    "ExecuteTime": {
     "end_time": "2020-11-27T15:54:27.430202Z",
     "start_time": "2020-11-27T15:54:25.944741Z"
    }
   },
   "outputs": [],
   "source": [
    "dir_dbfile = '../usecases/' # can be changed to preferred directory\n",
    "credentials_file = dir_dbfile+'alercereaduser_v2.json' # online data\n",
    "#credentials_file = dir_dbfile+'alercereaduser_v3.json' # new db\n",
    "\n",
    "with open(credentials_file) as jsonfile:\n",
    "    params = json.load(jsonfile)[\"params\"]\n",
    "\n",
    "conn = psycopg2.connect(dbname=params['dbname'], user=params['user'], host=params['host'],\n",
    "                        password=params['password'])"
   ]
  },
  {
   "cell_type": "markdown",
   "metadata": {},
   "source": [
    "Perform cone search"
   ]
  },
  {
   "cell_type": "code",
   "execution_count": 6,
   "metadata": {
    "ExecuteTime": {
     "end_time": "2020-11-27T15:54:29.401758Z",
     "start_time": "2020-11-27T15:54:27.434940Z"
    },
    "scrolled": true
   },
   "outputs": [
    {
     "name": "stdout",
     "output_type": "stream",
     "text": [
      "WISEAJ175530.00+301326.0 Number of oids found in db: 1\n",
      "KUG0303-003 Number of oids found in db: 2\n",
      "IC2974 Number of oids found in db: 1\n",
      "WISEAJ034717.72-082702.9 Number of oids found in db: 3\n",
      "CGCG064-083 Number of oids found in db: 2\n",
      "MCG-01-30-038 Number of oids found in db: 4\n"
     ]
    }
   ],
   "source": [
    "objs_tot = pd.DataFrame(columns=['name', 'ra', 'dec', 'r_deg', 'oid', 'nobs', 'meanra',\n",
    "                                 'meandec', 'deltajd', 'lastmjd', 'firstmjd'])\n",
    "\n",
    "for (name, ra, dec, r_deg) in zip(coords.name, coords.ra, coords.dec, coords.r_deg):\n",
    "    query='''\n",
    "    SELECT\n",
    "        oid, nobs, meanra, meandec, deltajd, lastmjd, firstmjd\n",
    "    FROM\n",
    "        objects\n",
    "    WHERE\n",
    "        q3c_radial_query(meanra, meandec, %g, %g, %g)\n",
    "    ''' % (ra, dec, r_deg)\n",
    "    \n",
    "    objs_indb = pd.read_sql_query(query, conn)\n",
    "    objs_indb.set_index('oid', inplace=True)\n",
    "    nobjs_indb = len(objs_indb)\n",
    "    print(name, 'Number of oids found in db:', nobjs_indb)\n",
    "    \n",
    "    if nobjs_indb>0:\n",
    "        objs_aux = objs_indb.copy()\n",
    "        objs_aux = objs_aux.reset_index(level=0)\n",
    "        objs_aux['name'] = name\n",
    "        objs_aux['ra'] = ra\n",
    "        objs_aux['dec'] = dec\n",
    "        objs_aux['r_deg'] = r_deg\n",
    "        objs_tot = pd.concat([objs_tot, objs_aux], ignore_index=True)"
   ]
  },
  {
   "cell_type": "markdown",
   "metadata": {},
   "source": [
    "Display output dataframe"
   ]
  },
  {
   "cell_type": "code",
   "execution_count": 7,
   "metadata": {
    "ExecuteTime": {
     "end_time": "2020-11-27T15:54:29.457885Z",
     "start_time": "2020-11-27T15:54:29.408611Z"
    }
   },
   "outputs": [
    {
     "data": {
      "text/html": [
       "<div>\n",
       "<style scoped>\n",
       "    .dataframe tbody tr th:only-of-type {\n",
       "        vertical-align: middle;\n",
       "    }\n",
       "\n",
       "    .dataframe tbody tr th {\n",
       "        vertical-align: top;\n",
       "    }\n",
       "\n",
       "    .dataframe thead th {\n",
       "        text-align: right;\n",
       "    }\n",
       "</style>\n",
       "<table border=\"1\" class=\"dataframe\">\n",
       "  <thead>\n",
       "    <tr style=\"text-align: right;\">\n",
       "      <th></th>\n",
       "      <th>name</th>\n",
       "      <th>ra</th>\n",
       "      <th>dec</th>\n",
       "      <th>r_deg</th>\n",
       "      <th>oid</th>\n",
       "      <th>nobs</th>\n",
       "      <th>meanra</th>\n",
       "      <th>meandec</th>\n",
       "      <th>deltajd</th>\n",
       "      <th>lastmjd</th>\n",
       "      <th>firstmjd</th>\n",
       "    </tr>\n",
       "  </thead>\n",
       "  <tbody>\n",
       "    <tr>\n",
       "      <th>0</th>\n",
       "      <td>WISEAJ175530.00+301326.0</td>\n",
       "      <td>268.87508</td>\n",
       "      <td>30.22383</td>\n",
       "      <td>0.013889</td>\n",
       "      <td>ZTF20abxgxjd</td>\n",
       "      <td>42</td>\n",
       "      <td>268.876317</td>\n",
       "      <td>30.222243</td>\n",
       "      <td>46.927280</td>\n",
       "      <td>59137.112199</td>\n",
       "      <td>59090.184919</td>\n",
       "    </tr>\n",
       "    <tr>\n",
       "      <th>1</th>\n",
       "      <td>KUG0303-003</td>\n",
       "      <td>46.45086</td>\n",
       "      <td>-0.17677</td>\n",
       "      <td>0.013889</td>\n",
       "      <td>ZTF19aagynyt</td>\n",
       "      <td>1</td>\n",
       "      <td>46.445394</td>\n",
       "      <td>-0.188618</td>\n",
       "      <td>0.000000</td>\n",
       "      <td>58514.147465</td>\n",
       "      <td>58514.147465</td>\n",
       "    </tr>\n",
       "    <tr>\n",
       "      <th>2</th>\n",
       "      <td>KUG0303-003</td>\n",
       "      <td>46.45086</td>\n",
       "      <td>-0.17677</td>\n",
       "      <td>0.013889</td>\n",
       "      <td>ZTF18acfwtjw</td>\n",
       "      <td>1</td>\n",
       "      <td>46.447054</td>\n",
       "      <td>-0.189474</td>\n",
       "      <td>0.000000</td>\n",
       "      <td>58431.237940</td>\n",
       "      <td>58431.237940</td>\n",
       "    </tr>\n",
       "    <tr>\n",
       "      <th>3</th>\n",
       "      <td>IC2974</td>\n",
       "      <td>178.45304</td>\n",
       "      <td>-5.16783</td>\n",
       "      <td>0.013889</td>\n",
       "      <td>ZTF20acounxo</td>\n",
       "      <td>5</td>\n",
       "      <td>178.461030</td>\n",
       "      <td>-5.171459</td>\n",
       "      <td>7.078600</td>\n",
       "      <td>59180.562280</td>\n",
       "      <td>59173.483681</td>\n",
       "    </tr>\n",
       "    <tr>\n",
       "      <th>4</th>\n",
       "      <td>WISEAJ034717.72-082702.9</td>\n",
       "      <td>56.82375</td>\n",
       "      <td>-8.45089</td>\n",
       "      <td>0.013889</td>\n",
       "      <td>ZTF18acckgdl</td>\n",
       "      <td>1</td>\n",
       "      <td>56.810991</td>\n",
       "      <td>-8.448439</td>\n",
       "      <td>0.000000</td>\n",
       "      <td>58425.332813</td>\n",
       "      <td>58425.332813</td>\n",
       "    </tr>\n",
       "    <tr>\n",
       "      <th>5</th>\n",
       "      <td>WISEAJ034717.72-082702.9</td>\n",
       "      <td>56.82375</td>\n",
       "      <td>-8.45089</td>\n",
       "      <td>0.013889</td>\n",
       "      <td>ZTF19acchjhf</td>\n",
       "      <td>5</td>\n",
       "      <td>56.823804</td>\n",
       "      <td>-8.450863</td>\n",
       "      <td>409.954630</td>\n",
       "      <td>59169.330903</td>\n",
       "      <td>58759.376273</td>\n",
       "    </tr>\n",
       "    <tr>\n",
       "      <th>6</th>\n",
       "      <td>WISEAJ034717.72-082702.9</td>\n",
       "      <td>56.82375</td>\n",
       "      <td>-8.45089</td>\n",
       "      <td>0.013889</td>\n",
       "      <td>ZTF20actekrw</td>\n",
       "      <td>3</td>\n",
       "      <td>56.825589</td>\n",
       "      <td>-8.451758</td>\n",
       "      <td>2.020914</td>\n",
       "      <td>59178.318218</td>\n",
       "      <td>59176.297303</td>\n",
       "    </tr>\n",
       "    <tr>\n",
       "      <th>7</th>\n",
       "      <td>CGCG064-083</td>\n",
       "      <td>152.50105</td>\n",
       "      <td>11.91656</td>\n",
       "      <td>0.013889</td>\n",
       "      <td>ZTF19acxpwlq</td>\n",
       "      <td>1</td>\n",
       "      <td>152.493352</td>\n",
       "      <td>11.918123</td>\n",
       "      <td>0.000000</td>\n",
       "      <td>58827.545972</td>\n",
       "      <td>58827.545972</td>\n",
       "    </tr>\n",
       "    <tr>\n",
       "      <th>8</th>\n",
       "      <td>CGCG064-083</td>\n",
       "      <td>152.50105</td>\n",
       "      <td>11.91656</td>\n",
       "      <td>0.013889</td>\n",
       "      <td>ZTF20actkmks</td>\n",
       "      <td>3</td>\n",
       "      <td>152.504300</td>\n",
       "      <td>11.916155</td>\n",
       "      <td>2.972083</td>\n",
       "      <td>59179.463588</td>\n",
       "      <td>59176.491505</td>\n",
       "    </tr>\n",
       "    <tr>\n",
       "      <th>9</th>\n",
       "      <td>MCG-01-30-038</td>\n",
       "      <td>177.65333</td>\n",
       "      <td>-7.60794</td>\n",
       "      <td>0.013889</td>\n",
       "      <td>ZTF19aanwkpn</td>\n",
       "      <td>1</td>\n",
       "      <td>177.646822</td>\n",
       "      <td>-7.600501</td>\n",
       "      <td>0.000000</td>\n",
       "      <td>58573.255058</td>\n",
       "      <td>58573.255058</td>\n",
       "    </tr>\n",
       "    <tr>\n",
       "      <th>10</th>\n",
       "      <td>MCG-01-30-038</td>\n",
       "      <td>177.65333</td>\n",
       "      <td>-7.60794</td>\n",
       "      <td>0.013889</td>\n",
       "      <td>ZTF19aapecmv</td>\n",
       "      <td>1</td>\n",
       "      <td>177.659479</td>\n",
       "      <td>-7.598759</td>\n",
       "      <td>0.000000</td>\n",
       "      <td>58581.252465</td>\n",
       "      <td>58581.252465</td>\n",
       "    </tr>\n",
       "    <tr>\n",
       "      <th>11</th>\n",
       "      <td>MCG-01-30-038</td>\n",
       "      <td>177.65333</td>\n",
       "      <td>-7.60794</td>\n",
       "      <td>0.013889</td>\n",
       "      <td>ZTF20aaocjds</td>\n",
       "      <td>1</td>\n",
       "      <td>177.660391</td>\n",
       "      <td>-7.605311</td>\n",
       "      <td>0.000000</td>\n",
       "      <td>58895.419398</td>\n",
       "      <td>58895.419398</td>\n",
       "    </tr>\n",
       "    <tr>\n",
       "      <th>12</th>\n",
       "      <td>MCG-01-30-038</td>\n",
       "      <td>177.65333</td>\n",
       "      <td>-7.60794</td>\n",
       "      <td>0.013889</td>\n",
       "      <td>ZTF20actqtfk</td>\n",
       "      <td>2</td>\n",
       "      <td>177.651865</td>\n",
       "      <td>-7.606346</td>\n",
       "      <td>1.984190</td>\n",
       "      <td>59178.504352</td>\n",
       "      <td>59176.520162</td>\n",
       "    </tr>\n",
       "  </tbody>\n",
       "</table>\n",
       "</div>"
      ],
      "text/plain": [
       "                        name         ra       dec     r_deg           oid  \\\n",
       "0   WISEAJ175530.00+301326.0  268.87508  30.22383  0.013889  ZTF20abxgxjd   \n",
       "1                KUG0303-003   46.45086  -0.17677  0.013889  ZTF19aagynyt   \n",
       "2                KUG0303-003   46.45086  -0.17677  0.013889  ZTF18acfwtjw   \n",
       "3                     IC2974  178.45304  -5.16783  0.013889  ZTF20acounxo   \n",
       "4   WISEAJ034717.72-082702.9   56.82375  -8.45089  0.013889  ZTF18acckgdl   \n",
       "5   WISEAJ034717.72-082702.9   56.82375  -8.45089  0.013889  ZTF19acchjhf   \n",
       "6   WISEAJ034717.72-082702.9   56.82375  -8.45089  0.013889  ZTF20actekrw   \n",
       "7                CGCG064-083  152.50105  11.91656  0.013889  ZTF19acxpwlq   \n",
       "8                CGCG064-083  152.50105  11.91656  0.013889  ZTF20actkmks   \n",
       "9              MCG-01-30-038  177.65333  -7.60794  0.013889  ZTF19aanwkpn   \n",
       "10             MCG-01-30-038  177.65333  -7.60794  0.013889  ZTF19aapecmv   \n",
       "11             MCG-01-30-038  177.65333  -7.60794  0.013889  ZTF20aaocjds   \n",
       "12             MCG-01-30-038  177.65333  -7.60794  0.013889  ZTF20actqtfk   \n",
       "\n",
       "   nobs      meanra    meandec     deltajd       lastmjd      firstmjd  \n",
       "0    42  268.876317  30.222243   46.927280  59137.112199  59090.184919  \n",
       "1     1   46.445394  -0.188618    0.000000  58514.147465  58514.147465  \n",
       "2     1   46.447054  -0.189474    0.000000  58431.237940  58431.237940  \n",
       "3     5  178.461030  -5.171459    7.078600  59180.562280  59173.483681  \n",
       "4     1   56.810991  -8.448439    0.000000  58425.332813  58425.332813  \n",
       "5     5   56.823804  -8.450863  409.954630  59169.330903  58759.376273  \n",
       "6     3   56.825589  -8.451758    2.020914  59178.318218  59176.297303  \n",
       "7     1  152.493352  11.918123    0.000000  58827.545972  58827.545972  \n",
       "8     3  152.504300  11.916155    2.972083  59179.463588  59176.491505  \n",
       "9     1  177.646822  -7.600501    0.000000  58573.255058  58573.255058  \n",
       "10    1  177.659479  -7.598759    0.000000  58581.252465  58581.252465  \n",
       "11    1  177.660391  -7.605311    0.000000  58895.419398  58895.419398  \n",
       "12    2  177.651865  -7.606346    1.984190  59178.504352  59176.520162  "
      ]
     },
     "execution_count": 7,
     "metadata": {},
     "output_type": "execute_result"
    }
   ],
   "source": [
    "objs_tot\n",
    "#objs_tot.head()"
   ]
  },
  {
   "cell_type": "markdown",
   "metadata": {},
   "source": [
    "Check if oids are unique (without altering the original dataframe)"
   ]
  },
  {
   "cell_type": "code",
   "execution_count": 8,
   "metadata": {
    "ExecuteTime": {
     "end_time": "2020-11-27T15:54:29.733358Z",
     "start_time": "2020-11-27T15:54:29.461348Z"
    }
   },
   "outputs": [
    {
     "name": "stdout",
     "output_type": "stream",
     "text": [
      "Number of oids: 13\n"
     ]
    },
    {
     "data": {
      "text/html": [
       "<div>\n",
       "<style scoped>\n",
       "    .dataframe tbody tr th:only-of-type {\n",
       "        vertical-align: middle;\n",
       "    }\n",
       "\n",
       "    .dataframe tbody tr th {\n",
       "        vertical-align: top;\n",
       "    }\n",
       "\n",
       "    .dataframe thead th {\n",
       "        text-align: right;\n",
       "    }\n",
       "</style>\n",
       "<table border=\"1\" class=\"dataframe\">\n",
       "  <thead>\n",
       "    <tr style=\"text-align: right;\">\n",
       "      <th></th>\n",
       "      <th>oid</th>\n",
       "    </tr>\n",
       "  </thead>\n",
       "  <tbody>\n",
       "    <tr>\n",
       "      <th>0</th>\n",
       "      <td>ZTF20abxgxjd</td>\n",
       "    </tr>\n",
       "    <tr>\n",
       "      <th>1</th>\n",
       "      <td>ZTF19aagynyt</td>\n",
       "    </tr>\n",
       "    <tr>\n",
       "      <th>2</th>\n",
       "      <td>ZTF18acfwtjw</td>\n",
       "    </tr>\n",
       "    <tr>\n",
       "      <th>3</th>\n",
       "      <td>ZTF20acounxo</td>\n",
       "    </tr>\n",
       "    <tr>\n",
       "      <th>4</th>\n",
       "      <td>ZTF18acckgdl</td>\n",
       "    </tr>\n",
       "  </tbody>\n",
       "</table>\n",
       "</div>"
      ],
      "text/plain": [
       "            oid\n",
       "0  ZTF20abxgxjd\n",
       "1  ZTF19aagynyt\n",
       "2  ZTF18acfwtjw\n",
       "3  ZTF20acounxo\n",
       "4  ZTF18acckgdl"
      ]
     },
     "metadata": {},
     "output_type": "display_data"
    },
    {
     "name": "stdout",
     "output_type": "stream",
     "text": [
      "Number of unique oids: 13\n"
     ]
    }
   ],
   "source": [
    "objs_tot2 = objs_tot[['oid']]\n",
    "\n",
    "print('Number of oids:', len(objs_tot2))\n",
    "\n",
    "objs_uniq = pd.unique(objs_tot2['oid'])\n",
    "objs_tot2 = pd.DataFrame(objs_uniq, columns=['oid'])\n",
    "nobjs = len(objs_tot2)\n",
    "\n",
    "display(objs_tot2.head())\n",
    "print('Number of unique oids:', nobjs)"
   ]
  },
  {
   "cell_type": "markdown",
   "metadata": {},
   "source": [
    "Find current datetime in local and UTC formats"
   ]
  },
  {
   "cell_type": "code",
   "execution_count": 9,
   "metadata": {
    "ExecuteTime": {
     "end_time": "2020-11-27T15:54:30.214834Z",
     "start_time": "2020-11-27T15:54:29.738967Z"
    }
   },
   "outputs": [
    {
     "data": {
      "text/plain": [
       "('2020-11-27T12:54:30', '2020-11-27T15:54:30')"
      ]
     },
     "execution_count": 9,
     "metadata": {},
     "output_type": "execute_result"
    }
   ],
   "source": [
    "date_now_local = datetime.now()\n",
    "offset_utc = 3. # use 3 (4) for Chile Summer (Winter) time, change for your time zone\n",
    "date_now_utc = date_now_local+timedelta(hours=offset_utc)\n",
    "\n",
    "date_now_local = date_now_local.strftime('%Y-%m-%dT%H:%M:%S')\n",
    "date_now_utc = date_now_utc.strftime('%Y-%m-%dT%H:%M:%S')\n",
    "\n",
    "date_now_local, date_now_utc"
   ]
  },
  {
   "cell_type": "markdown",
   "metadata": {
    "ExecuteTime": {
     "end_time": "2020-11-27T15:22:21.241834Z",
     "start_time": "2020-11-27T15:22:21.230689Z"
    }
   },
   "source": [
    "Save dataframe to csv file, file name will include the current datetime (defined above) in UTC format"
   ]
  },
  {
   "cell_type": "code",
   "execution_count": 10,
   "metadata": {
    "ExecuteTime": {
     "end_time": "2020-11-27T15:54:31.031103Z",
     "start_time": "2020-11-27T15:54:30.221215Z"
    },
    "scrolled": true
   },
   "outputs": [
    {
     "name": "stdout",
     "output_type": "stream",
     "text": [
      "Saved to file: out/coords_example_out_2020-11-27T15_54_30.000.csv\n"
     ]
    }
   ],
   "source": [
    "dir_out = 'out/' # can be changed to preferred directory\n",
    "\n",
    "date_now_utc = Time(date_now_utc, format='isot', scale='utc')\n",
    "\n",
    "namein = namefil.replace(dir_watchlists, '')\n",
    "namein = namein.replace('.csv', '_out_')\n",
    "\n",
    "namefil2 = dir_out+namein+str(date_now_utc).replace(':', '_')+'.csv' # can be changed to preferred file name\n",
    "objs_tot.to_csv(namefil2, index=False)\n",
    "\n",
    "print('Saved to file:', namefil2)"
   ]
  },
  {
   "cell_type": "markdown",
   "metadata": {},
   "source": [
    "Show Explorer link for each object. Allows to see the light curve, stamps, Aladin images, etc"
   ]
  },
  {
   "cell_type": "code",
   "execution_count": 11,
   "metadata": {
    "ExecuteTime": {
     "end_time": "2020-11-27T15:54:31.464080Z",
     "start_time": "2020-11-27T15:54:31.032809Z"
    },
    "scrolled": true
   },
   "outputs": [
    {
     "data": {
      "text/html": [
       "<a href='http://alerce.online/object/ZTF20abxgxjd' target=\"_blank\"> ZTF20abxgxjd <a>"
      ],
      "text/plain": [
       "<IPython.core.display.HTML object>"
      ]
     },
     "metadata": {},
     "output_type": "display_data"
    },
    {
     "data": {
      "text/html": [
       "<a href='http://alerce.online/object/ZTF19aagynyt' target=\"_blank\"> ZTF19aagynyt <a>"
      ],
      "text/plain": [
       "<IPython.core.display.HTML object>"
      ]
     },
     "metadata": {},
     "output_type": "display_data"
    },
    {
     "data": {
      "text/html": [
       "<a href='http://alerce.online/object/ZTF18acfwtjw' target=\"_blank\"> ZTF18acfwtjw <a>"
      ],
      "text/plain": [
       "<IPython.core.display.HTML object>"
      ]
     },
     "metadata": {},
     "output_type": "display_data"
    },
    {
     "data": {
      "text/html": [
       "<a href='http://alerce.online/object/ZTF20acounxo' target=\"_blank\"> ZTF20acounxo <a>"
      ],
      "text/plain": [
       "<IPython.core.display.HTML object>"
      ]
     },
     "metadata": {},
     "output_type": "display_data"
    },
    {
     "data": {
      "text/html": [
       "<a href='http://alerce.online/object/ZTF18acckgdl' target=\"_blank\"> ZTF18acckgdl <a>"
      ],
      "text/plain": [
       "<IPython.core.display.HTML object>"
      ]
     },
     "metadata": {},
     "output_type": "display_data"
    },
    {
     "data": {
      "text/html": [
       "<a href='http://alerce.online/object/ZTF19acchjhf' target=\"_blank\"> ZTF19acchjhf <a>"
      ],
      "text/plain": [
       "<IPython.core.display.HTML object>"
      ]
     },
     "metadata": {},
     "output_type": "display_data"
    },
    {
     "data": {
      "text/html": [
       "<a href='http://alerce.online/object/ZTF20actekrw' target=\"_blank\"> ZTF20actekrw <a>"
      ],
      "text/plain": [
       "<IPython.core.display.HTML object>"
      ]
     },
     "metadata": {},
     "output_type": "display_data"
    },
    {
     "data": {
      "text/html": [
       "<a href='http://alerce.online/object/ZTF19acxpwlq' target=\"_blank\"> ZTF19acxpwlq <a>"
      ],
      "text/plain": [
       "<IPython.core.display.HTML object>"
      ]
     },
     "metadata": {},
     "output_type": "display_data"
    },
    {
     "data": {
      "text/html": [
       "<a href='http://alerce.online/object/ZTF20actkmks' target=\"_blank\"> ZTF20actkmks <a>"
      ],
      "text/plain": [
       "<IPython.core.display.HTML object>"
      ]
     },
     "metadata": {},
     "output_type": "display_data"
    },
    {
     "data": {
      "text/html": [
       "<a href='http://alerce.online/object/ZTF19aanwkpn' target=\"_blank\"> ZTF19aanwkpn <a>"
      ],
      "text/plain": [
       "<IPython.core.display.HTML object>"
      ]
     },
     "metadata": {},
     "output_type": "display_data"
    },
    {
     "data": {
      "text/html": [
       "<a href='http://alerce.online/object/ZTF19aapecmv' target=\"_blank\"> ZTF19aapecmv <a>"
      ],
      "text/plain": [
       "<IPython.core.display.HTML object>"
      ]
     },
     "metadata": {},
     "output_type": "display_data"
    },
    {
     "data": {
      "text/html": [
       "<a href='http://alerce.online/object/ZTF20aaocjds' target=\"_blank\"> ZTF20aaocjds <a>"
      ],
      "text/plain": [
       "<IPython.core.display.HTML object>"
      ]
     },
     "metadata": {},
     "output_type": "display_data"
    },
    {
     "data": {
      "text/html": [
       "<a href='http://alerce.online/object/ZTF20actqtfk' target=\"_blank\"> ZTF20actqtfk <a>"
      ],
      "text/plain": [
       "<IPython.core.display.HTML object>"
      ]
     },
     "metadata": {},
     "output_type": "display_data"
    }
   ],
   "source": [
    "for oid in objs_tot['oid']:\n",
    "    display(HTML(\"<a href='http://alerce.online/object/%s' target=\\\"_blank\\\"> %s <a>\" % (oid, oid))) # online data\n",
    "    #display(HTML(\"<a href='http://dev.alerce.online/object/%s' target=\\\"_blank\\\"> %s <a>\" % (oid, oid))) # new Explorer"
   ]
  },
  {
   "cell_type": "markdown",
   "metadata": {},
   "source": [
    "Keep a copy of the previous dataframe"
   ]
  },
  {
   "cell_type": "code",
   "execution_count": 12,
   "metadata": {
    "ExecuteTime": {
     "end_time": "2020-11-27T15:54:31.783865Z",
     "start_time": "2020-11-27T15:54:31.466451Z"
    }
   },
   "outputs": [],
   "source": [
    "objs_tot_1 = objs_tot.copy()"
   ]
  },
  {
   "cell_type": "markdown",
   "metadata": {},
   "source": [
    "Define date criterion. Example: last 10 days (in MJD)"
   ]
  },
  {
   "cell_type": "code",
   "execution_count": 13,
   "metadata": {
    "ExecuteTime": {
     "end_time": "2020-11-27T15:54:31.874170Z",
     "start_time": "2020-11-27T15:54:31.788988Z"
    }
   },
   "outputs": [
    {
     "data": {
      "text/plain": [
       "59170.66284722222"
      ]
     },
     "execution_count": 13,
     "metadata": {},
     "output_type": "execute_result"
    }
   ],
   "source": [
    "ndays_lim = 10 # can be changed to preferred date criterion\n",
    "\n",
    "date_lim = Time(date_now_utc, format=\"isot\", scale=\"utc\").mjd\n",
    "date_lim = date_lim-ndays_lim\n",
    "\n",
    "date_lim"
   ]
  },
  {
   "cell_type": "markdown",
   "metadata": {},
   "source": [
    "Apply date criterion"
   ]
  },
  {
   "cell_type": "code",
   "execution_count": 14,
   "metadata": {
    "ExecuteTime": {
     "end_time": "2020-11-27T15:54:31.949839Z",
     "start_time": "2020-11-27T15:54:31.876081Z"
    },
    "scrolled": false
   },
   "outputs": [
    {
     "name": "stdout",
     "output_type": "stream",
     "text": [
      "Number of oids: 4\n"
     ]
    },
    {
     "data": {
      "text/html": [
       "<div>\n",
       "<style scoped>\n",
       "    .dataframe tbody tr th:only-of-type {\n",
       "        vertical-align: middle;\n",
       "    }\n",
       "\n",
       "    .dataframe tbody tr th {\n",
       "        vertical-align: top;\n",
       "    }\n",
       "\n",
       "    .dataframe thead th {\n",
       "        text-align: right;\n",
       "    }\n",
       "</style>\n",
       "<table border=\"1\" class=\"dataframe\">\n",
       "  <thead>\n",
       "    <tr style=\"text-align: right;\">\n",
       "      <th></th>\n",
       "      <th>name</th>\n",
       "      <th>ra</th>\n",
       "      <th>dec</th>\n",
       "      <th>r_deg</th>\n",
       "      <th>oid</th>\n",
       "      <th>nobs</th>\n",
       "      <th>meanra</th>\n",
       "      <th>meandec</th>\n",
       "      <th>deltajd</th>\n",
       "      <th>lastmjd</th>\n",
       "      <th>firstmjd</th>\n",
       "    </tr>\n",
       "  </thead>\n",
       "  <tbody>\n",
       "    <tr>\n",
       "      <th>3</th>\n",
       "      <td>IC2974</td>\n",
       "      <td>178.45304</td>\n",
       "      <td>-5.16783</td>\n",
       "      <td>0.013889</td>\n",
       "      <td>ZTF20acounxo</td>\n",
       "      <td>5</td>\n",
       "      <td>178.461030</td>\n",
       "      <td>-5.171459</td>\n",
       "      <td>7.078600</td>\n",
       "      <td>59180.562280</td>\n",
       "      <td>59173.483681</td>\n",
       "    </tr>\n",
       "    <tr>\n",
       "      <th>6</th>\n",
       "      <td>WISEAJ034717.72-082702.9</td>\n",
       "      <td>56.82375</td>\n",
       "      <td>-8.45089</td>\n",
       "      <td>0.013889</td>\n",
       "      <td>ZTF20actekrw</td>\n",
       "      <td>3</td>\n",
       "      <td>56.825589</td>\n",
       "      <td>-8.451758</td>\n",
       "      <td>2.020914</td>\n",
       "      <td>59178.318218</td>\n",
       "      <td>59176.297303</td>\n",
       "    </tr>\n",
       "    <tr>\n",
       "      <th>8</th>\n",
       "      <td>CGCG064-083</td>\n",
       "      <td>152.50105</td>\n",
       "      <td>11.91656</td>\n",
       "      <td>0.013889</td>\n",
       "      <td>ZTF20actkmks</td>\n",
       "      <td>3</td>\n",
       "      <td>152.504300</td>\n",
       "      <td>11.916155</td>\n",
       "      <td>2.972083</td>\n",
       "      <td>59179.463588</td>\n",
       "      <td>59176.491505</td>\n",
       "    </tr>\n",
       "    <tr>\n",
       "      <th>12</th>\n",
       "      <td>MCG-01-30-038</td>\n",
       "      <td>177.65333</td>\n",
       "      <td>-7.60794</td>\n",
       "      <td>0.013889</td>\n",
       "      <td>ZTF20actqtfk</td>\n",
       "      <td>2</td>\n",
       "      <td>177.651865</td>\n",
       "      <td>-7.606346</td>\n",
       "      <td>1.984190</td>\n",
       "      <td>59178.504352</td>\n",
       "      <td>59176.520162</td>\n",
       "    </tr>\n",
       "  </tbody>\n",
       "</table>\n",
       "</div>"
      ],
      "text/plain": [
       "                        name         ra       dec     r_deg           oid  \\\n",
       "3                     IC2974  178.45304  -5.16783  0.013889  ZTF20acounxo   \n",
       "6   WISEAJ034717.72-082702.9   56.82375  -8.45089  0.013889  ZTF20actekrw   \n",
       "8                CGCG064-083  152.50105  11.91656  0.013889  ZTF20actkmks   \n",
       "12             MCG-01-30-038  177.65333  -7.60794  0.013889  ZTF20actqtfk   \n",
       "\n",
       "   nobs      meanra    meandec   deltajd       lastmjd      firstmjd  \n",
       "3     5  178.461030  -5.171459  7.078600  59180.562280  59173.483681  \n",
       "6     3   56.825589  -8.451758  2.020914  59178.318218  59176.297303  \n",
       "8     3  152.504300  11.916155  2.972083  59179.463588  59176.491505  \n",
       "12    2  177.651865  -7.606346  1.984190  59178.504352  59176.520162  "
      ]
     },
     "execution_count": 14,
     "metadata": {},
     "output_type": "execute_result"
    }
   ],
   "source": [
    "objs_tot = objs_tot_1[objs_tot_1['lastmjd']>=date_lim]\n",
    "print('Number of oids:', len(objs_tot))\n",
    "objs_tot.head()"
   ]
  },
  {
   "cell_type": "markdown",
   "metadata": {},
   "source": [
    "Sort dataframe by last MJD where there are detections for each object, starting with most recent"
   ]
  },
  {
   "cell_type": "code",
   "execution_count": 15,
   "metadata": {
    "ExecuteTime": {
     "end_time": "2020-11-27T15:54:32.015752Z",
     "start_time": "2020-11-27T15:54:31.951456Z"
    },
    "scrolled": true
   },
   "outputs": [
    {
     "data": {
      "text/html": [
       "<div>\n",
       "<style scoped>\n",
       "    .dataframe tbody tr th:only-of-type {\n",
       "        vertical-align: middle;\n",
       "    }\n",
       "\n",
       "    .dataframe tbody tr th {\n",
       "        vertical-align: top;\n",
       "    }\n",
       "\n",
       "    .dataframe thead th {\n",
       "        text-align: right;\n",
       "    }\n",
       "</style>\n",
       "<table border=\"1\" class=\"dataframe\">\n",
       "  <thead>\n",
       "    <tr style=\"text-align: right;\">\n",
       "      <th></th>\n",
       "      <th>name</th>\n",
       "      <th>ra</th>\n",
       "      <th>dec</th>\n",
       "      <th>r_deg</th>\n",
       "      <th>oid</th>\n",
       "      <th>nobs</th>\n",
       "      <th>meanra</th>\n",
       "      <th>meandec</th>\n",
       "      <th>deltajd</th>\n",
       "      <th>lastmjd</th>\n",
       "      <th>firstmjd</th>\n",
       "    </tr>\n",
       "  </thead>\n",
       "  <tbody>\n",
       "    <tr>\n",
       "      <th>3</th>\n",
       "      <td>IC2974</td>\n",
       "      <td>178.45304</td>\n",
       "      <td>-5.16783</td>\n",
       "      <td>0.013889</td>\n",
       "      <td>ZTF20acounxo</td>\n",
       "      <td>5</td>\n",
       "      <td>178.461030</td>\n",
       "      <td>-5.171459</td>\n",
       "      <td>7.078600</td>\n",
       "      <td>59180.562280</td>\n",
       "      <td>59173.483681</td>\n",
       "    </tr>\n",
       "    <tr>\n",
       "      <th>8</th>\n",
       "      <td>CGCG064-083</td>\n",
       "      <td>152.50105</td>\n",
       "      <td>11.91656</td>\n",
       "      <td>0.013889</td>\n",
       "      <td>ZTF20actkmks</td>\n",
       "      <td>3</td>\n",
       "      <td>152.504300</td>\n",
       "      <td>11.916155</td>\n",
       "      <td>2.972083</td>\n",
       "      <td>59179.463588</td>\n",
       "      <td>59176.491505</td>\n",
       "    </tr>\n",
       "    <tr>\n",
       "      <th>12</th>\n",
       "      <td>MCG-01-30-038</td>\n",
       "      <td>177.65333</td>\n",
       "      <td>-7.60794</td>\n",
       "      <td>0.013889</td>\n",
       "      <td>ZTF20actqtfk</td>\n",
       "      <td>2</td>\n",
       "      <td>177.651865</td>\n",
       "      <td>-7.606346</td>\n",
       "      <td>1.984190</td>\n",
       "      <td>59178.504352</td>\n",
       "      <td>59176.520162</td>\n",
       "    </tr>\n",
       "    <tr>\n",
       "      <th>6</th>\n",
       "      <td>WISEAJ034717.72-082702.9</td>\n",
       "      <td>56.82375</td>\n",
       "      <td>-8.45089</td>\n",
       "      <td>0.013889</td>\n",
       "      <td>ZTF20actekrw</td>\n",
       "      <td>3</td>\n",
       "      <td>56.825589</td>\n",
       "      <td>-8.451758</td>\n",
       "      <td>2.020914</td>\n",
       "      <td>59178.318218</td>\n",
       "      <td>59176.297303</td>\n",
       "    </tr>\n",
       "  </tbody>\n",
       "</table>\n",
       "</div>"
      ],
      "text/plain": [
       "                        name         ra       dec     r_deg           oid  \\\n",
       "3                     IC2974  178.45304  -5.16783  0.013889  ZTF20acounxo   \n",
       "8                CGCG064-083  152.50105  11.91656  0.013889  ZTF20actkmks   \n",
       "12             MCG-01-30-038  177.65333  -7.60794  0.013889  ZTF20actqtfk   \n",
       "6   WISEAJ034717.72-082702.9   56.82375  -8.45089  0.013889  ZTF20actekrw   \n",
       "\n",
       "   nobs      meanra    meandec   deltajd       lastmjd      firstmjd  \n",
       "3     5  178.461030  -5.171459  7.078600  59180.562280  59173.483681  \n",
       "8     3  152.504300  11.916155  2.972083  59179.463588  59176.491505  \n",
       "12    2  177.651865  -7.606346  1.984190  59178.504352  59176.520162  \n",
       "6     3   56.825589  -8.451758  2.020914  59178.318218  59176.297303  "
      ]
     },
     "execution_count": 15,
     "metadata": {},
     "output_type": "execute_result"
    }
   ],
   "source": [
    "col_to_sort = 'lastmjd' # can be changed to preferred column\n",
    "ascending = False # if True, sorts from smallest to largest - can be changed to preferred sort\n",
    "\n",
    "objs_tot_sort = objs_tot.sort_values(by=[col_to_sort], ascending=ascending)\n",
    "objs_tot_sort.head(10)"
   ]
  },
  {
   "cell_type": "markdown",
   "metadata": {},
   "source": [
    "Show Explorer link for each object. Allows to see the light curve, stamps, Aladin images, etc (useful for small lists)"
   ]
  },
  {
   "cell_type": "code",
   "execution_count": 16,
   "metadata": {
    "ExecuteTime": {
     "end_time": "2020-11-27T15:54:32.088964Z",
     "start_time": "2020-11-27T15:54:32.017531Z"
    },
    "scrolled": true
   },
   "outputs": [
    {
     "data": {
      "text/html": [
       "<a href='http://alerce.online/object/ZTF20acounxo' target=\"_blank\"> ZTF20acounxo <a>"
      ],
      "text/plain": [
       "<IPython.core.display.HTML object>"
      ]
     },
     "metadata": {},
     "output_type": "display_data"
    },
    {
     "data": {
      "text/html": [
       "<a href='http://alerce.online/object/ZTF20actkmks' target=\"_blank\"> ZTF20actkmks <a>"
      ],
      "text/plain": [
       "<IPython.core.display.HTML object>"
      ]
     },
     "metadata": {},
     "output_type": "display_data"
    },
    {
     "data": {
      "text/html": [
       "<a href='http://alerce.online/object/ZTF20actqtfk' target=\"_blank\"> ZTF20actqtfk <a>"
      ],
      "text/plain": [
       "<IPython.core.display.HTML object>"
      ]
     },
     "metadata": {},
     "output_type": "display_data"
    },
    {
     "data": {
      "text/html": [
       "<a href='http://alerce.online/object/ZTF20actekrw' target=\"_blank\"> ZTF20actekrw <a>"
      ],
      "text/plain": [
       "<IPython.core.display.HTML object>"
      ]
     },
     "metadata": {},
     "output_type": "display_data"
    }
   ],
   "source": [
    "for oid in objs_tot_sort['oid']:\n",
    "    display(HTML(\"<a href='http://alerce.online/object/%s' target=\\\"_blank\\\"> %s <a>\" % (oid, oid))) # online data\n",
    "    #display(HTML(\"<a href='http://dev.alerce.online/object/%s' target=\\\"_blank\\\"> %s <a>\" % (oid, oid))) # new Explorer"
   ]
  },
  {
   "cell_type": "markdown",
   "metadata": {},
   "source": [
    "Save dataframe to csv file, file name will include the current datetime (defined above) in UTC format and date criterion"
   ]
  },
  {
   "cell_type": "code",
   "execution_count": 17,
   "metadata": {
    "ExecuteTime": {
     "end_time": "2020-11-27T15:54:32.153233Z",
     "start_time": "2020-11-27T15:54:32.091074Z"
    },
    "scrolled": true
   },
   "outputs": [
    {
     "name": "stdout",
     "output_type": "stream",
     "text": [
      "Saved to file: out/coords_example_out_2020-11-27T15_54_30.000_last10days.csv\n"
     ]
    }
   ],
   "source": [
    "namefil3 = dir_out+namein+str(date_now_utc).replace(':', '_')+'_last'+str(int(ndays_lim))+'days.csv' # can be changed to preferred file name\n",
    "objs_tot_sort.to_csv(namefil3, index=False)\n",
    "\n",
    "print('Saved to file:', namefil3)"
   ]
  },
  {
   "cell_type": "markdown",
   "metadata": {},
   "source": [
    "Close connection to DB"
   ]
  },
  {
   "cell_type": "code",
   "execution_count": 18,
   "metadata": {
    "ExecuteTime": {
     "end_time": "2020-11-27T15:54:32.218533Z",
     "start_time": "2020-11-27T15:54:32.154971Z"
    }
   },
   "outputs": [],
   "source": [
    "conn.close()"
   ]
  },
  {
   "cell_type": "code",
   "execution_count": null,
   "metadata": {},
   "outputs": [],
   "source": []
  }
 ],
 "metadata": {
  "kernelspec": {
   "display_name": "Python 3",
   "language": "python",
   "name": "python3"
  },
  "language_info": {
   "codemirror_mode": {
    "name": "ipython",
    "version": 3
   },
   "file_extension": ".py",
   "mimetype": "text/x-python",
   "name": "python",
   "nbconvert_exporter": "python",
   "pygments_lexer": "ipython3",
   "version": "3.7.5"
  }
 },
 "nbformat": 4,
 "nbformat_minor": 4
}
