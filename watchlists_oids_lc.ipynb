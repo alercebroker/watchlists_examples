{
 "cells": [
  {
   "cell_type": "markdown",
   "metadata": {},
   "source": [
    "# ALeRCE watchlists, list of oids, show light curves\n",
    "\n",
    "```Author: Alejandra Muñoz Arancibia```\n",
    "\n",
    "ALeRCE notebook\n",
    "\n",
    "Read a list of object identifiers, connect to the database and display their light curves. Can choose between difference/corrected magnitudes, rest-frame, extinction-corrected, etc"
   ]
  },
  {
   "cell_type": "code",
   "execution_count": 1,
   "metadata": {
    "ExecuteTime": {
     "end_time": "2020-11-27T20:55:37.660275Z",
     "start_time": "2020-11-27T20:55:37.651922Z"
    }
   },
   "outputs": [
    {
     "data": {
      "text/html": [
       "<style>.container { width:100% !important; }</style>"
      ],
      "text/plain": [
       "<IPython.core.display.HTML object>"
      ]
     },
     "metadata": {},
     "output_type": "display_data"
    }
   ],
   "source": [
    "from IPython.core.display import display, HTML\n",
    "display(HTML(\"<style>.container { width:100% !important; }</style>\"))"
   ]
  },
  {
   "cell_type": "code",
   "execution_count": 2,
   "metadata": {
    "ExecuteTime": {
     "end_time": "2020-11-27T20:55:38.749186Z",
     "start_time": "2020-11-27T20:55:37.661714Z"
    }
   },
   "outputs": [],
   "source": [
    "import pandas as pd\n",
    "import numpy as np\n",
    "import matplotlib.pyplot as plt\n",
    "import astropy.units as u\n",
    "from astropy import coordinates\n",
    "from astropy.time import Time\n",
    "from astropy.coordinates import Distance\n",
    "from astropy.cosmology import WMAP7\n",
    "from astroquery.ned import Ned\n",
    "from astroquery.irsa_dust import IrsaDust\n",
    "import psycopg2\n",
    "from IPython.display import HTML\n",
    "from ipywidgets import Layout, Box, widgets\n",
    "import ipyaladin as ipyal\n",
    "import os, sys\n",
    "import json"
   ]
  },
  {
   "cell_type": "markdown",
   "metadata": {},
   "source": [
    "Functions for plotting light curves, finding crossmatches in NED and showing Aladin images"
   ]
  },
  {
   "cell_type": "code",
   "execution_count": 3,
   "metadata": {
    "ExecuteTime": {
     "end_time": "2020-11-27T20:55:38.754326Z",
     "start_time": "2020-11-27T20:55:38.751266Z"
    }
   },
   "outputs": [],
   "source": [
    "# color blind friendly green and red \n",
    "colors = {1: '#56E03A', 2: '#D42F4B'}"
   ]
  },
  {
   "cell_type": "code",
   "execution_count": 4,
   "metadata": {
    "ExecuteTime": {
     "end_time": "2020-11-27T20:55:38.829762Z",
     "start_time": "2020-11-27T20:55:38.756414Z"
    }
   },
   "outputs": [],
   "source": [
    "def plotLCcorr(oid, sample_det, A=None, redshift=None, diffmag=False):\n",
    "    fig, ax = plt.subplots(figsize=(14, 7))\n",
    "    labels = {1: 'g', 2: 'r'}\n",
    "    markers = {1: 'o', 2: 's'}\n",
    "    sizes = {1: 30, 2: 40}\n",
    "    \n",
    "    # distmod: distance modulus, reftime: reference time\n",
    "    if redshift is not None:\n",
    "        distmod = float(Distance(z=redshift, cosmology=WMAP7).distmod/u.mag)\n",
    "        reftime = sample_det.mjd.min()\n",
    "    else:\n",
    "        distmod = 0\n",
    "        reftime = 0\n",
    "        redshift = 0\n",
    "    \n",
    "    # loop the passbands\n",
    "    for fid in [1, 2]:\n",
    "        # galactic extinction in the given band\n",
    "        if A is not None:\n",
    "            A_fid = A[labels[fid]]\n",
    "        else:\n",
    "            A_fid = 0\n",
    "\n",
    "        # plot detections if available\n",
    "        mask = sample_det.fid == fid\n",
    "        if np.sum(mask) > 0:\n",
    "            # change time to restframe days if redshift is not zero\n",
    "            times = (sample_det[mask].mjd-reftime)/(1.+redshift)\n",
    "            \n",
    "            if diffmag:\n",
    "                # note that the detections index is candid and that we are plotting the psf corrected magnitudes\n",
    "                if A_fid != 0:\n",
    "                    # plot attenuated light curve with small alpha\n",
    "                    ax.errorbar(times, sample_det[mask].magpsf-distmod,\n",
    "                        yerr=sample_det[mask].sigmapsf, c=colors[fid], marker=markers[fid], label=labels[fid],\n",
    "                        alpha=0.1, linestyle='None')\n",
    "                    # show dust attenuation corrected light curve\n",
    "                    ax.errorbar(times, sample_det[mask].magpsf-A_fid-distmod, \n",
    "                        yerr=sample_det[mask].sigmapsf, c=colors[fid], marker=markers[fid],\n",
    "                        label='%s (ext. corr.)' % labels[fid], linestyle='None')\n",
    "                else:\n",
    "                    # plot attenuated light curve\n",
    "                    ax.errorbar(times, sample_det[mask].magpsf,\n",
    "                        yerr=sample_det[mask].sigmapsf, c=colors[fid], marker=markers[fid], label=labels[fid],\n",
    "                        linestyle='None')\n",
    "            else:\n",
    "                mask2 = sample_det[mask].sigmapsf_corr<=1.\n",
    "                \n",
    "                # note that the detections index is candid and that we are plotting the psf corrected magnitudes\n",
    "                if A_fid != 0:\n",
    "                    # plot attenuated light curve with small alpha\n",
    "                    ax.errorbar(times[mask2], sample_det[mask].magpsf_corr[mask2]-distmod,\n",
    "                        yerr=sample_det[mask].sigmapsf_corr[mask2], c=colors[fid], marker=markers[fid], label=labels[fid],\n",
    "                        alpha=0.1, linestyle='None')\n",
    "                    # show dust attenuation corrected light curve\n",
    "                    ax.errorbar(times[mask2], sample_det[mask].magpsf_corr[mask2]-A_fid-distmod, \n",
    "                        yerr=sample_det[mask].sigmapsf_corr[mask2], c=colors[fid], marker=markers[fid],\n",
    "                        label='%s (ext. corr.)' % labels[fid], linestyle='None')\n",
    "                else:\n",
    "                    # plot attenuated light curve\n",
    "                    ax.errorbar(times[mask2], sample_det[mask].magpsf_corr[mask2]-distmod,\n",
    "                        yerr=sample_det[mask].sigmapsf_corr[mask2], c=colors[fid], marker=markers[fid], label=labels[fid],\n",
    "                        linestyle='None')\n",
    "    \n",
    "    # labels\n",
    "    if A is not None and redshift != 0:\n",
    "        ax.set_title('%s ($A_g=%.3f, A_r=%.3f$, z=%.4f)' % (oid, A['g'], A['r'], redshift))\n",
    "    elif redshift != 0:\n",
    "        ax.set_title('%s (z=%.4f)' % (oid, redshift))\n",
    "    elif A is not None:\n",
    "        ax.set_title('%s ($A_g=%.3f, A_r=%.3f$)' % (oid, A['g'], A['r']))\n",
    "    else:\n",
    "        ax.set_title(oid)\n",
    "        \n",
    "    if redshift == 0:\n",
    "        ax.set_xlabel('MJD')\n",
    "        if diffmag:\n",
    "            ax.set_ylabel('Difference magnitude')\n",
    "        else:\n",
    "            ax.set_ylabel('Apparent magnitude')\n",
    "    else:\n",
    "        ax.set_xlabel('Rest-frame time [days]')\n",
    "        ax.set_ylabel('Absolute magnitude (no K-corr.)')\n",
    "    ax.legend()\n",
    "    ax.set_ylim(ax.get_ylim()[::-1])"
   ]
  },
  {
   "cell_type": "code",
   "execution_count": 5,
   "metadata": {
    "ExecuteTime": {
     "end_time": "2020-11-27T20:55:38.924898Z",
     "start_time": "2020-11-27T20:55:38.832349Z"
    }
   },
   "outputs": [],
   "source": [
    "info = widgets.HTML()\n",
    "\n",
    "def process_objectHovered(data):\n",
    "    output = \"<font color='red'>\"\n",
    "    for key in sel_keys:\n",
    "        if key in data['data'].keys():\n",
    "            output += \"<p><font size='1'>%s: %s</p>\" % (key, data['data'][key])\n",
    "    info.value = '%s' % output"
   ]
  },
  {
   "cell_type": "code",
   "execution_count": 6,
   "metadata": {
    "ExecuteTime": {
     "end_time": "2020-11-27T20:55:39.013816Z",
     "start_time": "2020-11-27T20:55:38.926709Z"
    }
   },
   "outputs": [],
   "source": [
    "def show_image(results):\n",
    "    aladin= ipyal.Aladin(target='%s %s' % (float(results['meanra']), float(results['meandec'])), \n",
    "                fov=0.04, survey='P/PanSTARRS/DR1/color-z-zg-g',\n",
    "                reticle_size=64,\n",
    "                layout=Layout(width='70%'))\n",
    "    box_layout = Layout(display='flex', flex_flow='row', align_items='stretch', width='100%')\n",
    "    box = Box(children=[aladin, info], layout=box_layout)\n",
    "    display(box)\n",
    "    aladin.add_listener('objectHovered', process_objectHovered)\n",
    "    display('Hover mouse to see information about catalog objects')"
   ]
  },
  {
   "cell_type": "code",
   "execution_count": 7,
   "metadata": {
    "ExecuteTime": {
     "end_time": "2020-11-27T20:55:39.080774Z",
     "start_time": "2020-11-27T20:55:39.015997Z"
    }
   },
   "outputs": [],
   "source": [
    "def getobjdata(oid, dets, doLC=False, doext=False, doNED=False, doredshift=False, diffmag=False, showlink=False,\n",
    "               showimage=False):\n",
    "    if showlink:\n",
    "        display(HTML(\"<a href='http://alerce.online/object/%s' target=\\\"_blank\\\"> %s <a>\" % (oid, oid)))\n",
    "    \n",
    "    results = {'oid': oid}\n",
    "    results['lc_det'] = dets\n",
    "    results['meanra'] = float(np.mean(results['lc_det']['ra']))\n",
    "    results['meandec'] = float(np.mean(results['lc_det']['dec']))\n",
    "    \n",
    "    coords = coordinates.SkyCoord(ra=float(results['meanra']), dec=float(results['meandec']), unit=(u.deg, u.deg), frame='icrs')\n",
    "    \n",
    "    # get Galactic extinction\n",
    "    if doext:\n",
    "        # Galactic extinction (use SFD = D.J. Schlegel, D.P. Finkbeiner, & M. Davis (1998, ApJ, 500, 525))\n",
    "        table = IrsaDust.get_extinction_table(coords)\n",
    "        A = {'g': float(table[table['Filter_name'] == 'SDSS g']['A_SFD']), 'r': float(table[table['Filter_name'] == 'SDSS r']['A_SFD'])}\n",
    "        results[\"attenuation\"] = A\n",
    "    else:\n",
    "        A = {'g': 0, 'r': 0}\n",
    "    \n",
    "    # plot the LC\n",
    "    if doLC:\n",
    "        if doext:\n",
    "            plotLCcorr(oid, results['lc_det'], A, diffmag=diffmag)\n",
    "        else:\n",
    "            plotLCcorr(oid, results['lc_det'], diffmag=diffmag)\n",
    "    \n",
    "    # find NED galaxies\n",
    "    if doNED:\n",
    "        Ned_table = Ned.query_region(coords, radius=0.01*u.deg, equinox='J2000.0')\n",
    "        display(Ned_table)\n",
    "        results['ned_table'] = Ned_table\n",
    "        \n",
    "        # save closest redshift if any\n",
    "        df_ned = Ned_table.to_pandas()\n",
    "        mask = df_ned.Redshift.notna()\n",
    "        if mask.sum() > 0:\n",
    "            results['redshift'] = df_ned.loc[df_ned.loc[mask].Separation.idxmin()].Redshift\n",
    "            display('Redshift found: %s' % results['redshift'])\n",
    "            \n",
    "    # plot absolute value (without K-corrections)\n",
    "    if doredshift:\n",
    "        if type(doredshift) == float and doredshift > 0:\n",
    "            results['redshift'] = doredshift\n",
    "        if 'redshift' in results.keys():\n",
    "            if doext:\n",
    "                plotLCcorr(oid, results['lc_det'], A, results['redshift'], diffmag)\n",
    "            else:\n",
    "                plotLCcorr(oid, results['lc_det'], results['redshift'], diffmag)\n",
    "    \n",
    "    \n",
    "    \n",
    "    if showimage:\n",
    "        show_image(results)\n",
    "    \n",
    "    return results"
   ]
  },
  {
   "cell_type": "markdown",
   "metadata": {},
   "source": [
    "Connect to DB"
   ]
  },
  {
   "cell_type": "code",
   "execution_count": 8,
   "metadata": {
    "ExecuteTime": {
     "end_time": "2020-11-27T20:55:40.617708Z",
     "start_time": "2020-11-27T20:55:39.083855Z"
    }
   },
   "outputs": [],
   "source": [
    "dir_dbfile = '../usecases/' # can be changed to preferred directory\n",
    "credentials_file = dir_dbfile+'alercereaduser_v2.json' # online data\n",
    "#credentials_file = dir_dbfile+'alercereaduser_v3.json' # new db\n",
    "\n",
    "with open(credentials_file) as jsonfile:\n",
    "    params = json.load(jsonfile)[\"params\"]\n",
    "\n",
    "conn = psycopg2.connect(dbname=params['dbname'], user=params['user'], host=params['host'],\n",
    "                        password=params['password'])"
   ]
  },
  {
   "cell_type": "markdown",
   "metadata": {},
   "source": [
    "Define directory and input file names"
   ]
  },
  {
   "cell_type": "code",
   "execution_count": 9,
   "metadata": {
    "ExecuteTime": {
     "end_time": "2020-11-27T20:55:40.631474Z",
     "start_time": "2020-11-27T20:55:40.623082Z"
    }
   },
   "outputs": [],
   "source": [
    "#dir_watchlists = 'example_tables/' # can be changed to preferred directory\n",
    "#namefil = dir_watchlists+'sources_example.csv' # can be changed to preferred file\n",
    "\n",
    "dir_watchlists_out = 'out/' # can be changed to preferred directory\n",
    "namefil = dir_watchlists_out+'sources_example_out_2020-11-27T19_32_31.000_last10days.csv' # can be changed to preferred file\n",
    "#namefil = dir_watchlists_out+'coords_example_out_2020-11-27T15_54_30.000_last10days.csv' # can be changed to preferred file"
   ]
  },
  {
   "cell_type": "markdown",
   "metadata": {},
   "source": [
    "Input csv file structure: 1 line header, includes at least a column having oids (e.g. the file can be the input file to watchlists_oids.ipynb, any of the output lists from watchlists_oids.ipynb or watchlists_coords.ipynb, etc)"
   ]
  },
  {
   "cell_type": "code",
   "execution_count": 10,
   "metadata": {
    "ExecuteTime": {
     "end_time": "2020-11-27T20:55:40.848412Z",
     "start_time": "2020-11-27T20:55:40.636610Z"
    },
    "scrolled": true
   },
   "outputs": [
    {
     "data": {
      "text/html": [
       "<div>\n",
       "<style scoped>\n",
       "    .dataframe tbody tr th:only-of-type {\n",
       "        vertical-align: middle;\n",
       "    }\n",
       "\n",
       "    .dataframe tbody tr th {\n",
       "        vertical-align: top;\n",
       "    }\n",
       "\n",
       "    .dataframe thead th {\n",
       "        text-align: right;\n",
       "    }\n",
       "</style>\n",
       "<table border=\"1\" class=\"dataframe\">\n",
       "  <thead>\n",
       "    <tr style=\"text-align: right;\">\n",
       "      <th></th>\n",
       "      <th>nobs</th>\n",
       "      <th>mean_magap_g</th>\n",
       "      <th>mean_magap_r</th>\n",
       "      <th>median_magap_g</th>\n",
       "      <th>median_magap_r</th>\n",
       "      <th>max_magap_g</th>\n",
       "      <th>max_magap_r</th>\n",
       "      <th>min_magap_g</th>\n",
       "      <th>min_magap_r</th>\n",
       "      <th>sigma_magap_g</th>\n",
       "      <th>...</th>\n",
       "      <th>deltajd</th>\n",
       "      <th>lastmjd</th>\n",
       "      <th>firstmjd</th>\n",
       "      <th>period</th>\n",
       "      <th>catalogid</th>\n",
       "      <th>classxmatch</th>\n",
       "      <th>classrf</th>\n",
       "      <th>pclassrf</th>\n",
       "      <th>pclassearly</th>\n",
       "      <th>classearly</th>\n",
       "    </tr>\n",
       "    <tr>\n",
       "      <th>oid</th>\n",
       "      <th></th>\n",
       "      <th></th>\n",
       "      <th></th>\n",
       "      <th></th>\n",
       "      <th></th>\n",
       "      <th></th>\n",
       "      <th></th>\n",
       "      <th></th>\n",
       "      <th></th>\n",
       "      <th></th>\n",
       "      <th></th>\n",
       "      <th></th>\n",
       "      <th></th>\n",
       "      <th></th>\n",
       "      <th></th>\n",
       "      <th></th>\n",
       "      <th></th>\n",
       "      <th></th>\n",
       "      <th></th>\n",
       "      <th></th>\n",
       "      <th></th>\n",
       "    </tr>\n",
       "  </thead>\n",
       "  <tbody>\n",
       "    <tr>\n",
       "      <th>ZTF18absggyi</th>\n",
       "      <td>166</td>\n",
       "      <td>15.693993</td>\n",
       "      <td>15.331590</td>\n",
       "      <td>15.862771</td>\n",
       "      <td>15.439172</td>\n",
       "      <td>16.128538</td>\n",
       "      <td>15.657760</td>\n",
       "      <td>14.761267</td>\n",
       "      <td>14.694319</td>\n",
       "      <td>0.346296</td>\n",
       "      <td>...</td>\n",
       "      <td>817.916319</td>\n",
       "      <td>59180.166528</td>\n",
       "      <td>58362.250208</td>\n",
       "      <td>NaN</td>\n",
       "      <td>NaN</td>\n",
       "      <td>NaN</td>\n",
       "      <td>5</td>\n",
       "      <td>0.956160</td>\n",
       "      <td>0.988680</td>\n",
       "      <td>20</td>\n",
       "    </tr>\n",
       "    <tr>\n",
       "      <th>ZTF18acurdfi</th>\n",
       "      <td>137</td>\n",
       "      <td>17.580142</td>\n",
       "      <td>16.957054</td>\n",
       "      <td>17.652945</td>\n",
       "      <td>17.070848</td>\n",
       "      <td>18.107182</td>\n",
       "      <td>17.857178</td>\n",
       "      <td>16.648235</td>\n",
       "      <td>16.076652</td>\n",
       "      <td>0.352519</td>\n",
       "      <td>...</td>\n",
       "      <td>718.064178</td>\n",
       "      <td>59179.525139</td>\n",
       "      <td>58461.460961</td>\n",
       "      <td>NaN</td>\n",
       "      <td>NaN</td>\n",
       "      <td>NaN</td>\n",
       "      <td>8</td>\n",
       "      <td>0.715444</td>\n",
       "      <td>0.821519</td>\n",
       "      <td>19</td>\n",
       "    </tr>\n",
       "    <tr>\n",
       "      <th>ZTF20abyptpc</th>\n",
       "      <td>73</td>\n",
       "      <td>15.991961</td>\n",
       "      <td>15.697200</td>\n",
       "      <td>15.604600</td>\n",
       "      <td>15.397000</td>\n",
       "      <td>17.747999</td>\n",
       "      <td>17.818800</td>\n",
       "      <td>14.616600</td>\n",
       "      <td>14.634500</td>\n",
       "      <td>1.211162</td>\n",
       "      <td>...</td>\n",
       "      <td>79.793981</td>\n",
       "      <td>59178.154525</td>\n",
       "      <td>59098.360544</td>\n",
       "      <td>NaN</td>\n",
       "      <td>NaN</td>\n",
       "      <td>NaN</td>\n",
       "      <td>12</td>\n",
       "      <td>0.256896</td>\n",
       "      <td>0.628658</td>\n",
       "      <td>19</td>\n",
       "    </tr>\n",
       "  </tbody>\n",
       "</table>\n",
       "<p>3 rows × 43 columns</p>\n",
       "</div>"
      ],
      "text/plain": [
       "              nobs  mean_magap_g  mean_magap_r  median_magap_g  \\\n",
       "oid                                                              \n",
       "ZTF18absggyi   166     15.693993     15.331590       15.862771   \n",
       "ZTF18acurdfi   137     17.580142     16.957054       17.652945   \n",
       "ZTF20abyptpc    73     15.991961     15.697200       15.604600   \n",
       "\n",
       "              median_magap_r  max_magap_g  max_magap_r  min_magap_g  \\\n",
       "oid                                                                   \n",
       "ZTF18absggyi       15.439172    16.128538    15.657760    14.761267   \n",
       "ZTF18acurdfi       17.070848    18.107182    17.857178    16.648235   \n",
       "ZTF20abyptpc       15.397000    17.747999    17.818800    14.616600   \n",
       "\n",
       "              min_magap_r  sigma_magap_g  ...     deltajd       lastmjd  \\\n",
       "oid                                       ...                             \n",
       "ZTF18absggyi    14.694319       0.346296  ...  817.916319  59180.166528   \n",
       "ZTF18acurdfi    16.076652       0.352519  ...  718.064178  59179.525139   \n",
       "ZTF20abyptpc    14.634500       1.211162  ...   79.793981  59178.154525   \n",
       "\n",
       "                  firstmjd  period  catalogid  classxmatch  classrf  pclassrf  \\\n",
       "oid                                                                             \n",
       "ZTF18absggyi  58362.250208     NaN        NaN          NaN        5  0.956160   \n",
       "ZTF18acurdfi  58461.460961     NaN        NaN          NaN        8  0.715444   \n",
       "ZTF20abyptpc  59098.360544     NaN        NaN          NaN       12  0.256896   \n",
       "\n",
       "              pclassearly  classearly  \n",
       "oid                                    \n",
       "ZTF18absggyi     0.988680          20  \n",
       "ZTF18acurdfi     0.821519          19  \n",
       "ZTF20abyptpc     0.628658          19  \n",
       "\n",
       "[3 rows x 43 columns]"
      ]
     },
     "metadata": {},
     "output_type": "display_data"
    },
    {
     "name": "stdout",
     "output_type": "stream",
     "text": [
      "Number of oids: 3\n"
     ]
    }
   ],
   "source": [
    "objs = pd.read_csv(namefil, sep=',', skip_blank_lines=True)\n",
    "objs['oid'] = objs['oid'].str.replace(' ', '') # remove any space in oid\n",
    "objs.set_index('oid', inplace=True)\n",
    "\n",
    "display(objs.head())\n",
    "print('Number of oids:', len(objs))"
   ]
  },
  {
   "cell_type": "markdown",
   "metadata": {},
   "source": [
    "Query detections for list of oids"
   ]
  },
  {
   "cell_type": "code",
   "execution_count": 11,
   "metadata": {
    "ExecuteTime": {
     "end_time": "2020-11-27T20:55:42.192979Z",
     "start_time": "2020-11-27T20:55:40.850029Z"
    }
   },
   "outputs": [
    {
     "data": {
      "text/html": [
       "<div>\n",
       "<style scoped>\n",
       "    .dataframe tbody tr th:only-of-type {\n",
       "        vertical-align: middle;\n",
       "    }\n",
       "\n",
       "    .dataframe tbody tr th {\n",
       "        vertical-align: top;\n",
       "    }\n",
       "\n",
       "    .dataframe thead th {\n",
       "        text-align: right;\n",
       "    }\n",
       "</style>\n",
       "<table border=\"1\" class=\"dataframe\">\n",
       "  <thead>\n",
       "    <tr style=\"text-align: right;\">\n",
       "      <th></th>\n",
       "      <th>candid</th>\n",
       "      <th>mjd</th>\n",
       "      <th>fid</th>\n",
       "      <th>diffmaglim</th>\n",
       "      <th>magpsf</th>\n",
       "      <th>magap</th>\n",
       "      <th>sigmapsf</th>\n",
       "      <th>sigmagap</th>\n",
       "      <th>ra</th>\n",
       "      <th>dec</th>\n",
       "      <th>...</th>\n",
       "      <th>rcid</th>\n",
       "      <th>magnr</th>\n",
       "      <th>sigmagnr</th>\n",
       "      <th>rb</th>\n",
       "      <th>magpsf_corr</th>\n",
       "      <th>magap_corr</th>\n",
       "      <th>sigmapsf_corr</th>\n",
       "      <th>sigmagap_corr</th>\n",
       "      <th>has_stamps</th>\n",
       "      <th>parent_candid</th>\n",
       "    </tr>\n",
       "    <tr>\n",
       "      <th>oid</th>\n",
       "      <th></th>\n",
       "      <th></th>\n",
       "      <th></th>\n",
       "      <th></th>\n",
       "      <th></th>\n",
       "      <th></th>\n",
       "      <th></th>\n",
       "      <th></th>\n",
       "      <th></th>\n",
       "      <th></th>\n",
       "      <th></th>\n",
       "      <th></th>\n",
       "      <th></th>\n",
       "      <th></th>\n",
       "      <th></th>\n",
       "      <th></th>\n",
       "      <th></th>\n",
       "      <th></th>\n",
       "      <th></th>\n",
       "      <th></th>\n",
       "      <th></th>\n",
       "    </tr>\n",
       "  </thead>\n",
       "  <tbody>\n",
       "    <tr>\n",
       "      <th>ZTF18acurdfi</th>\n",
       "      <td>892212531115010001</td>\n",
       "      <td>58646.212535</td>\n",
       "      <td>2</td>\n",
       "      <td>19.205959</td>\n",
       "      <td>16.763723</td>\n",
       "      <td>16.803900</td>\n",
       "      <td>0.052413</td>\n",
       "      <td>0.0431</td>\n",
       "      <td>164.623366</td>\n",
       "      <td>1.566371</td>\n",
       "      <td>...</td>\n",
       "      <td>11</td>\n",
       "      <td>15.964</td>\n",
       "      <td>0.013</td>\n",
       "      <td>0.930000</td>\n",
       "      <td>16.671389</td>\n",
       "      <td>16.635753</td>\n",
       "      <td>0.054217</td>\n",
       "      <td>0.044106</td>\n",
       "      <td>None</td>\n",
       "      <td>NaN</td>\n",
       "    </tr>\n",
       "    <tr>\n",
       "      <th>ZTF18acurdfi</th>\n",
       "      <td>886219681115010002</td>\n",
       "      <td>58640.219688</td>\n",
       "      <td>2</td>\n",
       "      <td>20.024368</td>\n",
       "      <td>16.668154</td>\n",
       "      <td>16.759399</td>\n",
       "      <td>0.058285</td>\n",
       "      <td>0.0201</td>\n",
       "      <td>164.623361</td>\n",
       "      <td>1.566359</td>\n",
       "      <td>...</td>\n",
       "      <td>11</td>\n",
       "      <td>15.964</td>\n",
       "      <td>0.013</td>\n",
       "      <td>0.910000</td>\n",
       "      <td>16.767256</td>\n",
       "      <td>16.675375</td>\n",
       "      <td>0.069424</td>\n",
       "      <td>0.031188</td>\n",
       "      <td>None</td>\n",
       "      <td>NaN</td>\n",
       "    </tr>\n",
       "    <tr>\n",
       "      <th>ZTF18acurdfi</th>\n",
       "      <td>886171081115010001</td>\n",
       "      <td>58640.171088</td>\n",
       "      <td>1</td>\n",
       "      <td>19.816572</td>\n",
       "      <td>18.236980</td>\n",
       "      <td>18.153799</td>\n",
       "      <td>0.112206</td>\n",
       "      <td>0.0771</td>\n",
       "      <td>164.623299</td>\n",
       "      <td>1.566415</td>\n",
       "      <td>...</td>\n",
       "      <td>11</td>\n",
       "      <td>16.848</td>\n",
       "      <td>0.017</td>\n",
       "      <td>0.968571</td>\n",
       "      <td>17.202006</td>\n",
       "      <td>17.235854</td>\n",
       "      <td>0.049251</td>\n",
       "      <td>0.041065</td>\n",
       "      <td>None</td>\n",
       "      <td>NaN</td>\n",
       "    </tr>\n",
       "    <tr>\n",
       "      <th>ZTF18acurdfi</th>\n",
       "      <td>883216791115010002</td>\n",
       "      <td>58637.216794</td>\n",
       "      <td>1</td>\n",
       "      <td>20.177649</td>\n",
       "      <td>18.271612</td>\n",
       "      <td>18.144699</td>\n",
       "      <td>0.097139</td>\n",
       "      <td>0.0553</td>\n",
       "      <td>164.623346</td>\n",
       "      <td>1.566361</td>\n",
       "      <td>...</td>\n",
       "      <td>11</td>\n",
       "      <td>16.848</td>\n",
       "      <td>0.017</td>\n",
       "      <td>0.945714</td>\n",
       "      <td>17.188946</td>\n",
       "      <td>17.239785</td>\n",
       "      <td>0.042730</td>\n",
       "      <td>0.034237</td>\n",
       "      <td>None</td>\n",
       "      <td>NaN</td>\n",
       "    </tr>\n",
       "    <tr>\n",
       "      <th>ZTF18acurdfi</th>\n",
       "      <td>883179981115010001</td>\n",
       "      <td>58637.179988</td>\n",
       "      <td>2</td>\n",
       "      <td>20.340759</td>\n",
       "      <td>16.711542</td>\n",
       "      <td>16.790600</td>\n",
       "      <td>0.064050</td>\n",
       "      <td>0.0183</td>\n",
       "      <td>164.623356</td>\n",
       "      <td>1.566350</td>\n",
       "      <td>...</td>\n",
       "      <td>11</td>\n",
       "      <td>15.964</td>\n",
       "      <td>0.013</td>\n",
       "      <td>0.828571</td>\n",
       "      <td>16.721631</td>\n",
       "      <td>16.647276</td>\n",
       "      <td>0.069726</td>\n",
       "      <td>0.029192</td>\n",
       "      <td>None</td>\n",
       "      <td>NaN</td>\n",
       "    </tr>\n",
       "  </tbody>\n",
       "</table>\n",
       "<p>5 rows × 26 columns</p>\n",
       "</div>"
      ],
      "text/plain": [
       "                          candid           mjd  fid  diffmaglim     magpsf  \\\n",
       "oid                                                                          \n",
       "ZTF18acurdfi  892212531115010001  58646.212535    2   19.205959  16.763723   \n",
       "ZTF18acurdfi  886219681115010002  58640.219688    2   20.024368  16.668154   \n",
       "ZTF18acurdfi  886171081115010001  58640.171088    1   19.816572  18.236980   \n",
       "ZTF18acurdfi  883216791115010002  58637.216794    1   20.177649  18.271612   \n",
       "ZTF18acurdfi  883179981115010001  58637.179988    2   20.340759  16.711542   \n",
       "\n",
       "                  magap  sigmapsf  sigmagap          ra       dec  ...  rcid  \\\n",
       "oid                                                                ...         \n",
       "ZTF18acurdfi  16.803900  0.052413    0.0431  164.623366  1.566371  ...    11   \n",
       "ZTF18acurdfi  16.759399  0.058285    0.0201  164.623361  1.566359  ...    11   \n",
       "ZTF18acurdfi  18.153799  0.112206    0.0771  164.623299  1.566415  ...    11   \n",
       "ZTF18acurdfi  18.144699  0.097139    0.0553  164.623346  1.566361  ...    11   \n",
       "ZTF18acurdfi  16.790600  0.064050    0.0183  164.623356  1.566350  ...    11   \n",
       "\n",
       "               magnr  sigmagnr        rb  magpsf_corr  magap_corr  \\\n",
       "oid                                                                 \n",
       "ZTF18acurdfi  15.964     0.013  0.930000    16.671389   16.635753   \n",
       "ZTF18acurdfi  15.964     0.013  0.910000    16.767256   16.675375   \n",
       "ZTF18acurdfi  16.848     0.017  0.968571    17.202006   17.235854   \n",
       "ZTF18acurdfi  16.848     0.017  0.945714    17.188946   17.239785   \n",
       "ZTF18acurdfi  15.964     0.013  0.828571    16.721631   16.647276   \n",
       "\n",
       "              sigmapsf_corr  sigmagap_corr  has_stamps  parent_candid  \n",
       "oid                                                                    \n",
       "ZTF18acurdfi       0.054217       0.044106        None            NaN  \n",
       "ZTF18acurdfi       0.069424       0.031188        None            NaN  \n",
       "ZTF18acurdfi       0.049251       0.041065        None            NaN  \n",
       "ZTF18acurdfi       0.042730       0.034237        None            NaN  \n",
       "ZTF18acurdfi       0.069726       0.029192        None            NaN  \n",
       "\n",
       "[5 rows x 26 columns]"
      ]
     },
     "metadata": {},
     "output_type": "display_data"
    },
    {
     "name": "stdout",
     "output_type": "stream",
     "text": [
      "Number of rows found in db: 376\n"
     ]
    }
   ],
   "source": [
    "query = '''\n",
    "SELECT\n",
    "    *\n",
    "FROM\n",
    "    detections\n",
    "WHERE\n",
    "    oid in (%s)\n",
    "''' % \",\".join([\"'%s'\" % oid for oid in objs.index])\n",
    "objs_indb = pd.read_sql_query(query, conn)\n",
    "objs_indb.set_index('oid', inplace=True)\n",
    "nobjs_indb = len(objs_indb)\n",
    "\n",
    "display(objs_indb.head())\n",
    "print('Number of rows found in db:', nobjs_indb)"
   ]
  },
  {
   "cell_type": "markdown",
   "metadata": {},
   "source": [
    "Select an oid to display plots and image"
   ]
  },
  {
   "cell_type": "code",
   "execution_count": 12,
   "metadata": {
    "ExecuteTime": {
     "end_time": "2020-11-27T20:55:42.198604Z",
     "start_time": "2020-11-27T20:55:42.194486Z"
    }
   },
   "outputs": [
    {
     "data": {
      "text/plain": [
       "'ZTF20abyptpc'"
      ]
     },
     "execution_count": 12,
     "metadata": {},
     "output_type": "execute_result"
    }
   ],
   "source": [
    "#seloid = objs.index[0] # can be changed to preferred oid in list\n",
    "seloid = objs.index[2] # can be changed to preferred oid in list\n",
    "seloid"
   ]
  },
  {
   "cell_type": "markdown",
   "metadata": {},
   "source": [
    "Show Explorer link for each object. Allows to see the light curve, stamps, Aladin images, etc"
   ]
  },
  {
   "cell_type": "code",
   "execution_count": 13,
   "metadata": {
    "ExecuteTime": {
     "end_time": "2020-11-27T20:55:42.359397Z",
     "start_time": "2020-11-27T20:55:42.200218Z"
    }
   },
   "outputs": [
    {
     "data": {
      "text/html": [
       "<a href='http://alerce.online/object/ZTF20abyptpc' target=\"_blank\"> ZTF20abyptpc <a>"
      ],
      "text/plain": [
       "<IPython.core.display.HTML object>"
      ]
     },
     "metadata": {},
     "output_type": "display_data"
    }
   ],
   "source": [
    "display(HTML(\"<a href='http://alerce.online/object/%s' target=\\\"_blank\\\"> %s <a>\" % (seloid, seloid))) # online data\n",
    "#display(HTML(\"<a href='http://dev.alerce.online/object/%s' target=\\\"_blank\\\"> %s <a>\" % (seloid, seloid))) # new Explorer"
   ]
  },
  {
   "cell_type": "markdown",
   "metadata": {},
   "source": [
    "Filter the detections for given oid"
   ]
  },
  {
   "cell_type": "code",
   "execution_count": 14,
   "metadata": {
    "ExecuteTime": {
     "end_time": "2020-11-27T20:55:42.442788Z",
     "start_time": "2020-11-27T20:55:42.364492Z"
    }
   },
   "outputs": [
    {
     "data": {
      "text/html": [
       "<div>\n",
       "<style scoped>\n",
       "    .dataframe tbody tr th:only-of-type {\n",
       "        vertical-align: middle;\n",
       "    }\n",
       "\n",
       "    .dataframe tbody tr th {\n",
       "        vertical-align: top;\n",
       "    }\n",
       "\n",
       "    .dataframe thead th {\n",
       "        text-align: right;\n",
       "    }\n",
       "</style>\n",
       "<table border=\"1\" class=\"dataframe\">\n",
       "  <thead>\n",
       "    <tr style=\"text-align: right;\">\n",
       "      <th></th>\n",
       "      <th>candid</th>\n",
       "      <th>mjd</th>\n",
       "      <th>fid</th>\n",
       "      <th>diffmaglim</th>\n",
       "      <th>magpsf</th>\n",
       "      <th>magap</th>\n",
       "      <th>sigmapsf</th>\n",
       "      <th>sigmagap</th>\n",
       "      <th>ra</th>\n",
       "      <th>dec</th>\n",
       "      <th>...</th>\n",
       "      <th>rcid</th>\n",
       "      <th>magnr</th>\n",
       "      <th>sigmagnr</th>\n",
       "      <th>rb</th>\n",
       "      <th>magpsf_corr</th>\n",
       "      <th>magap_corr</th>\n",
       "      <th>sigmapsf_corr</th>\n",
       "      <th>sigmagap_corr</th>\n",
       "      <th>has_stamps</th>\n",
       "      <th>parent_candid</th>\n",
       "    </tr>\n",
       "    <tr>\n",
       "      <th>oid</th>\n",
       "      <th></th>\n",
       "      <th></th>\n",
       "      <th></th>\n",
       "      <th></th>\n",
       "      <th></th>\n",
       "      <th></th>\n",
       "      <th></th>\n",
       "      <th></th>\n",
       "      <th></th>\n",
       "      <th></th>\n",
       "      <th></th>\n",
       "      <th></th>\n",
       "      <th></th>\n",
       "      <th></th>\n",
       "      <th></th>\n",
       "      <th></th>\n",
       "      <th></th>\n",
       "      <th></th>\n",
       "      <th></th>\n",
       "      <th></th>\n",
       "      <th></th>\n",
       "    </tr>\n",
       "  </thead>\n",
       "  <tbody>\n",
       "    <tr>\n",
       "      <th>ZTF20abyptpc</th>\n",
       "      <td>1344360540615015004</td>\n",
       "      <td>59098.360544</td>\n",
       "      <td>2</td>\n",
       "      <td>19.790298</td>\n",
       "      <td>17.694756</td>\n",
       "      <td>17.818800</td>\n",
       "      <td>0.045254</td>\n",
       "      <td>0.0933</td>\n",
       "      <td>354.670326</td>\n",
       "      <td>15.954027</td>\n",
       "      <td>...</td>\n",
       "      <td>6</td>\n",
       "      <td>15.068999</td>\n",
       "      <td>0.090</td>\n",
       "      <td>0.872857</td>\n",
       "      <td>17.694756</td>\n",
       "      <td>17.818800</td>\n",
       "      <td>0.045254</td>\n",
       "      <td>0.0933</td>\n",
       "      <td>True</td>\n",
       "      <td>-1.0</td>\n",
       "    </tr>\n",
       "    <tr>\n",
       "      <th>ZTF20abyptpc</th>\n",
       "      <td>1345344840615015001</td>\n",
       "      <td>59099.344849</td>\n",
       "      <td>2</td>\n",
       "      <td>19.946884</td>\n",
       "      <td>17.106876</td>\n",
       "      <td>17.346201</td>\n",
       "      <td>0.044751</td>\n",
       "      <td>0.0582</td>\n",
       "      <td>354.670308</td>\n",
       "      <td>15.954037</td>\n",
       "      <td>...</td>\n",
       "      <td>6</td>\n",
       "      <td>15.068999</td>\n",
       "      <td>0.090</td>\n",
       "      <td>0.862857</td>\n",
       "      <td>17.106876</td>\n",
       "      <td>17.346201</td>\n",
       "      <td>0.044751</td>\n",
       "      <td>0.0582</td>\n",
       "      <td>True</td>\n",
       "      <td>-1.0</td>\n",
       "    </tr>\n",
       "    <tr>\n",
       "      <th>ZTF20abyptpc</th>\n",
       "      <td>1350432870615015001</td>\n",
       "      <td>59104.432870</td>\n",
       "      <td>2</td>\n",
       "      <td>19.497124</td>\n",
       "      <td>15.270106</td>\n",
       "      <td>15.245900</td>\n",
       "      <td>0.028062</td>\n",
       "      <td>0.0128</td>\n",
       "      <td>354.670308</td>\n",
       "      <td>15.954023</td>\n",
       "      <td>...</td>\n",
       "      <td>6</td>\n",
       "      <td>15.068999</td>\n",
       "      <td>0.090</td>\n",
       "      <td>0.841429</td>\n",
       "      <td>15.270106</td>\n",
       "      <td>15.245900</td>\n",
       "      <td>0.028062</td>\n",
       "      <td>0.0128</td>\n",
       "      <td>True</td>\n",
       "      <td>-1.0</td>\n",
       "    </tr>\n",
       "    <tr>\n",
       "      <th>ZTF20abyptpc</th>\n",
       "      <td>1352324160615015005</td>\n",
       "      <td>59106.324167</td>\n",
       "      <td>1</td>\n",
       "      <td>20.362982</td>\n",
       "      <td>14.941130</td>\n",
       "      <td>14.934600</td>\n",
       "      <td>0.041902</td>\n",
       "      <td>0.0062</td>\n",
       "      <td>354.670299</td>\n",
       "      <td>15.954045</td>\n",
       "      <td>...</td>\n",
       "      <td>6</td>\n",
       "      <td>16.923000</td>\n",
       "      <td>0.126</td>\n",
       "      <td>0.812857</td>\n",
       "      <td>14.941130</td>\n",
       "      <td>14.934600</td>\n",
       "      <td>0.041902</td>\n",
       "      <td>0.0062</td>\n",
       "      <td>True</td>\n",
       "      <td>-1.0</td>\n",
       "    </tr>\n",
       "    <tr>\n",
       "      <th>ZTF20abyptpc</th>\n",
       "      <td>1352328540615015005</td>\n",
       "      <td>59106.328542</td>\n",
       "      <td>1</td>\n",
       "      <td>20.318346</td>\n",
       "      <td>14.943615</td>\n",
       "      <td>14.948500</td>\n",
       "      <td>0.041561</td>\n",
       "      <td>0.0063</td>\n",
       "      <td>354.670305</td>\n",
       "      <td>15.954042</td>\n",
       "      <td>...</td>\n",
       "      <td>6</td>\n",
       "      <td>16.923000</td>\n",
       "      <td>0.126</td>\n",
       "      <td>0.820000</td>\n",
       "      <td>14.943615</td>\n",
       "      <td>14.948500</td>\n",
       "      <td>0.041561</td>\n",
       "      <td>0.0063</td>\n",
       "      <td>True</td>\n",
       "      <td>-1.0</td>\n",
       "    </tr>\n",
       "  </tbody>\n",
       "</table>\n",
       "<p>5 rows × 26 columns</p>\n",
       "</div>"
      ],
      "text/plain": [
       "                           candid           mjd  fid  diffmaglim     magpsf  \\\n",
       "oid                                                                           \n",
       "ZTF20abyptpc  1344360540615015004  59098.360544    2   19.790298  17.694756   \n",
       "ZTF20abyptpc  1345344840615015001  59099.344849    2   19.946884  17.106876   \n",
       "ZTF20abyptpc  1350432870615015001  59104.432870    2   19.497124  15.270106   \n",
       "ZTF20abyptpc  1352324160615015005  59106.324167    1   20.362982  14.941130   \n",
       "ZTF20abyptpc  1352328540615015005  59106.328542    1   20.318346  14.943615   \n",
       "\n",
       "                  magap  sigmapsf  sigmagap          ra        dec  ...  rcid  \\\n",
       "oid                                                                 ...         \n",
       "ZTF20abyptpc  17.818800  0.045254    0.0933  354.670326  15.954027  ...     6   \n",
       "ZTF20abyptpc  17.346201  0.044751    0.0582  354.670308  15.954037  ...     6   \n",
       "ZTF20abyptpc  15.245900  0.028062    0.0128  354.670308  15.954023  ...     6   \n",
       "ZTF20abyptpc  14.934600  0.041902    0.0062  354.670299  15.954045  ...     6   \n",
       "ZTF20abyptpc  14.948500  0.041561    0.0063  354.670305  15.954042  ...     6   \n",
       "\n",
       "                  magnr  sigmagnr        rb  magpsf_corr  magap_corr  \\\n",
       "oid                                                                    \n",
       "ZTF20abyptpc  15.068999     0.090  0.872857    17.694756   17.818800   \n",
       "ZTF20abyptpc  15.068999     0.090  0.862857    17.106876   17.346201   \n",
       "ZTF20abyptpc  15.068999     0.090  0.841429    15.270106   15.245900   \n",
       "ZTF20abyptpc  16.923000     0.126  0.812857    14.941130   14.934600   \n",
       "ZTF20abyptpc  16.923000     0.126  0.820000    14.943615   14.948500   \n",
       "\n",
       "              sigmapsf_corr  sigmagap_corr  has_stamps  parent_candid  \n",
       "oid                                                                    \n",
       "ZTF20abyptpc       0.045254         0.0933        True           -1.0  \n",
       "ZTF20abyptpc       0.044751         0.0582        True           -1.0  \n",
       "ZTF20abyptpc       0.028062         0.0128        True           -1.0  \n",
       "ZTF20abyptpc       0.041902         0.0062        True           -1.0  \n",
       "ZTF20abyptpc       0.041561         0.0063        True           -1.0  \n",
       "\n",
       "[5 rows x 26 columns]"
      ]
     },
     "execution_count": 14,
     "metadata": {},
     "output_type": "execute_result"
    }
   ],
   "source": [
    "mask = objs_indb.index == seloid\n",
    "dets = objs_indb.loc[mask]\n",
    "dets.head()"
   ]
  },
  {
   "cell_type": "markdown",
   "metadata": {},
   "source": [
    "Plot light curve using difference magnitudes"
   ]
  },
  {
   "cell_type": "code",
   "execution_count": 15,
   "metadata": {
    "ExecuteTime": {
     "end_time": "2020-11-27T20:55:42.811598Z",
     "start_time": "2020-11-27T20:55:42.443928Z"
    }
   },
   "outputs": [
    {
     "data": {
      "image/png": "[encoded data removed]",
      "text/plain": [
       "<Figure size 1008x504 with 1 Axes>"
      ]
     },
     "metadata": {
      "needs_background": "light"
     },
     "output_type": "display_data"
    }
   ],
   "source": [
    "results = getobjdata(seloid, dets, doLC=True, diffmag=True)"
   ]
  },
  {
   "cell_type": "markdown",
   "metadata": {},
   "source": [
    "Plot light curve using corrected magnitudes (including extinction correction) in the rest-frame, assuming the redshift of the closest NED match. Show the Aladin image"
   ]
  },
  {
   "cell_type": "code",
   "execution_count": 16,
   "metadata": {
    "ExecuteTime": {
     "end_time": "2020-11-27T20:55:44.104494Z",
     "start_time": "2020-11-27T20:55:42.813444Z"
    }
   },
   "outputs": [
    {
     "data": {
      "text/html": [
       "<i>Table length=9</i>\n",
       "<table id=\"table139976755185360\" class=\"table-striped table-bordered table-condensed\">\n",
       "<thead><tr><th>No.</th><th>Object Name</th><th>RA</th><th>DEC</th><th>Type</th><th>Velocity</th><th>Redshift</th><th>Redshift Flag</th><th>Magnitude and Filter</th><th>Separation</th><th>References</th><th>Notes</th><th>Photometry Points</th><th>Positions</th><th>Redshift Points</th><th>Diameter Points</th><th>Associations</th></tr></thead>\n",
       "<thead><tr><th></th><th></th><th>degrees</th><th>degrees</th><th></th><th>km / s</th><th></th><th></th><th></th><th>arcmin</th><th></th><th></th><th></th><th></th><th></th><th></th><th></th></tr></thead>\n",
       "<thead><tr><th>int32</th><th>str30</th><th>float64</th><th>float64</th><th>object</th><th>float64</th><th>float64</th><th>object</th><th>object</th><th>float64</th><th>int32</th><th>int32</th><th>int32</th><th>int32</th><th>int32</th><th>int32</th><th>int32</th></tr></thead>\n",
       "<tr><td>1</td><td>WISEA J233838.69+155714.5</td><td>354.66122</td><td>15.95405</td><td>IrS</td><td>--</td><td>--</td><td></td><td></td><td>0.525</td><td>0</td><td>0</td><td>12</td><td>1</td><td>0</td><td>0</td><td>0</td></tr>\n",
       "<tr><td>2</td><td>WISEA J233839.63+155649.3</td><td>354.66515</td><td>15.94705</td><td>IrS</td><td>--</td><td>--</td><td></td><td></td><td>0.514</td><td>0</td><td>0</td><td>12</td><td>1</td><td>0</td><td>0</td><td>0</td></tr>\n",
       "<tr><td>3</td><td>SDSS J233840.03+155645.1</td><td>354.66681</td><td>15.94588</td><td>*</td><td>--</td><td>--</td><td></td><td>21.1g</td><td>0.53</td><td>0</td><td>0</td><td>5</td><td>1</td><td>0</td><td>4</td><td>0</td></tr>\n",
       "<tr><td>4</td><td>2MASS J23384067+1557228</td><td>354.6695</td><td>15.95634</td><td>IrS</td><td>--</td><td>--</td><td></td><td></td><td>0.146</td><td>0</td><td>0</td><td>6</td><td>1</td><td>0</td><td>0</td><td>0</td></tr>\n",
       "<tr><td>5</td><td>SDSS J233840.88+155740.0</td><td>354.67035</td><td>15.96113</td><td>*</td><td>--</td><td>--</td><td></td><td>18.4g</td><td>0.426</td><td>0</td><td>0</td><td>5</td><td>1</td><td>0</td><td>4</td><td>0</td></tr>\n",
       "<tr><td>6</td><td>2MASS J23384109+1557281</td><td>354.67123</td><td>15.95783</td><td>IrS</td><td>--</td><td>--</td><td></td><td></td><td>0.234</td><td>0</td><td>0</td><td>4</td><td>1</td><td>0</td><td>0</td><td>0</td></tr>\n",
       "<tr><td>7</td><td>NGC 7722</td><td>354.67169</td><td>15.95464</td><td>G</td><td>4026.0</td><td>0.013429</td><td></td><td>13.3g</td><td>0.087</td><td>84</td><td>3</td><td>86</td><td>20</td><td>16</td><td>14</td><td>0</td></tr>\n",
       "<tr><td>8</td><td>2MASS J23384137+1557140</td><td>354.67241</td><td>15.9539</td><td>IrS</td><td>--</td><td>--</td><td></td><td></td><td>0.122</td><td>0</td><td>0</td><td>4</td><td>1</td><td>0</td><td>0</td><td>0</td></tr>\n",
       "<tr><td>9</td><td>2MASS J23384192+1557177</td><td>354.67471</td><td>15.95493</td><td>IrS</td><td>--</td><td>--</td><td></td><td></td><td>0.259</td><td>0</td><td>0</td><td>4</td><td>1</td><td>0</td><td>0</td><td>0</td></tr>\n",
       "</table>"
      ],
      "text/plain": [
       "<Table length=9>\n",
       " No.         Object Name            RA     ... Diameter Points Associations\n",
       "                                 degrees   ...                             \n",
       "int32           str30            float64   ...      int32         int32    \n",
       "----- ------------------------- ---------- ... --------------- ------------\n",
       "    1 WISEA J233838.69+155714.5  354.66122 ...               0            0\n",
       "    2 WISEA J233839.63+155649.3  354.66515 ...               0            0\n",
       "    3  SDSS J233840.03+155645.1  354.66681 ...               4            0\n",
       "    4   2MASS J23384067+1557228   354.6695 ...               0            0\n",
       "    5  SDSS J233840.88+155740.0  354.67035 ...               4            0\n",
       "    6   2MASS J23384109+1557281  354.67123 ...               0            0\n",
       "    7                  NGC 7722  354.67169 ...              14            0\n",
       "    8   2MASS J23384137+1557140  354.67241 ...               0            0\n",
       "    9   2MASS J23384192+1557177  354.67471 ...               0            0"
      ]
     },
     "metadata": {},
     "output_type": "display_data"
    },
    {
     "data": {
      "text/plain": [
       "'Redshift found: 0.013429'"
      ]
     },
     "metadata": {},
     "output_type": "display_data"
    },
    {
     "data": {
      "application/vnd.jupyter.widget-view+json": {
       "model_id": "83505041ab4d4f19afe3746679d0faa1",
       "version_major": 2,
       "version_minor": 0
      },
      "text/plain": [
       "Box(children=(Aladin(fov=0.04, layout=Layout(width='70%'), options=['allow_full_zoomout', 'coo_frame', 'fov', …"
      ]
     },
     "metadata": {},
     "output_type": "display_data"
    },
    {
     "data": {
      "text/plain": [
       "'Hover mouse to see information about catalog objects'"
      ]
     },
     "metadata": {},
     "output_type": "display_data"
    },
    {
     "data": {
      "image/png": "[encoded data removed]",
      "text/plain": [
       "<Figure size 1008x504 with 1 Axes>"
      ]
     },
     "metadata": {
      "needs_background": "light"
     },
     "output_type": "display_data"
    },
    {
     "data": {
      "image/png": "[encoded data removed]",
      "text/plain": [
       "<Figure size 1008x504 with 1 Axes>"
      ]
     },
     "metadata": {
      "needs_background": "light"
     },
     "output_type": "display_data"
    }
   ],
   "source": [
    "results = getobjdata(seloid, dets, doLC=True, doext=True, doNED=True, doredshift=True, showimage=True)"
   ]
  },
  {
   "cell_type": "markdown",
   "metadata": {},
   "source": [
    "Close connection to DB"
   ]
  },
  {
   "cell_type": "code",
   "execution_count": 17,
   "metadata": {
    "ExecuteTime": {
     "end_time": "2020-11-27T20:55:44.109708Z",
     "start_time": "2020-11-27T20:55:44.106628Z"
    }
   },
   "outputs": [],
   "source": [
    "conn.close()"
   ]
  },
  {
   "cell_type": "code",
   "execution_count": null,
   "metadata": {},
   "outputs": [],
   "source": []
  }
 ],
 "metadata": {
  "kernelspec": {
   "display_name": "Python 3",
   "language": "python",
   "name": "python3"
  },
  "language_info": {
   "codemirror_mode": {
    "name": "ipython",
    "version": 3
   },
   "file_extension": ".py",
   "mimetype": "text/x-python",
   "name": "python",
   "nbconvert_exporter": "python",
   "pygments_lexer": "ipython3",
   "version": "3.7.5"
  }
 },
 "nbformat": 4,
 "nbformat_minor": 4
}
