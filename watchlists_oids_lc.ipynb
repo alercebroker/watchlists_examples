{
 "cells": [
  {
   "cell_type": "markdown",
   "metadata": {},
   "source": [
    "# ALeRCE watchlists, list of oids, show light curves\n",
    "\n",
    "```Author: Alejandra Muñoz Arancibia```\n",
    "\n",
    "ALeRCE notebook\n",
    "\n",
    "Read a list of object identifiers, connect to the database and display their light curves. Can choose between difference/corrected magnitudes, rest-frame, extinction-corrected, etc"
   ]
  },
  {
   "cell_type": "code",
   "execution_count": 1,
   "metadata": {
    "ExecuteTime": {
     "end_time": "2020-11-16T19:24:58.765415Z",
     "start_time": "2020-11-16T19:24:58.756148Z"
    }
   },
   "outputs": [
    {
     "data": {
      "text/html": [
       "<style>.container { width:100% !important; }</style>"
      ],
      "text/plain": [
       "<IPython.core.display.HTML object>"
      ]
     },
     "metadata": {},
     "output_type": "display_data"
    }
   ],
   "source": [
    "from IPython.core.display import display, HTML\n",
    "display(HTML(\"<style>.container { width:100% !important; }</style>\"))"
   ]
  },
  {
   "cell_type": "code",
   "execution_count": 2,
   "metadata": {
    "ExecuteTime": {
     "end_time": "2020-11-16T19:24:59.947549Z",
     "start_time": "2020-11-16T19:24:58.766901Z"
    }
   },
   "outputs": [],
   "source": [
    "import pandas as pd\n",
    "import numpy as np\n",
    "import matplotlib.pyplot as plt\n",
    "import astropy.units as u\n",
    "from astropy import coordinates\n",
    "from astropy.time import Time\n",
    "from astropy.coordinates import Distance\n",
    "from astropy.cosmology import WMAP7\n",
    "from astroquery.ned import Ned\n",
    "from astroquery.irsa_dust import IrsaDust\n",
    "import psycopg2\n",
    "from IPython.display import HTML\n",
    "from ipywidgets import Layout, Box, widgets\n",
    "import ipyaladin as ipyal\n",
    "import os, sys\n",
    "import json"
   ]
  },
  {
   "cell_type": "markdown",
   "metadata": {},
   "source": [
    "Functions for plotting light curves, finding crossmatches in NED and showing Aladin images"
   ]
  },
  {
   "cell_type": "code",
   "execution_count": 3,
   "metadata": {
    "ExecuteTime": {
     "end_time": "2020-11-16T19:24:59.951694Z",
     "start_time": "2020-11-16T19:24:59.949354Z"
    }
   },
   "outputs": [],
   "source": [
    "# color blind friendly green and red \n",
    "colors = {1: '#56E03A', 2: '#D42F4B'}"
   ]
  },
  {
   "cell_type": "code",
   "execution_count": 4,
   "metadata": {
    "ExecuteTime": {
     "end_time": "2020-11-16T19:25:00.022924Z",
     "start_time": "2020-11-16T19:24:59.953194Z"
    }
   },
   "outputs": [],
   "source": [
    "def plotLCcorr(oid, sample_det, A=None, redshift=None, diffmag=False):\n",
    "    fig, ax = plt.subplots(figsize=(14, 7))\n",
    "    labels = {1: 'g', 2: 'r'}\n",
    "    markers = {1: 'o', 2: 's'}\n",
    "    sizes = {1: 30, 2: 40}\n",
    "    \n",
    "    # distmod: distance modulus, reftime: reference time\n",
    "    if redshift is not None:\n",
    "        distmod = float(Distance(z=redshift, cosmology=WMAP7).distmod/u.mag)\n",
    "        reftime = sample_det.mjd.min()\n",
    "    else:\n",
    "        distmod = 0\n",
    "        reftime = 0\n",
    "        redshift = 0\n",
    "    \n",
    "    # loop the passbands\n",
    "    for fid in [1, 2]:\n",
    "        # galactic extinction in the given band\n",
    "        if A is not None:\n",
    "            A_fid = A[labels[fid]]\n",
    "        else:\n",
    "            A_fid = 0\n",
    "\n",
    "        # plot detections if available\n",
    "        mask = sample_det.fid == fid\n",
    "        if np.sum(mask) > 0:\n",
    "            # change time to restframe days if redshift is not zero\n",
    "            times = (sample_det[mask].mjd-reftime)/(1.+redshift)\n",
    "            \n",
    "            if diffmag:\n",
    "                # note that the detections index is candid and that we are plotting the psf corrected magnitudes\n",
    "                if A_fid != 0:\n",
    "                    # plot attenuated light curve with small alpha\n",
    "                    ax.errorbar(times, sample_det[mask].magpsf-distmod,\n",
    "                        yerr=sample_det[mask].sigmapsf, c=colors[fid], marker=markers[fid], label=labels[fid],\n",
    "                        alpha=0.1, linestyle='None')\n",
    "                    # show dust attenuation corrected light curve\n",
    "                    ax.errorbar(times, sample_det[mask].magpsf-A_fid-distmod, \n",
    "                        yerr=sample_det[mask].sigmapsf, c=colors[fid], marker=markers[fid],\n",
    "                        label='%s (ext. corr.)' % labels[fid], linestyle='None')\n",
    "                else:\n",
    "                    # plot attenuated light curve\n",
    "                    ax.errorbar(times, sample_det[mask].magpsf,\n",
    "                        yerr=sample_det[mask].sigmapsf, c=colors[fid], marker=markers[fid], label=labels[fid],\n",
    "                        linestyle='None')\n",
    "            else:\n",
    "                mask2 = sample_det[mask].sigmapsf_corr<=1.\n",
    "                \n",
    "                # note that the detections index is candid and that we are plotting the psf corrected magnitudes\n",
    "                if A_fid != 0:\n",
    "                    # plot attenuated light curve with small alpha\n",
    "                    ax.errorbar(times[mask2], sample_det[mask].magpsf_corr[mask2]-distmod,\n",
    "                        yerr=sample_det[mask].sigmapsf_corr[mask2], c=colors[fid], marker=markers[fid], label=labels[fid],\n",
    "                        alpha=0.1, linestyle='None')\n",
    "                    # show dust attenuation corrected light curve\n",
    "                    ax.errorbar(times[mask2], sample_det[mask].magpsf_corr[mask2]-A_fid-distmod, \n",
    "                        yerr=sample_det[mask].sigmapsf_corr[mask2], c=colors[fid], marker=markers[fid],\n",
    "                        label='%s (ext. corr.)' % labels[fid], linestyle='None')\n",
    "                else:\n",
    "                    # plot attenuated light curve\n",
    "                    ax.errorbar(times[mask2], sample_det[mask].magpsf_corr[mask2]-distmod,\n",
    "                        yerr=sample_det[mask].sigmapsf_corr[mask2], c=colors[fid], marker=markers[fid], label=labels[fid],\n",
    "                        linestyle='None')\n",
    "    \n",
    "    # labels\n",
    "    if A is not None and redshift != 0:\n",
    "        ax.set_title('%s ($A_g=%.3f, A_r=%.3f$, z=%.4f)' % (oid, A['g'], A['r'], redshift))\n",
    "    elif redshift != 0:\n",
    "        ax.set_title('%s (z=%.4f)' % (oid, redshift))\n",
    "    elif A is not None:\n",
    "        ax.set_title('%s ($A_g=%.3f, A_r=%.3f$)' % (oid, A['g'], A['r']))\n",
    "    else:\n",
    "        ax.set_title(oid)\n",
    "        \n",
    "    if redshift == 0:\n",
    "        ax.set_xlabel('MJD')\n",
    "        if diffmag:\n",
    "            ax.set_ylabel('Difference magnitude')\n",
    "        else:\n",
    "            ax.set_ylabel('Apparent magnitude')\n",
    "    else:\n",
    "        ax.set_xlabel('Rest-frame time [days]')\n",
    "        ax.set_ylabel('Absolute magnitude (no K-corr.)')\n",
    "    ax.legend()\n",
    "    ax.set_ylim(ax.get_ylim()[::-1])"
   ]
  },
  {
   "cell_type": "code",
   "execution_count": 5,
   "metadata": {
    "ExecuteTime": {
     "end_time": "2020-11-16T19:25:00.114452Z",
     "start_time": "2020-11-16T19:25:00.024313Z"
    }
   },
   "outputs": [],
   "source": [
    "info = widgets.HTML()\n",
    "\n",
    "def process_objectHovered(data):\n",
    "    output = \"<font color='red'>\"\n",
    "    for key in sel_keys:\n",
    "        if key in data['data'].keys():\n",
    "            output += \"<p><font size='1'>%s: %s</p>\" % (key, data['data'][key])\n",
    "    info.value = '%s' % output"
   ]
  },
  {
   "cell_type": "code",
   "execution_count": 6,
   "metadata": {
    "ExecuteTime": {
     "end_time": "2020-11-16T19:25:00.214568Z",
     "start_time": "2020-11-16T19:25:00.116031Z"
    }
   },
   "outputs": [],
   "source": [
    "def show_image(results):\n",
    "    aladin= ipyal.Aladin(target='%s %s' % (float(results['meanra']), float(results['meandec'])), \n",
    "                fov=0.04, survey='P/PanSTARRS/DR1/color-z-zg-g',\n",
    "                reticle_size=64,\n",
    "                layout=Layout(width='70%'))\n",
    "    box_layout = Layout(display='flex', flex_flow='row', align_items='stretch', width='100%')\n",
    "    box = Box(children=[aladin, info], layout=box_layout)\n",
    "    display(box)\n",
    "    aladin.add_listener('objectHovered', process_objectHovered)\n",
    "    display('Hover mouse to see information about catalog objects')"
   ]
  },
  {
   "cell_type": "code",
   "execution_count": 7,
   "metadata": {
    "ExecuteTime": {
     "end_time": "2020-11-16T19:25:00.291194Z",
     "start_time": "2020-11-16T19:25:00.219370Z"
    }
   },
   "outputs": [],
   "source": [
    "def getobjdata(oid, dets, doLC=False, doext=False, doNED=False, doredshift=False, diffmag=False, showlink=False,\n",
    "               showimage=False):\n",
    "    if showlink:\n",
    "        display(HTML(\"<a href='http://alerce.online/object/%s' target=\\\"_blank\\\"> %s <a>\" % (oid, oid)))\n",
    "    \n",
    "    results = {'oid': oid}\n",
    "    results['lc_det'] = dets\n",
    "    results['meanra'] = float(np.mean(results['lc_det']['ra']))\n",
    "    results['meandec'] = float(np.mean(results['lc_det']['dec']))\n",
    "    \n",
    "    coords = coordinates.SkyCoord(ra=float(results['meanra']), dec=float(results['meandec']), unit=(u.deg, u.deg), frame='icrs')\n",
    "    \n",
    "    # get Galactic extinction\n",
    "    if doext:\n",
    "        # Galactic extinction (use SFD = D.J. Schlegel, D.P. Finkbeiner, & M. Davis (1998, ApJ, 500, 525))\n",
    "        table = IrsaDust.get_extinction_table(coords)\n",
    "        A = {'g': float(table[table['Filter_name'] == 'SDSS g']['A_SFD']), 'r': float(table[table['Filter_name'] == 'SDSS r']['A_SFD'])}\n",
    "        results[\"attenuation\"] = A\n",
    "    else:\n",
    "        A = {'g': 0, 'r': 0}\n",
    "    \n",
    "    # plot the LC\n",
    "    if doLC:\n",
    "        if doext:\n",
    "            plotLCcorr(oid, results['lc_det'], A, diffmag=diffmag)\n",
    "        else:\n",
    "            plotLCcorr(oid, results['lc_det'], diffmag=diffmag)\n",
    "    \n",
    "    # find NED galaxies\n",
    "    if doNED:\n",
    "        Ned_table = Ned.query_region(coords, radius=0.01*u.deg, equinox='J2000.0')\n",
    "        display(Ned_table)\n",
    "        results['ned_table'] = Ned_table\n",
    "        \n",
    "        # save closest redshift if any\n",
    "        df_ned = Ned_table.to_pandas()\n",
    "        mask = df_ned.Redshift.notna()\n",
    "        if mask.sum() > 0:\n",
    "            results['redshift'] = df_ned.loc[df_ned.loc[mask].Separation.idxmin()].Redshift\n",
    "            display('Redshift found: %s' % results['redshift'])\n",
    "            \n",
    "    # plot absolute value (without K-corrections)\n",
    "    if doredshift:\n",
    "        if type(doredshift) == float and doredshift > 0:\n",
    "            results['redshift'] = doredshift\n",
    "        if 'redshift' in results.keys():\n",
    "            if doext:\n",
    "                plotLCcorr(oid, results['lc_det'], A, results['redshift'], diffmag)\n",
    "            else:\n",
    "                plotLCcorr(oid, results['lc_det'], results['redshift'], diffmag)\n",
    "    \n",
    "    \n",
    "    \n",
    "    if showimage:\n",
    "        show_image(results)\n",
    "    \n",
    "    return results"
   ]
  },
  {
   "cell_type": "markdown",
   "metadata": {},
   "source": [
    "Connect to DB"
   ]
  },
  {
   "cell_type": "code",
   "execution_count": 8,
   "metadata": {
    "ExecuteTime": {
     "end_time": "2020-11-16T19:25:01.668521Z",
     "start_time": "2020-11-16T19:25:00.293148Z"
    }
   },
   "outputs": [],
   "source": [
    "dir_dbfile = '/home/ammunoz1/Desktop/Astro2020/ALeRCE/alercebroker/usecases/'\n",
    "credentials_file = dir_dbfile+'alercereaduser_v2.json' #online data\n",
    "#credentials_file = dir_dbfile+'alercereaduser_v3.json' #new db\n",
    "\n",
    "with open(credentials_file) as jsonfile:\n",
    "    params = json.load(jsonfile)[\"params\"]\n",
    "\n",
    "conn = psycopg2.connect(dbname=params['dbname'], user=params['user'], host=params['host'],\n",
    "                        password=params['password'])"
   ]
  },
  {
   "cell_type": "markdown",
   "metadata": {},
   "source": [
    "Read file with oids (csv format, output from watchlists_oids.ipynb)"
   ]
  },
  {
   "cell_type": "code",
   "execution_count": 9,
   "metadata": {
    "ExecuteTime": {
     "end_time": "2020-11-16T19:25:01.738359Z",
     "start_time": "2020-11-16T19:25:01.676335Z"
    }
   },
   "outputs": [
    {
     "data": {
      "text/html": [
       "<div>\n",
       "<style scoped>\n",
       "    .dataframe tbody tr th:only-of-type {\n",
       "        vertical-align: middle;\n",
       "    }\n",
       "\n",
       "    .dataframe tbody tr th {\n",
       "        vertical-align: top;\n",
       "    }\n",
       "\n",
       "    .dataframe thead th {\n",
       "        text-align: right;\n",
       "    }\n",
       "</style>\n",
       "<table border=\"1\" class=\"dataframe\">\n",
       "  <thead>\n",
       "    <tr style=\"text-align: right;\">\n",
       "      <th></th>\n",
       "      <th>nobs</th>\n",
       "      <th>mean_magap_g</th>\n",
       "      <th>mean_magap_r</th>\n",
       "      <th>median_magap_g</th>\n",
       "      <th>median_magap_r</th>\n",
       "      <th>max_magap_g</th>\n",
       "      <th>max_magap_r</th>\n",
       "      <th>min_magap_g</th>\n",
       "      <th>min_magap_r</th>\n",
       "      <th>sigma_magap_g</th>\n",
       "      <th>...</th>\n",
       "      <th>deltajd</th>\n",
       "      <th>lastmjd</th>\n",
       "      <th>firstmjd</th>\n",
       "      <th>period</th>\n",
       "      <th>catalogid</th>\n",
       "      <th>classxmatch</th>\n",
       "      <th>classrf</th>\n",
       "      <th>pclassrf</th>\n",
       "      <th>pclassearly</th>\n",
       "      <th>classearly</th>\n",
       "    </tr>\n",
       "    <tr>\n",
       "      <th>oid</th>\n",
       "      <th></th>\n",
       "      <th></th>\n",
       "      <th></th>\n",
       "      <th></th>\n",
       "      <th></th>\n",
       "      <th></th>\n",
       "      <th></th>\n",
       "      <th></th>\n",
       "      <th></th>\n",
       "      <th></th>\n",
       "      <th></th>\n",
       "      <th></th>\n",
       "      <th></th>\n",
       "      <th></th>\n",
       "      <th></th>\n",
       "      <th></th>\n",
       "      <th></th>\n",
       "      <th></th>\n",
       "      <th></th>\n",
       "      <th></th>\n",
       "      <th></th>\n",
       "    </tr>\n",
       "  </thead>\n",
       "  <tbody>\n",
       "    <tr>\n",
       "      <th>ZTF20aatxryt</th>\n",
       "      <td>44</td>\n",
       "      <td>18.947260</td>\n",
       "      <td>18.874132</td>\n",
       "      <td>19.050900</td>\n",
       "      <td>19.021700</td>\n",
       "      <td>19.282801</td>\n",
       "      <td>20.254101</td>\n",
       "      <td>17.958000</td>\n",
       "      <td>17.302299</td>\n",
       "      <td>0.327757</td>\n",
       "      <td>...</td>\n",
       "      <td>253.316528</td>\n",
       "      <td>59168.528715</td>\n",
       "      <td>58915.212188</td>\n",
       "      <td>NaN</td>\n",
       "      <td>NaN</td>\n",
       "      <td>NaN</td>\n",
       "      <td>14.0</td>\n",
       "      <td>0.337824</td>\n",
       "      <td>0.530542</td>\n",
       "      <td>19</td>\n",
       "    </tr>\n",
       "    <tr>\n",
       "      <th>ZTF20abyptpc</th>\n",
       "      <td>68</td>\n",
       "      <td>15.802083</td>\n",
       "      <td>15.652770</td>\n",
       "      <td>15.329800</td>\n",
       "      <td>15.359200</td>\n",
       "      <td>17.652100</td>\n",
       "      <td>17.818800</td>\n",
       "      <td>14.616600</td>\n",
       "      <td>14.634500</td>\n",
       "      <td>1.130153</td>\n",
       "      <td>...</td>\n",
       "      <td>70.867002</td>\n",
       "      <td>59169.227546</td>\n",
       "      <td>59098.360544</td>\n",
       "      <td>NaN</td>\n",
       "      <td>NaN</td>\n",
       "      <td>NaN</td>\n",
       "      <td>12.0</td>\n",
       "      <td>0.256736</td>\n",
       "      <td>0.628658</td>\n",
       "      <td>19</td>\n",
       "    </tr>\n",
       "    <tr>\n",
       "      <th>ZTF20abywydb</th>\n",
       "      <td>43</td>\n",
       "      <td>19.510526</td>\n",
       "      <td>19.261917</td>\n",
       "      <td>19.533701</td>\n",
       "      <td>19.092050</td>\n",
       "      <td>20.781200</td>\n",
       "      <td>20.974899</td>\n",
       "      <td>18.500900</td>\n",
       "      <td>18.398300</td>\n",
       "      <td>0.682794</td>\n",
       "      <td>...</td>\n",
       "      <td>63.866296</td>\n",
       "      <td>59168.290590</td>\n",
       "      <td>59104.424294</td>\n",
       "      <td>NaN</td>\n",
       "      <td>NaN</td>\n",
       "      <td>NaN</td>\n",
       "      <td>14.0</td>\n",
       "      <td>0.330672</td>\n",
       "      <td>0.495561</td>\n",
       "      <td>19</td>\n",
       "    </tr>\n",
       "    <tr>\n",
       "      <th>ZTF20acfucwr</th>\n",
       "      <td>35</td>\n",
       "      <td>18.568018</td>\n",
       "      <td>18.798083</td>\n",
       "      <td>18.662100</td>\n",
       "      <td>19.126349</td>\n",
       "      <td>20.113001</td>\n",
       "      <td>20.636200</td>\n",
       "      <td>17.008600</td>\n",
       "      <td>17.112900</td>\n",
       "      <td>0.931531</td>\n",
       "      <td>...</td>\n",
       "      <td>46.845532</td>\n",
       "      <td>59168.140231</td>\n",
       "      <td>59121.294699</td>\n",
       "      <td>NaN</td>\n",
       "      <td>NaN</td>\n",
       "      <td>NaN</td>\n",
       "      <td>10.0</td>\n",
       "      <td>0.326024</td>\n",
       "      <td>0.449320</td>\n",
       "      <td>19</td>\n",
       "    </tr>\n",
       "    <tr>\n",
       "      <th>ZTF20acgided</th>\n",
       "      <td>39</td>\n",
       "      <td>17.465700</td>\n",
       "      <td>17.623635</td>\n",
       "      <td>17.419000</td>\n",
       "      <td>17.422800</td>\n",
       "      <td>17.791901</td>\n",
       "      <td>19.425800</td>\n",
       "      <td>17.164101</td>\n",
       "      <td>17.178801</td>\n",
       "      <td>0.195136</td>\n",
       "      <td>...</td>\n",
       "      <td>45.916157</td>\n",
       "      <td>59169.217176</td>\n",
       "      <td>59123.301018</td>\n",
       "      <td>NaN</td>\n",
       "      <td>NaN</td>\n",
       "      <td>NaN</td>\n",
       "      <td>14.0</td>\n",
       "      <td>0.269280</td>\n",
       "      <td>0.593914</td>\n",
       "      <td>19</td>\n",
       "    </tr>\n",
       "  </tbody>\n",
       "</table>\n",
       "<p>5 rows × 43 columns</p>\n",
       "</div>"
      ],
      "text/plain": [
       "              nobs  mean_magap_g  mean_magap_r  median_magap_g  \\\n",
       "oid                                                              \n",
       "ZTF20aatxryt    44     18.947260     18.874132       19.050900   \n",
       "ZTF20abyptpc    68     15.802083     15.652770       15.329800   \n",
       "ZTF20abywydb    43     19.510526     19.261917       19.533701   \n",
       "ZTF20acfucwr    35     18.568018     18.798083       18.662100   \n",
       "ZTF20acgided    39     17.465700     17.623635       17.419000   \n",
       "\n",
       "              median_magap_r  max_magap_g  max_magap_r  min_magap_g  \\\n",
       "oid                                                                   \n",
       "ZTF20aatxryt       19.021700    19.282801    20.254101    17.958000   \n",
       "ZTF20abyptpc       15.359200    17.652100    17.818800    14.616600   \n",
       "ZTF20abywydb       19.092050    20.781200    20.974899    18.500900   \n",
       "ZTF20acfucwr       19.126349    20.113001    20.636200    17.008600   \n",
       "ZTF20acgided       17.422800    17.791901    19.425800    17.164101   \n",
       "\n",
       "              min_magap_r  sigma_magap_g  ...     deltajd       lastmjd  \\\n",
       "oid                                       ...                             \n",
       "ZTF20aatxryt    17.302299       0.327757  ...  253.316528  59168.528715   \n",
       "ZTF20abyptpc    14.634500       1.130153  ...   70.867002  59169.227546   \n",
       "ZTF20abywydb    18.398300       0.682794  ...   63.866296  59168.290590   \n",
       "ZTF20acfucwr    17.112900       0.931531  ...   46.845532  59168.140231   \n",
       "ZTF20acgided    17.178801       0.195136  ...   45.916157  59169.217176   \n",
       "\n",
       "                  firstmjd  period  catalogid  classxmatch  classrf  pclassrf  \\\n",
       "oid                                                                             \n",
       "ZTF20aatxryt  58915.212188     NaN        NaN          NaN     14.0  0.337824   \n",
       "ZTF20abyptpc  59098.360544     NaN        NaN          NaN     12.0  0.256736   \n",
       "ZTF20abywydb  59104.424294     NaN        NaN          NaN     14.0  0.330672   \n",
       "ZTF20acfucwr  59121.294699     NaN        NaN          NaN     10.0  0.326024   \n",
       "ZTF20acgided  59123.301018     NaN        NaN          NaN     14.0  0.269280   \n",
       "\n",
       "              pclassearly  classearly  \n",
       "oid                                    \n",
       "ZTF20aatxryt     0.530542          19  \n",
       "ZTF20abyptpc     0.628658          19  \n",
       "ZTF20abywydb     0.495561          19  \n",
       "ZTF20acfucwr     0.449320          19  \n",
       "ZTF20acgided     0.593914          19  \n",
       "\n",
       "[5 rows x 43 columns]"
      ]
     },
     "metadata": {},
     "output_type": "display_data"
    },
    {
     "name": "stdout",
     "output_type": "stream",
     "text": [
      "Number of oids: 10\n"
     ]
    }
   ],
   "source": [
    "dir_watchlists = '/home/ammunoz1/Desktop/Astro2020/ALeRCE/Watchlists/'\n",
    "namefil = dir_watchlists+'out/sources_out_2020-11-16T17_20_03.000.csv'\n",
    "\n",
    "objs = pd.read_csv(namefil, sep=',', skip_blank_lines=True)\n",
    "objs.set_index('oid', inplace=True)\n",
    "\n",
    "display(objs.head())\n",
    "print('Number of oids:', len(objs))"
   ]
  },
  {
   "cell_type": "markdown",
   "metadata": {},
   "source": [
    "Query detections for list of oids"
   ]
  },
  {
   "cell_type": "code",
   "execution_count": 10,
   "metadata": {
    "ExecuteTime": {
     "end_time": "2020-11-16T19:25:03.193882Z",
     "start_time": "2020-11-16T19:25:01.740881Z"
    }
   },
   "outputs": [
    {
     "data": {
      "text/html": [
       "<div>\n",
       "<style scoped>\n",
       "    .dataframe tbody tr th:only-of-type {\n",
       "        vertical-align: middle;\n",
       "    }\n",
       "\n",
       "    .dataframe tbody tr th {\n",
       "        vertical-align: top;\n",
       "    }\n",
       "\n",
       "    .dataframe thead th {\n",
       "        text-align: right;\n",
       "    }\n",
       "</style>\n",
       "<table border=\"1\" class=\"dataframe\">\n",
       "  <thead>\n",
       "    <tr style=\"text-align: right;\">\n",
       "      <th></th>\n",
       "      <th>candid</th>\n",
       "      <th>mjd</th>\n",
       "      <th>fid</th>\n",
       "      <th>diffmaglim</th>\n",
       "      <th>magpsf</th>\n",
       "      <th>magap</th>\n",
       "      <th>sigmapsf</th>\n",
       "      <th>sigmagap</th>\n",
       "      <th>ra</th>\n",
       "      <th>dec</th>\n",
       "      <th>...</th>\n",
       "      <th>rcid</th>\n",
       "      <th>magnr</th>\n",
       "      <th>sigmagnr</th>\n",
       "      <th>rb</th>\n",
       "      <th>magpsf_corr</th>\n",
       "      <th>magap_corr</th>\n",
       "      <th>sigmapsf_corr</th>\n",
       "      <th>sigmagap_corr</th>\n",
       "      <th>has_stamps</th>\n",
       "      <th>parent_candid</th>\n",
       "    </tr>\n",
       "    <tr>\n",
       "      <th>oid</th>\n",
       "      <th></th>\n",
       "      <th></th>\n",
       "      <th></th>\n",
       "      <th></th>\n",
       "      <th></th>\n",
       "      <th></th>\n",
       "      <th></th>\n",
       "      <th></th>\n",
       "      <th></th>\n",
       "      <th></th>\n",
       "      <th></th>\n",
       "      <th></th>\n",
       "      <th></th>\n",
       "      <th></th>\n",
       "      <th></th>\n",
       "      <th></th>\n",
       "      <th></th>\n",
       "      <th></th>\n",
       "      <th></th>\n",
       "      <th></th>\n",
       "      <th></th>\n",
       "    </tr>\n",
       "  </thead>\n",
       "  <tbody>\n",
       "    <tr>\n",
       "      <th>ZTF20aatxryt</th>\n",
       "      <td>1161212185215015006</td>\n",
       "      <td>58915.212188</td>\n",
       "      <td>1</td>\n",
       "      <td>19.379900</td>\n",
       "      <td>19.669901</td>\n",
       "      <td>19.086201</td>\n",
       "      <td>0.320902</td>\n",
       "      <td>0.3077</td>\n",
       "      <td>167.946526</td>\n",
       "      <td>29.385157</td>\n",
       "      <td>...</td>\n",
       "      <td>52</td>\n",
       "      <td>20.709999</td>\n",
       "      <td>0.056</td>\n",
       "      <td>0.410000</td>\n",
       "      <td>19.669901</td>\n",
       "      <td>19.086201</td>\n",
       "      <td>0.320902</td>\n",
       "      <td>0.3077</td>\n",
       "      <td>False</td>\n",
       "      <td>1185207145215015010</td>\n",
       "    </tr>\n",
       "    <tr>\n",
       "      <th>ZTF20aatxryt</th>\n",
       "      <td>1185207145215015010</td>\n",
       "      <td>58939.207141</td>\n",
       "      <td>2</td>\n",
       "      <td>20.317467</td>\n",
       "      <td>17.292393</td>\n",
       "      <td>17.302299</td>\n",
       "      <td>0.050331</td>\n",
       "      <td>0.0272</td>\n",
       "      <td>167.946580</td>\n",
       "      <td>29.385133</td>\n",
       "      <td>...</td>\n",
       "      <td>52</td>\n",
       "      <td>20.451000</td>\n",
       "      <td>0.050</td>\n",
       "      <td>0.961429</td>\n",
       "      <td>17.292393</td>\n",
       "      <td>17.302299</td>\n",
       "      <td>0.050331</td>\n",
       "      <td>0.0272</td>\n",
       "      <td>True</td>\n",
       "      <td>-1</td>\n",
       "    </tr>\n",
       "    <tr>\n",
       "      <th>ZTF20aatxryt</th>\n",
       "      <td>1185220705215015007</td>\n",
       "      <td>58939.220706</td>\n",
       "      <td>2</td>\n",
       "      <td>19.930824</td>\n",
       "      <td>17.284670</td>\n",
       "      <td>17.307899</td>\n",
       "      <td>0.047289</td>\n",
       "      <td>0.0377</td>\n",
       "      <td>167.946584</td>\n",
       "      <td>29.385119</td>\n",
       "      <td>...</td>\n",
       "      <td>52</td>\n",
       "      <td>20.451000</td>\n",
       "      <td>0.050</td>\n",
       "      <td>0.971429</td>\n",
       "      <td>17.284670</td>\n",
       "      <td>17.307899</td>\n",
       "      <td>0.047289</td>\n",
       "      <td>0.0377</td>\n",
       "      <td>True</td>\n",
       "      <td>-1</td>\n",
       "    </tr>\n",
       "    <tr>\n",
       "      <th>ZTF20aatxryt</th>\n",
       "      <td>1185317115215015008</td>\n",
       "      <td>58939.317118</td>\n",
       "      <td>1</td>\n",
       "      <td>19.826799</td>\n",
       "      <td>17.918505</td>\n",
       "      <td>17.958000</td>\n",
       "      <td>0.098687</td>\n",
       "      <td>0.0674</td>\n",
       "      <td>167.946586</td>\n",
       "      <td>29.385123</td>\n",
       "      <td>...</td>\n",
       "      <td>52</td>\n",
       "      <td>20.710001</td>\n",
       "      <td>0.056</td>\n",
       "      <td>0.951429</td>\n",
       "      <td>17.918505</td>\n",
       "      <td>17.958000</td>\n",
       "      <td>0.098687</td>\n",
       "      <td>0.0674</td>\n",
       "      <td>True</td>\n",
       "      <td>-1</td>\n",
       "    </tr>\n",
       "    <tr>\n",
       "      <th>ZTF20aatxryt</th>\n",
       "      <td>1187249905215015009</td>\n",
       "      <td>58941.249907</td>\n",
       "      <td>1</td>\n",
       "      <td>19.945354</td>\n",
       "      <td>18.001253</td>\n",
       "      <td>18.032400</td>\n",
       "      <td>0.070660</td>\n",
       "      <td>0.0627</td>\n",
       "      <td>167.946598</td>\n",
       "      <td>29.385120</td>\n",
       "      <td>...</td>\n",
       "      <td>52</td>\n",
       "      <td>20.710001</td>\n",
       "      <td>0.056</td>\n",
       "      <td>0.954286</td>\n",
       "      <td>18.001253</td>\n",
       "      <td>18.032400</td>\n",
       "      <td>0.070660</td>\n",
       "      <td>0.0627</td>\n",
       "      <td>True</td>\n",
       "      <td>-1</td>\n",
       "    </tr>\n",
       "  </tbody>\n",
       "</table>\n",
       "<p>5 rows × 26 columns</p>\n",
       "</div>"
      ],
      "text/plain": [
       "                           candid           mjd  fid  diffmaglim     magpsf  \\\n",
       "oid                                                                           \n",
       "ZTF20aatxryt  1161212185215015006  58915.212188    1   19.379900  19.669901   \n",
       "ZTF20aatxryt  1185207145215015010  58939.207141    2   20.317467  17.292393   \n",
       "ZTF20aatxryt  1185220705215015007  58939.220706    2   19.930824  17.284670   \n",
       "ZTF20aatxryt  1185317115215015008  58939.317118    1   19.826799  17.918505   \n",
       "ZTF20aatxryt  1187249905215015009  58941.249907    1   19.945354  18.001253   \n",
       "\n",
       "                  magap  sigmapsf  sigmagap          ra        dec  ...  rcid  \\\n",
       "oid                                                                 ...         \n",
       "ZTF20aatxryt  19.086201  0.320902    0.3077  167.946526  29.385157  ...    52   \n",
       "ZTF20aatxryt  17.302299  0.050331    0.0272  167.946580  29.385133  ...    52   \n",
       "ZTF20aatxryt  17.307899  0.047289    0.0377  167.946584  29.385119  ...    52   \n",
       "ZTF20aatxryt  17.958000  0.098687    0.0674  167.946586  29.385123  ...    52   \n",
       "ZTF20aatxryt  18.032400  0.070660    0.0627  167.946598  29.385120  ...    52   \n",
       "\n",
       "                  magnr  sigmagnr        rb  magpsf_corr  magap_corr  \\\n",
       "oid                                                                    \n",
       "ZTF20aatxryt  20.709999     0.056  0.410000    19.669901   19.086201   \n",
       "ZTF20aatxryt  20.451000     0.050  0.961429    17.292393   17.302299   \n",
       "ZTF20aatxryt  20.451000     0.050  0.971429    17.284670   17.307899   \n",
       "ZTF20aatxryt  20.710001     0.056  0.951429    17.918505   17.958000   \n",
       "ZTF20aatxryt  20.710001     0.056  0.954286    18.001253   18.032400   \n",
       "\n",
       "              sigmapsf_corr  sigmagap_corr  has_stamps        parent_candid  \n",
       "oid                                                                          \n",
       "ZTF20aatxryt       0.320902         0.3077       False  1185207145215015010  \n",
       "ZTF20aatxryt       0.050331         0.0272        True                   -1  \n",
       "ZTF20aatxryt       0.047289         0.0377        True                   -1  \n",
       "ZTF20aatxryt       0.098687         0.0674        True                   -1  \n",
       "ZTF20aatxryt       0.070660         0.0627        True                   -1  \n",
       "\n",
       "[5 rows x 26 columns]"
      ]
     },
     "metadata": {},
     "output_type": "display_data"
    },
    {
     "name": "stdout",
     "output_type": "stream",
     "text": [
      "Number of rows found in db: 322\n"
     ]
    }
   ],
   "source": [
    "query = '''\n",
    "SELECT\n",
    "    *\n",
    "FROM\n",
    "    detections\n",
    "WHERE\n",
    "    oid in (%s)\n",
    "''' % \",\".join([\"'%s'\" % oid for oid in objs.index])\n",
    "objs_indb = pd.read_sql_query(query, conn)\n",
    "objs_indb.set_index('oid', inplace=True)\n",
    "nobjs_indb = len(objs_indb)\n",
    "\n",
    "display(objs_indb.head())\n",
    "print('Number of rows found in db:', nobjs_indb)"
   ]
  },
  {
   "cell_type": "markdown",
   "metadata": {},
   "source": [
    "Select an oid to display plots and image"
   ]
  },
  {
   "cell_type": "code",
   "execution_count": 11,
   "metadata": {
    "ExecuteTime": {
     "end_time": "2020-11-16T19:25:03.199395Z",
     "start_time": "2020-11-16T19:25:03.195603Z"
    }
   },
   "outputs": [
    {
     "data": {
      "text/plain": [
       "'ZTF20aatxryt'"
      ]
     },
     "execution_count": 11,
     "metadata": {},
     "output_type": "execute_result"
    }
   ],
   "source": [
    "seloid = objs.index[0]\n",
    "seloid"
   ]
  },
  {
   "cell_type": "markdown",
   "metadata": {},
   "source": [
    "Filter the detections for given oid"
   ]
  },
  {
   "cell_type": "code",
   "execution_count": 12,
   "metadata": {
    "ExecuteTime": {
     "end_time": "2020-11-16T19:25:03.854208Z",
     "start_time": "2020-11-16T19:25:03.201163Z"
    }
   },
   "outputs": [
    {
     "data": {
      "text/html": [
       "<div>\n",
       "<style scoped>\n",
       "    .dataframe tbody tr th:only-of-type {\n",
       "        vertical-align: middle;\n",
       "    }\n",
       "\n",
       "    .dataframe tbody tr th {\n",
       "        vertical-align: top;\n",
       "    }\n",
       "\n",
       "    .dataframe thead th {\n",
       "        text-align: right;\n",
       "    }\n",
       "</style>\n",
       "<table border=\"1\" class=\"dataframe\">\n",
       "  <thead>\n",
       "    <tr style=\"text-align: right;\">\n",
       "      <th></th>\n",
       "      <th>candid</th>\n",
       "      <th>mjd</th>\n",
       "      <th>fid</th>\n",
       "      <th>diffmaglim</th>\n",
       "      <th>magpsf</th>\n",
       "      <th>magap</th>\n",
       "      <th>sigmapsf</th>\n",
       "      <th>sigmagap</th>\n",
       "      <th>ra</th>\n",
       "      <th>dec</th>\n",
       "      <th>...</th>\n",
       "      <th>rcid</th>\n",
       "      <th>magnr</th>\n",
       "      <th>sigmagnr</th>\n",
       "      <th>rb</th>\n",
       "      <th>magpsf_corr</th>\n",
       "      <th>magap_corr</th>\n",
       "      <th>sigmapsf_corr</th>\n",
       "      <th>sigmagap_corr</th>\n",
       "      <th>has_stamps</th>\n",
       "      <th>parent_candid</th>\n",
       "    </tr>\n",
       "    <tr>\n",
       "      <th>oid</th>\n",
       "      <th></th>\n",
       "      <th></th>\n",
       "      <th></th>\n",
       "      <th></th>\n",
       "      <th></th>\n",
       "      <th></th>\n",
       "      <th></th>\n",
       "      <th></th>\n",
       "      <th></th>\n",
       "      <th></th>\n",
       "      <th></th>\n",
       "      <th></th>\n",
       "      <th></th>\n",
       "      <th></th>\n",
       "      <th></th>\n",
       "      <th></th>\n",
       "      <th></th>\n",
       "      <th></th>\n",
       "      <th></th>\n",
       "      <th></th>\n",
       "      <th></th>\n",
       "    </tr>\n",
       "  </thead>\n",
       "  <tbody>\n",
       "    <tr>\n",
       "      <th>ZTF20aatxryt</th>\n",
       "      <td>1161212185215015006</td>\n",
       "      <td>58915.212188</td>\n",
       "      <td>1</td>\n",
       "      <td>19.379900</td>\n",
       "      <td>19.669901</td>\n",
       "      <td>19.086201</td>\n",
       "      <td>0.320902</td>\n",
       "      <td>0.3077</td>\n",
       "      <td>167.946526</td>\n",
       "      <td>29.385157</td>\n",
       "      <td>...</td>\n",
       "      <td>52</td>\n",
       "      <td>20.709999</td>\n",
       "      <td>0.056</td>\n",
       "      <td>0.410000</td>\n",
       "      <td>19.669901</td>\n",
       "      <td>19.086201</td>\n",
       "      <td>0.320902</td>\n",
       "      <td>0.3077</td>\n",
       "      <td>False</td>\n",
       "      <td>1185207145215015010</td>\n",
       "    </tr>\n",
       "    <tr>\n",
       "      <th>ZTF20aatxryt</th>\n",
       "      <td>1185207145215015010</td>\n",
       "      <td>58939.207141</td>\n",
       "      <td>2</td>\n",
       "      <td>20.317467</td>\n",
       "      <td>17.292393</td>\n",
       "      <td>17.302299</td>\n",
       "      <td>0.050331</td>\n",
       "      <td>0.0272</td>\n",
       "      <td>167.946580</td>\n",
       "      <td>29.385133</td>\n",
       "      <td>...</td>\n",
       "      <td>52</td>\n",
       "      <td>20.451000</td>\n",
       "      <td>0.050</td>\n",
       "      <td>0.961429</td>\n",
       "      <td>17.292393</td>\n",
       "      <td>17.302299</td>\n",
       "      <td>0.050331</td>\n",
       "      <td>0.0272</td>\n",
       "      <td>True</td>\n",
       "      <td>-1</td>\n",
       "    </tr>\n",
       "    <tr>\n",
       "      <th>ZTF20aatxryt</th>\n",
       "      <td>1185220705215015007</td>\n",
       "      <td>58939.220706</td>\n",
       "      <td>2</td>\n",
       "      <td>19.930824</td>\n",
       "      <td>17.284670</td>\n",
       "      <td>17.307899</td>\n",
       "      <td>0.047289</td>\n",
       "      <td>0.0377</td>\n",
       "      <td>167.946584</td>\n",
       "      <td>29.385119</td>\n",
       "      <td>...</td>\n",
       "      <td>52</td>\n",
       "      <td>20.451000</td>\n",
       "      <td>0.050</td>\n",
       "      <td>0.971429</td>\n",
       "      <td>17.284670</td>\n",
       "      <td>17.307899</td>\n",
       "      <td>0.047289</td>\n",
       "      <td>0.0377</td>\n",
       "      <td>True</td>\n",
       "      <td>-1</td>\n",
       "    </tr>\n",
       "    <tr>\n",
       "      <th>ZTF20aatxryt</th>\n",
       "      <td>1185317115215015008</td>\n",
       "      <td>58939.317118</td>\n",
       "      <td>1</td>\n",
       "      <td>19.826799</td>\n",
       "      <td>17.918505</td>\n",
       "      <td>17.958000</td>\n",
       "      <td>0.098687</td>\n",
       "      <td>0.0674</td>\n",
       "      <td>167.946586</td>\n",
       "      <td>29.385123</td>\n",
       "      <td>...</td>\n",
       "      <td>52</td>\n",
       "      <td>20.710001</td>\n",
       "      <td>0.056</td>\n",
       "      <td>0.951429</td>\n",
       "      <td>17.918505</td>\n",
       "      <td>17.958000</td>\n",
       "      <td>0.098687</td>\n",
       "      <td>0.0674</td>\n",
       "      <td>True</td>\n",
       "      <td>-1</td>\n",
       "    </tr>\n",
       "    <tr>\n",
       "      <th>ZTF20aatxryt</th>\n",
       "      <td>1187249905215015009</td>\n",
       "      <td>58941.249907</td>\n",
       "      <td>1</td>\n",
       "      <td>19.945354</td>\n",
       "      <td>18.001253</td>\n",
       "      <td>18.032400</td>\n",
       "      <td>0.070660</td>\n",
       "      <td>0.0627</td>\n",
       "      <td>167.946598</td>\n",
       "      <td>29.385120</td>\n",
       "      <td>...</td>\n",
       "      <td>52</td>\n",
       "      <td>20.710001</td>\n",
       "      <td>0.056</td>\n",
       "      <td>0.954286</td>\n",
       "      <td>18.001253</td>\n",
       "      <td>18.032400</td>\n",
       "      <td>0.070660</td>\n",
       "      <td>0.0627</td>\n",
       "      <td>True</td>\n",
       "      <td>-1</td>\n",
       "    </tr>\n",
       "  </tbody>\n",
       "</table>\n",
       "<p>5 rows × 26 columns</p>\n",
       "</div>"
      ],
      "text/plain": [
       "                           candid           mjd  fid  diffmaglim     magpsf  \\\n",
       "oid                                                                           \n",
       "ZTF20aatxryt  1161212185215015006  58915.212188    1   19.379900  19.669901   \n",
       "ZTF20aatxryt  1185207145215015010  58939.207141    2   20.317467  17.292393   \n",
       "ZTF20aatxryt  1185220705215015007  58939.220706    2   19.930824  17.284670   \n",
       "ZTF20aatxryt  1185317115215015008  58939.317118    1   19.826799  17.918505   \n",
       "ZTF20aatxryt  1187249905215015009  58941.249907    1   19.945354  18.001253   \n",
       "\n",
       "                  magap  sigmapsf  sigmagap          ra        dec  ...  rcid  \\\n",
       "oid                                                                 ...         \n",
       "ZTF20aatxryt  19.086201  0.320902    0.3077  167.946526  29.385157  ...    52   \n",
       "ZTF20aatxryt  17.302299  0.050331    0.0272  167.946580  29.385133  ...    52   \n",
       "ZTF20aatxryt  17.307899  0.047289    0.0377  167.946584  29.385119  ...    52   \n",
       "ZTF20aatxryt  17.958000  0.098687    0.0674  167.946586  29.385123  ...    52   \n",
       "ZTF20aatxryt  18.032400  0.070660    0.0627  167.946598  29.385120  ...    52   \n",
       "\n",
       "                  magnr  sigmagnr        rb  magpsf_corr  magap_corr  \\\n",
       "oid                                                                    \n",
       "ZTF20aatxryt  20.709999     0.056  0.410000    19.669901   19.086201   \n",
       "ZTF20aatxryt  20.451000     0.050  0.961429    17.292393   17.302299   \n",
       "ZTF20aatxryt  20.451000     0.050  0.971429    17.284670   17.307899   \n",
       "ZTF20aatxryt  20.710001     0.056  0.951429    17.918505   17.958000   \n",
       "ZTF20aatxryt  20.710001     0.056  0.954286    18.001253   18.032400   \n",
       "\n",
       "              sigmapsf_corr  sigmagap_corr  has_stamps        parent_candid  \n",
       "oid                                                                          \n",
       "ZTF20aatxryt       0.320902         0.3077       False  1185207145215015010  \n",
       "ZTF20aatxryt       0.050331         0.0272        True                   -1  \n",
       "ZTF20aatxryt       0.047289         0.0377        True                   -1  \n",
       "ZTF20aatxryt       0.098687         0.0674        True                   -1  \n",
       "ZTF20aatxryt       0.070660         0.0627        True                   -1  \n",
       "\n",
       "[5 rows x 26 columns]"
      ]
     },
     "execution_count": 12,
     "metadata": {},
     "output_type": "execute_result"
    }
   ],
   "source": [
    "mask = objs_indb.index == seloid\n",
    "dets = objs_indb.loc[mask]\n",
    "dets.head()"
   ]
  },
  {
   "cell_type": "markdown",
   "metadata": {},
   "source": [
    "Plot light curve using difference magnitudes"
   ]
  },
  {
   "cell_type": "code",
   "execution_count": 13,
   "metadata": {
    "ExecuteTime": {
     "end_time": "2020-11-16T19:25:04.308399Z",
     "start_time": "2020-11-16T19:25:03.855893Z"
    }
   },
   "outputs": [
    {
     "data": {
      "image/png": "[encoded data removed]",
      "text/plain": [
       "<Figure size 1008x504 with 1 Axes>"
      ]
     },
     "metadata": {
      "needs_background": "light"
     },
     "output_type": "display_data"
    }
   ],
   "source": [
    "results = getobjdata(seloid, dets, doLC=True, diffmag=True)"
   ]
  },
  {
   "cell_type": "markdown",
   "metadata": {},
   "source": [
    "Plot light curve using corrected magnitudes (including extinction correction) in the rest-frame, assuming the redshift of the closest NED match. Show the Aladin image"
   ]
  },
  {
   "cell_type": "code",
   "execution_count": 14,
   "metadata": {
    "ExecuteTime": {
     "end_time": "2020-11-16T19:25:05.475890Z",
     "start_time": "2020-11-16T19:25:04.310282Z"
    }
   },
   "outputs": [
    {
     "data": {
      "text/html": [
       "<a href='http://alerce.online/object/ZTF20aatxryt' target=\"_blank\"> ZTF20aatxryt <a>"
      ],
      "text/plain": [
       "<IPython.core.display.HTML object>"
      ]
     },
     "metadata": {},
     "output_type": "display_data"
    },
    {
     "data": {
      "text/html": [
       "<i>Table length=6</i>\n",
       "<table id=\"table140547745129552\" class=\"table-striped table-bordered table-condensed\">\n",
       "<thead><tr><th>No.</th><th>Object Name</th><th>RA</th><th>DEC</th><th>Type</th><th>Velocity</th><th>Redshift</th><th>Redshift Flag</th><th>Magnitude and Filter</th><th>Separation</th><th>References</th><th>Notes</th><th>Photometry Points</th><th>Positions</th><th>Redshift Points</th><th>Diameter Points</th><th>Associations</th></tr></thead>\n",
       "<thead><tr><th></th><th></th><th>degrees</th><th>degrees</th><th></th><th>km / s</th><th></th><th></th><th></th><th>arcmin</th><th></th><th></th><th></th><th></th><th></th><th></th><th></th></tr></thead>\n",
       "<thead><tr><th>int32</th><th>str30</th><th>float64</th><th>float64</th><th>object</th><th>float64</th><th>float64</th><th>object</th><th>object</th><th>float64</th><th>int32</th><th>int32</th><th>int32</th><th>int32</th><th>int32</th><th>int32</th><th>int32</th></tr></thead>\n",
       "<tr><td>1</td><td>SDSS J111145.31+292259.7</td><td>167.93882</td><td>29.38325</td><td>*</td><td>34.0</td><td>0.000114</td><td>SPEC</td><td>21.6g</td><td>0.422</td><td>1</td><td>0</td><td>5</td><td>2</td><td>1</td><td>4</td><td>0</td></tr>\n",
       "<tr><td>2</td><td>WISEA J111146.33+292336.7</td><td>167.94308</td><td>29.39353</td><td>IrS</td><td>--</td><td>--</td><td></td><td></td><td>0.537</td><td>0</td><td>0</td><td>12</td><td>1</td><td>0</td><td>0</td><td>0</td></tr>\n",
       "<tr><td>3</td><td>WISEA J111146.53+292308.8</td><td>167.94388</td><td>29.38579</td><td>IrS</td><td>--</td><td>--</td><td></td><td></td><td>0.148</td><td>0</td><td>0</td><td>12</td><td>1</td><td>0</td><td>0</td><td>0</td></tr>\n",
       "<tr><td>4</td><td>SDSS J111147.15+292305.9</td><td>167.94648</td><td>29.38499</td><td>G</td><td>--</td><td>--</td><td></td><td>20.4g</td><td>0.01</td><td>0</td><td>0</td><td>19</td><td>2</td><td>0</td><td>4</td><td>0</td></tr>\n",
       "<tr><td>5</td><td>WISEA J111147.96+292326.9</td><td>167.94985</td><td>29.39075</td><td>G</td><td>--</td><td>--</td><td></td><td>22.1g</td><td>0.378</td><td>0</td><td>0</td><td>27</td><td>2</td><td>0</td><td>4</td><td>0</td></tr>\n",
       "<tr><td>6</td><td>WISEA J111149.71+292253.2</td><td>167.95713</td><td>29.38147</td><td>*</td><td>--</td><td>--</td><td></td><td>21.9g</td><td>0.593</td><td>0</td><td>0</td><td>17</td><td>2</td><td>0</td><td>4</td><td>0</td></tr>\n",
       "</table>"
      ],
      "text/plain": [
       "<Table length=6>\n",
       " No.         Object Name            RA     ... Diameter Points Associations\n",
       "                                 degrees   ...                             \n",
       "int32           str30            float64   ...      int32         int32    \n",
       "----- ------------------------- ---------- ... --------------- ------------\n",
       "    1  SDSS J111145.31+292259.7  167.93882 ...               4            0\n",
       "    2 WISEA J111146.33+292336.7  167.94308 ...               0            0\n",
       "    3 WISEA J111146.53+292308.8  167.94388 ...               0            0\n",
       "    4  SDSS J111147.15+292305.9  167.94648 ...               4            0\n",
       "    5 WISEA J111147.96+292326.9  167.94985 ...               4            0\n",
       "    6 WISEA J111149.71+292253.2  167.95713 ...               4            0"
      ]
     },
     "metadata": {},
     "output_type": "display_data"
    },
    {
     "data": {
      "text/plain": [
       "'Redshift found: 0.000114'"
      ]
     },
     "metadata": {},
     "output_type": "display_data"
    },
    {
     "data": {
      "application/vnd.jupyter.widget-view+json": {
       "model_id": "4446cd3a080b423e8717d71e090fce53",
       "version_major": 2,
       "version_minor": 0
      },
      "text/plain": [
       "Box(children=(Aladin(fov=0.04, layout=Layout(width='70%'), options=['allow_full_zoomout', 'coo_frame', 'fov', …"
      ]
     },
     "metadata": {},
     "output_type": "display_data"
    },
    {
     "data": {
      "text/plain": [
       "'Hover mouse to see information about catalog objects'"
      ]
     },
     "metadata": {},
     "output_type": "display_data"
    },
    {
     "data": {
      "image/png": "[encoded data removed]",
      "text/plain": [
       "<Figure size 1008x504 with 1 Axes>"
      ]
     },
     "metadata": {
      "needs_background": "light"
     },
     "output_type": "display_data"
    },
    {
     "data": {
      "image/png": "[encoded data removed]",
      "text/plain": [
       "<Figure size 1008x504 with 1 Axes>"
      ]
     },
     "metadata": {
      "needs_background": "light"
     },
     "output_type": "display_data"
    }
   ],
   "source": [
    "results = getobjdata(seloid, dets, doLC=True, doext=True, doNED=True, doredshift=True, showlink=True, showimage=True)"
   ]
  },
  {
   "cell_type": "markdown",
   "metadata": {},
   "source": [
    "Close connection to DB"
   ]
  },
  {
   "cell_type": "code",
   "execution_count": 15,
   "metadata": {
    "ExecuteTime": {
     "end_time": "2020-11-16T19:25:05.480280Z",
     "start_time": "2020-11-16T19:25:05.477425Z"
    }
   },
   "outputs": [],
   "source": [
    "conn.close()"
   ]
  },
  {
   "cell_type": "code",
   "execution_count": null,
   "metadata": {},
   "outputs": [],
   "source": []
  }
 ],
 "metadata": {
  "kernelspec": {
   "display_name": "Python 3",
   "language": "python",
   "name": "python3"
  },
  "language_info": {
   "codemirror_mode": {
    "name": "ipython",
    "version": 3
   },
   "file_extension": ".py",
   "mimetype": "text/x-python",
   "name": "python",
   "nbconvert_exporter": "python",
   "pygments_lexer": "ipython3",
   "version": "3.7.5"
  }
 },
 "nbformat": 4,
 "nbformat_minor": 4
}
