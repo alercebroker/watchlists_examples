{
 "cells": [
  {
   "cell_type": "markdown",
   "metadata": {},
   "source": [
    "# ALeRCE watchlists, list of oids\n",
    "\n",
    "```Author: Alejandra Muñoz Arancibia```\n",
    "\n",
    "ALeRCE notebook\n",
    "\n",
    "Read a list of object identifiers, connect to the database and check which of the objects have recent detections (date criterion can be changed). Save the list of objects that meet the date criterion to a csv file, including their information from the ``objects`` table"
   ]
  },
  {
   "cell_type": "code",
   "execution_count": 1,
   "metadata": {
    "ExecuteTime": {
     "end_time": "2020-11-16T19:24:31.262629Z",
     "start_time": "2020-11-16T19:24:31.252647Z"
    }
   },
   "outputs": [
    {
     "data": {
      "text/html": [
       "<style>.container { width:100% !important; }</style>"
      ],
      "text/plain": [
       "<IPython.core.display.HTML object>"
      ]
     },
     "metadata": {},
     "output_type": "display_data"
    }
   ],
   "source": [
    "from IPython.core.display import display, HTML\n",
    "display(HTML(\"<style>.container { width:100% !important; }</style>\"))"
   ]
  },
  {
   "cell_type": "code",
   "execution_count": 2,
   "metadata": {
    "ExecuteTime": {
     "end_time": "2020-11-16T19:24:31.822939Z",
     "start_time": "2020-11-16T19:24:31.264602Z"
    }
   },
   "outputs": [],
   "source": [
    "import pandas as pd\n",
    "import numpy as np\n",
    "from astropy.time import Time\n",
    "import psycopg2\n",
    "from datetime import date, datetime, timedelta\n",
    "import json"
   ]
  },
  {
   "cell_type": "markdown",
   "metadata": {},
   "source": [
    "Connect to DB"
   ]
  },
  {
   "cell_type": "code",
   "execution_count": 3,
   "metadata": {
    "ExecuteTime": {
     "end_time": "2020-11-16T19:24:33.201533Z",
     "start_time": "2020-11-16T19:24:31.824696Z"
    }
   },
   "outputs": [],
   "source": [
    "dir_dbfile = '/home/ammunoz1/Desktop/Astro2020/ALeRCE/alercebroker/usecases/'\n",
    "credentials_file = dir_dbfile+'alercereaduser_v2.json' #online data\n",
    "#credentials_file = dir_dbfile+'alercereaduser_v3.json' #new db\n",
    "\n",
    "with open(credentials_file) as jsonfile:\n",
    "    params = json.load(jsonfile)[\"params\"]\n",
    "\n",
    "conn = psycopg2.connect(dbname=params['dbname'], user=params['user'], host=params['host'],\n",
    "                        password=params['password'])"
   ]
  },
  {
   "cell_type": "markdown",
   "metadata": {},
   "source": [
    "Read file with oids (csv format, first column has oid, comments start with '#')"
   ]
  },
  {
   "cell_type": "code",
   "execution_count": 4,
   "metadata": {
    "ExecuteTime": {
     "end_time": "2020-11-16T19:24:33.214454Z",
     "start_time": "2020-11-16T19:24:33.207484Z"
    }
   },
   "outputs": [],
   "source": [
    "dir_watchlists = '/home/ammunoz1/Desktop/Astro2020/ALeRCE/Watchlists/'\n",
    "namefil = dir_watchlists+'sources.csv'"
   ]
  },
  {
   "cell_type": "code",
   "execution_count": 5,
   "metadata": {
    "ExecuteTime": {
     "end_time": "2020-11-16T19:24:33.455969Z",
     "start_time": "2020-11-16T19:24:33.220619Z"
    },
    "scrolled": true
   },
   "outputs": [
    {
     "name": "stdout",
     "output_type": "stream",
     "text": [
      "Number of oids: 52\n"
     ]
    },
    {
     "data": {
      "text/html": [
       "<div>\n",
       "<style scoped>\n",
       "    .dataframe tbody tr th:only-of-type {\n",
       "        vertical-align: middle;\n",
       "    }\n",
       "\n",
       "    .dataframe tbody tr th {\n",
       "        vertical-align: top;\n",
       "    }\n",
       "\n",
       "    .dataframe thead th {\n",
       "        text-align: right;\n",
       "    }\n",
       "</style>\n",
       "<table border=\"1\" class=\"dataframe\">\n",
       "  <thead>\n",
       "    <tr style=\"text-align: right;\">\n",
       "      <th></th>\n",
       "      <th>oid</th>\n",
       "    </tr>\n",
       "  </thead>\n",
       "  <tbody>\n",
       "    <tr>\n",
       "      <th>0</th>\n",
       "      <td>ZTF20abpgnos</td>\n",
       "    </tr>\n",
       "    <tr>\n",
       "      <th>1</th>\n",
       "      <td>ZTF20abwezjk</td>\n",
       "    </tr>\n",
       "    <tr>\n",
       "      <th>2</th>\n",
       "      <td>ZTF20abxgxjd</td>\n",
       "    </tr>\n",
       "    <tr>\n",
       "      <th>3</th>\n",
       "      <td>ZTF20abyptpc</td>\n",
       "    </tr>\n",
       "    <tr>\n",
       "      <th>4</th>\n",
       "      <td>ZTF18abqyaix</td>\n",
       "    </tr>\n",
       "  </tbody>\n",
       "</table>\n",
       "</div>"
      ],
      "text/plain": [
       "            oid\n",
       "0  ZTF20abpgnos\n",
       "1  ZTF20abwezjk\n",
       "2  ZTF20abxgxjd\n",
       "3  ZTF20abyptpc\n",
       "4  ZTF18abqyaix"
      ]
     },
     "metadata": {},
     "output_type": "display_data"
    },
    {
     "name": "stdout",
     "output_type": "stream",
     "text": [
      "Number of unique oids: 52\n"
     ]
    }
   ],
   "source": [
    "objs = pd.read_csv(namefil, header=None, sep=',', comment='#', skip_blank_lines=True)\n",
    "objs.rename(columns={0: 'oid'}, inplace=True)\n",
    "\n",
    "if len(objs.columns)>1:\n",
    "    objs = objs[['oid']]\n",
    "\n",
    "#display(objs.head())\n",
    "print('Number of oids:', len(objs))\n",
    "\n",
    "objs_uniq = pd.unique(objs['oid'])\n",
    "objs = pd.DataFrame(objs_uniq, columns=['oid'])\n",
    "nobjs = len(objs)\n",
    "\n",
    "display(objs.head())\n",
    "print('Number of unique oids:', nobjs)"
   ]
  },
  {
   "cell_type": "markdown",
   "metadata": {},
   "source": [
    "Check that all oids are found in the database"
   ]
  },
  {
   "cell_type": "code",
   "execution_count": 6,
   "metadata": {
    "ExecuteTime": {
     "end_time": "2020-11-16T19:24:34.246172Z",
     "start_time": "2020-11-16T19:24:33.458448Z"
    },
    "scrolled": true
   },
   "outputs": [
    {
     "data": {
      "text/html": [
       "<div>\n",
       "<style scoped>\n",
       "    .dataframe tbody tr th:only-of-type {\n",
       "        vertical-align: middle;\n",
       "    }\n",
       "\n",
       "    .dataframe tbody tr th {\n",
       "        vertical-align: top;\n",
       "    }\n",
       "\n",
       "    .dataframe thead th {\n",
       "        text-align: right;\n",
       "    }\n",
       "</style>\n",
       "<table border=\"1\" class=\"dataframe\">\n",
       "  <thead>\n",
       "    <tr style=\"text-align: right;\">\n",
       "      <th></th>\n",
       "      <th>nobs</th>\n",
       "      <th>mean_magap_g</th>\n",
       "      <th>mean_magap_r</th>\n",
       "      <th>median_magap_g</th>\n",
       "      <th>median_magap_r</th>\n",
       "      <th>max_magap_g</th>\n",
       "      <th>max_magap_r</th>\n",
       "      <th>min_magap_g</th>\n",
       "      <th>min_magap_r</th>\n",
       "      <th>sigma_magap_g</th>\n",
       "      <th>...</th>\n",
       "      <th>deltajd</th>\n",
       "      <th>lastmjd</th>\n",
       "      <th>firstmjd</th>\n",
       "      <th>period</th>\n",
       "      <th>catalogid</th>\n",
       "      <th>classxmatch</th>\n",
       "      <th>classrf</th>\n",
       "      <th>pclassrf</th>\n",
       "      <th>pclassearly</th>\n",
       "      <th>classearly</th>\n",
       "    </tr>\n",
       "    <tr>\n",
       "      <th>oid</th>\n",
       "      <th></th>\n",
       "      <th></th>\n",
       "      <th></th>\n",
       "      <th></th>\n",
       "      <th></th>\n",
       "      <th></th>\n",
       "      <th></th>\n",
       "      <th></th>\n",
       "      <th></th>\n",
       "      <th></th>\n",
       "      <th></th>\n",
       "      <th></th>\n",
       "      <th></th>\n",
       "      <th></th>\n",
       "      <th></th>\n",
       "      <th></th>\n",
       "      <th></th>\n",
       "      <th></th>\n",
       "      <th></th>\n",
       "      <th></th>\n",
       "      <th></th>\n",
       "    </tr>\n",
       "  </thead>\n",
       "  <tbody>\n",
       "    <tr>\n",
       "      <th>ZTF18abqyaix</th>\n",
       "      <td>46</td>\n",
       "      <td>18.112278</td>\n",
       "      <td>18.199050</td>\n",
       "      <td>18.133901</td>\n",
       "      <td>18.184250</td>\n",
       "      <td>18.661301</td>\n",
       "      <td>18.735500</td>\n",
       "      <td>17.444599</td>\n",
       "      <td>17.690500</td>\n",
       "      <td>0.284267</td>\n",
       "      <td>...</td>\n",
       "      <td>21.978912</td>\n",
       "      <td>59095.397998</td>\n",
       "      <td>59073.419086</td>\n",
       "      <td>None</td>\n",
       "      <td>None</td>\n",
       "      <td>None</td>\n",
       "      <td>10.0</td>\n",
       "      <td>0.298800</td>\n",
       "      <td>0.621764</td>\n",
       "      <td>19</td>\n",
       "    </tr>\n",
       "    <tr>\n",
       "      <th>ZTF18acsvogv</th>\n",
       "      <td>12</td>\n",
       "      <td>17.886529</td>\n",
       "      <td>17.598240</td>\n",
       "      <td>17.721001</td>\n",
       "      <td>17.526899</td>\n",
       "      <td>19.176600</td>\n",
       "      <td>18.102900</td>\n",
       "      <td>17.108400</td>\n",
       "      <td>16.962601</td>\n",
       "      <td>0.826194</td>\n",
       "      <td>...</td>\n",
       "      <td>25.963704</td>\n",
       "      <td>59145.129005</td>\n",
       "      <td>59119.165301</td>\n",
       "      <td>None</td>\n",
       "      <td>None</td>\n",
       "      <td>None</td>\n",
       "      <td>11.0</td>\n",
       "      <td>0.268500</td>\n",
       "      <td>0.461903</td>\n",
       "      <td>19</td>\n",
       "    </tr>\n",
       "    <tr>\n",
       "      <th>ZTF19abyvqes</th>\n",
       "      <td>7</td>\n",
       "      <td>19.799999</td>\n",
       "      <td>19.892500</td>\n",
       "      <td>19.799999</td>\n",
       "      <td>19.751801</td>\n",
       "      <td>19.899599</td>\n",
       "      <td>20.494600</td>\n",
       "      <td>19.700399</td>\n",
       "      <td>19.488701</td>\n",
       "      <td>0.140855</td>\n",
       "      <td>...</td>\n",
       "      <td>3.037685</td>\n",
       "      <td>59118.446238</td>\n",
       "      <td>59115.408553</td>\n",
       "      <td>None</td>\n",
       "      <td>None</td>\n",
       "      <td>None</td>\n",
       "      <td>NaN</td>\n",
       "      <td>NaN</td>\n",
       "      <td>0.503165</td>\n",
       "      <td>19</td>\n",
       "    </tr>\n",
       "    <tr>\n",
       "      <th>ZTF20aafqxxd</th>\n",
       "      <td>5</td>\n",
       "      <td>NaN</td>\n",
       "      <td>17.027880</td>\n",
       "      <td>NaN</td>\n",
       "      <td>16.892799</td>\n",
       "      <td>NaN</td>\n",
       "      <td>18.277800</td>\n",
       "      <td>NaN</td>\n",
       "      <td>16.073500</td>\n",
       "      <td>NaN</td>\n",
       "      <td>...</td>\n",
       "      <td>0.014005</td>\n",
       "      <td>59110.471794</td>\n",
       "      <td>59110.457789</td>\n",
       "      <td>None</td>\n",
       "      <td>None</td>\n",
       "      <td>None</td>\n",
       "      <td>NaN</td>\n",
       "      <td>NaN</td>\n",
       "      <td>0.366620</td>\n",
       "      <td>19</td>\n",
       "    </tr>\n",
       "    <tr>\n",
       "      <th>ZTF20aatxryt</th>\n",
       "      <td>44</td>\n",
       "      <td>18.947260</td>\n",
       "      <td>18.874132</td>\n",
       "      <td>19.050900</td>\n",
       "      <td>19.021700</td>\n",
       "      <td>19.282801</td>\n",
       "      <td>20.254101</td>\n",
       "      <td>17.958000</td>\n",
       "      <td>17.302299</td>\n",
       "      <td>0.327757</td>\n",
       "      <td>...</td>\n",
       "      <td>253.316528</td>\n",
       "      <td>59168.528715</td>\n",
       "      <td>58915.212188</td>\n",
       "      <td>None</td>\n",
       "      <td>None</td>\n",
       "      <td>None</td>\n",
       "      <td>14.0</td>\n",
       "      <td>0.337824</td>\n",
       "      <td>0.530542</td>\n",
       "      <td>19</td>\n",
       "    </tr>\n",
       "  </tbody>\n",
       "</table>\n",
       "<p>5 rows × 43 columns</p>\n",
       "</div>"
      ],
      "text/plain": [
       "              nobs  mean_magap_g  mean_magap_r  median_magap_g  \\\n",
       "oid                                                              \n",
       "ZTF18abqyaix    46     18.112278     18.199050       18.133901   \n",
       "ZTF18acsvogv    12     17.886529     17.598240       17.721001   \n",
       "ZTF19abyvqes     7     19.799999     19.892500       19.799999   \n",
       "ZTF20aafqxxd     5           NaN     17.027880             NaN   \n",
       "ZTF20aatxryt    44     18.947260     18.874132       19.050900   \n",
       "\n",
       "              median_magap_r  max_magap_g  max_magap_r  min_magap_g  \\\n",
       "oid                                                                   \n",
       "ZTF18abqyaix       18.184250    18.661301    18.735500    17.444599   \n",
       "ZTF18acsvogv       17.526899    19.176600    18.102900    17.108400   \n",
       "ZTF19abyvqes       19.751801    19.899599    20.494600    19.700399   \n",
       "ZTF20aafqxxd       16.892799          NaN    18.277800          NaN   \n",
       "ZTF20aatxryt       19.021700    19.282801    20.254101    17.958000   \n",
       "\n",
       "              min_magap_r  sigma_magap_g  ...     deltajd       lastmjd  \\\n",
       "oid                                       ...                             \n",
       "ZTF18abqyaix    17.690500       0.284267  ...   21.978912  59095.397998   \n",
       "ZTF18acsvogv    16.962601       0.826194  ...   25.963704  59145.129005   \n",
       "ZTF19abyvqes    19.488701       0.140855  ...    3.037685  59118.446238   \n",
       "ZTF20aafqxxd    16.073500            NaN  ...    0.014005  59110.471794   \n",
       "ZTF20aatxryt    17.302299       0.327757  ...  253.316528  59168.528715   \n",
       "\n",
       "                  firstmjd  period  catalogid  classxmatch  classrf  pclassrf  \\\n",
       "oid                                                                             \n",
       "ZTF18abqyaix  59073.419086    None       None         None     10.0  0.298800   \n",
       "ZTF18acsvogv  59119.165301    None       None         None     11.0  0.268500   \n",
       "ZTF19abyvqes  59115.408553    None       None         None      NaN       NaN   \n",
       "ZTF20aafqxxd  59110.457789    None       None         None      NaN       NaN   \n",
       "ZTF20aatxryt  58915.212188    None       None         None     14.0  0.337824   \n",
       "\n",
       "              pclassearly  classearly  \n",
       "oid                                    \n",
       "ZTF18abqyaix     0.621764          19  \n",
       "ZTF18acsvogv     0.461903          19  \n",
       "ZTF19abyvqes     0.503165          19  \n",
       "ZTF20aafqxxd     0.366620          19  \n",
       "ZTF20aatxryt     0.530542          19  \n",
       "\n",
       "[5 rows x 43 columns]"
      ]
     },
     "metadata": {},
     "output_type": "display_data"
    },
    {
     "name": "stdout",
     "output_type": "stream",
     "text": [
      "Number of oids found in db: 52\n"
     ]
    }
   ],
   "source": [
    "query = '''\n",
    "SELECT\n",
    "    *\n",
    "FROM\n",
    "    objects\n",
    "WHERE\n",
    "    oid in (%s)\n",
    "''' % \",\".join([\"'%s'\" % oid for oid in objs['oid']])\n",
    "objs_indb = pd.read_sql_query(query, conn)\n",
    "objs_indb.set_index('oid', inplace=True)\n",
    "nobjs_indb = len(objs_indb)\n",
    "\n",
    "display(objs_indb.head())\n",
    "print('Number of oids found in db:', nobjs_indb)\n",
    "\n",
    "if nobjs_indb!=nobjs:\n",
    "    print('Number of unique oids:', nobjs, 'Problem!')"
   ]
  },
  {
   "cell_type": "markdown",
   "metadata": {},
   "source": [
    "Find current datetime in local and UTC formats"
   ]
  },
  {
   "cell_type": "code",
   "execution_count": 7,
   "metadata": {
    "ExecuteTime": {
     "end_time": "2020-11-16T19:24:34.253202Z",
     "start_time": "2020-11-16T19:24:34.247846Z"
    }
   },
   "outputs": [
    {
     "data": {
      "text/plain": [
       "('2020-11-16T16:24:34', '2020-11-16T19:24:34')"
      ]
     },
     "execution_count": 7,
     "metadata": {},
     "output_type": "execute_result"
    }
   ],
   "source": [
    "date_now_local = datetime.now()\n",
    "offset_utc = 3.\n",
    "date_now_utc = date_now_local+timedelta(hours=offset_utc)\n",
    "\n",
    "date_now_local = date_now_local.strftime('%Y-%m-%dT%H:%M:%S')\n",
    "date_now_utc = date_now_utc.strftime('%Y-%m-%dT%H:%M:%S')\n",
    "\n",
    "date_now_local, date_now_utc"
   ]
  },
  {
   "cell_type": "markdown",
   "metadata": {},
   "source": [
    "Define date criterion. Example: last 3 days (in MJD)"
   ]
  },
  {
   "cell_type": "code",
   "execution_count": 8,
   "metadata": {
    "ExecuteTime": {
     "end_time": "2020-11-16T19:24:34.465836Z",
     "start_time": "2020-11-16T19:24:34.255207Z"
    }
   },
   "outputs": [
    {
     "data": {
      "text/plain": [
       "59166.80872685185"
      ]
     },
     "execution_count": 8,
     "metadata": {},
     "output_type": "execute_result"
    }
   ],
   "source": [
    "date_now_utc = Time(date_now_utc, format='isot', scale='utc')\n",
    "\n",
    "date_lim = Time(date_now_utc, format=\"isot\", scale=\"utc\").mjd\n",
    "date_lim = date_lim-3.\n",
    "\n",
    "date_lim"
   ]
  },
  {
   "cell_type": "markdown",
   "metadata": {},
   "source": [
    "Apply date criterion"
   ]
  },
  {
   "cell_type": "code",
   "execution_count": 9,
   "metadata": {
    "ExecuteTime": {
     "end_time": "2020-11-16T19:24:34.638449Z",
     "start_time": "2020-11-16T19:24:34.467718Z"
    },
    "scrolled": true
   },
   "outputs": [
    {
     "data": {
      "text/html": [
       "<div>\n",
       "<style scoped>\n",
       "    .dataframe tbody tr th:only-of-type {\n",
       "        vertical-align: middle;\n",
       "    }\n",
       "\n",
       "    .dataframe tbody tr th {\n",
       "        vertical-align: top;\n",
       "    }\n",
       "\n",
       "    .dataframe thead th {\n",
       "        text-align: right;\n",
       "    }\n",
       "</style>\n",
       "<table border=\"1\" class=\"dataframe\">\n",
       "  <thead>\n",
       "    <tr style=\"text-align: right;\">\n",
       "      <th></th>\n",
       "      <th>nobs</th>\n",
       "      <th>mean_magap_g</th>\n",
       "      <th>mean_magap_r</th>\n",
       "      <th>median_magap_g</th>\n",
       "      <th>median_magap_r</th>\n",
       "      <th>max_magap_g</th>\n",
       "      <th>max_magap_r</th>\n",
       "      <th>min_magap_g</th>\n",
       "      <th>min_magap_r</th>\n",
       "      <th>sigma_magap_g</th>\n",
       "      <th>...</th>\n",
       "      <th>deltajd</th>\n",
       "      <th>lastmjd</th>\n",
       "      <th>firstmjd</th>\n",
       "      <th>period</th>\n",
       "      <th>catalogid</th>\n",
       "      <th>classxmatch</th>\n",
       "      <th>classrf</th>\n",
       "      <th>pclassrf</th>\n",
       "      <th>pclassearly</th>\n",
       "      <th>classearly</th>\n",
       "    </tr>\n",
       "    <tr>\n",
       "      <th>oid</th>\n",
       "      <th></th>\n",
       "      <th></th>\n",
       "      <th></th>\n",
       "      <th></th>\n",
       "      <th></th>\n",
       "      <th></th>\n",
       "      <th></th>\n",
       "      <th></th>\n",
       "      <th></th>\n",
       "      <th></th>\n",
       "      <th></th>\n",
       "      <th></th>\n",
       "      <th></th>\n",
       "      <th></th>\n",
       "      <th></th>\n",
       "      <th></th>\n",
       "      <th></th>\n",
       "      <th></th>\n",
       "      <th></th>\n",
       "      <th></th>\n",
       "      <th></th>\n",
       "    </tr>\n",
       "  </thead>\n",
       "  <tbody>\n",
       "    <tr>\n",
       "      <th>ZTF20aatxryt</th>\n",
       "      <td>44</td>\n",
       "      <td>18.947260</td>\n",
       "      <td>18.874132</td>\n",
       "      <td>19.050900</td>\n",
       "      <td>19.021700</td>\n",
       "      <td>19.282801</td>\n",
       "      <td>20.254101</td>\n",
       "      <td>17.958000</td>\n",
       "      <td>17.302299</td>\n",
       "      <td>0.327757</td>\n",
       "      <td>...</td>\n",
       "      <td>253.316528</td>\n",
       "      <td>59168.528715</td>\n",
       "      <td>58915.212188</td>\n",
       "      <td>None</td>\n",
       "      <td>None</td>\n",
       "      <td>None</td>\n",
       "      <td>14.0</td>\n",
       "      <td>0.337824</td>\n",
       "      <td>0.530542</td>\n",
       "      <td>19</td>\n",
       "    </tr>\n",
       "    <tr>\n",
       "      <th>ZTF20abyptpc</th>\n",
       "      <td>68</td>\n",
       "      <td>15.802083</td>\n",
       "      <td>15.652770</td>\n",
       "      <td>15.329800</td>\n",
       "      <td>15.359200</td>\n",
       "      <td>17.652100</td>\n",
       "      <td>17.818800</td>\n",
       "      <td>14.616600</td>\n",
       "      <td>14.634500</td>\n",
       "      <td>1.130153</td>\n",
       "      <td>...</td>\n",
       "      <td>70.867002</td>\n",
       "      <td>59169.227546</td>\n",
       "      <td>59098.360544</td>\n",
       "      <td>None</td>\n",
       "      <td>None</td>\n",
       "      <td>None</td>\n",
       "      <td>12.0</td>\n",
       "      <td>0.256736</td>\n",
       "      <td>0.628658</td>\n",
       "      <td>19</td>\n",
       "    </tr>\n",
       "    <tr>\n",
       "      <th>ZTF20abywydb</th>\n",
       "      <td>43</td>\n",
       "      <td>19.510526</td>\n",
       "      <td>19.261917</td>\n",
       "      <td>19.533701</td>\n",
       "      <td>19.092050</td>\n",
       "      <td>20.781200</td>\n",
       "      <td>20.974899</td>\n",
       "      <td>18.500900</td>\n",
       "      <td>18.398300</td>\n",
       "      <td>0.682794</td>\n",
       "      <td>...</td>\n",
       "      <td>63.866296</td>\n",
       "      <td>59168.290590</td>\n",
       "      <td>59104.424294</td>\n",
       "      <td>None</td>\n",
       "      <td>None</td>\n",
       "      <td>None</td>\n",
       "      <td>14.0</td>\n",
       "      <td>0.330672</td>\n",
       "      <td>0.495561</td>\n",
       "      <td>19</td>\n",
       "    </tr>\n",
       "    <tr>\n",
       "      <th>ZTF20acfucwr</th>\n",
       "      <td>35</td>\n",
       "      <td>18.568018</td>\n",
       "      <td>18.798083</td>\n",
       "      <td>18.662100</td>\n",
       "      <td>19.126349</td>\n",
       "      <td>20.113001</td>\n",
       "      <td>20.636200</td>\n",
       "      <td>17.008600</td>\n",
       "      <td>17.112900</td>\n",
       "      <td>0.931531</td>\n",
       "      <td>...</td>\n",
       "      <td>46.845532</td>\n",
       "      <td>59168.140231</td>\n",
       "      <td>59121.294699</td>\n",
       "      <td>None</td>\n",
       "      <td>None</td>\n",
       "      <td>None</td>\n",
       "      <td>10.0</td>\n",
       "      <td>0.326024</td>\n",
       "      <td>0.449320</td>\n",
       "      <td>19</td>\n",
       "    </tr>\n",
       "    <tr>\n",
       "      <th>ZTF20acgided</th>\n",
       "      <td>39</td>\n",
       "      <td>17.465700</td>\n",
       "      <td>17.623635</td>\n",
       "      <td>17.419000</td>\n",
       "      <td>17.422800</td>\n",
       "      <td>17.791901</td>\n",
       "      <td>19.425800</td>\n",
       "      <td>17.164101</td>\n",
       "      <td>17.178801</td>\n",
       "      <td>0.195136</td>\n",
       "      <td>...</td>\n",
       "      <td>45.916157</td>\n",
       "      <td>59169.217176</td>\n",
       "      <td>59123.301018</td>\n",
       "      <td>None</td>\n",
       "      <td>None</td>\n",
       "      <td>None</td>\n",
       "      <td>14.0</td>\n",
       "      <td>0.269280</td>\n",
       "      <td>0.593914</td>\n",
       "      <td>19</td>\n",
       "    </tr>\n",
       "  </tbody>\n",
       "</table>\n",
       "<p>5 rows × 43 columns</p>\n",
       "</div>"
      ],
      "text/plain": [
       "              nobs  mean_magap_g  mean_magap_r  median_magap_g  \\\n",
       "oid                                                              \n",
       "ZTF20aatxryt    44     18.947260     18.874132       19.050900   \n",
       "ZTF20abyptpc    68     15.802083     15.652770       15.329800   \n",
       "ZTF20abywydb    43     19.510526     19.261917       19.533701   \n",
       "ZTF20acfucwr    35     18.568018     18.798083       18.662100   \n",
       "ZTF20acgided    39     17.465700     17.623635       17.419000   \n",
       "\n",
       "              median_magap_r  max_magap_g  max_magap_r  min_magap_g  \\\n",
       "oid                                                                   \n",
       "ZTF20aatxryt       19.021700    19.282801    20.254101    17.958000   \n",
       "ZTF20abyptpc       15.359200    17.652100    17.818800    14.616600   \n",
       "ZTF20abywydb       19.092050    20.781200    20.974899    18.500900   \n",
       "ZTF20acfucwr       19.126349    20.113001    20.636200    17.008600   \n",
       "ZTF20acgided       17.422800    17.791901    19.425800    17.164101   \n",
       "\n",
       "              min_magap_r  sigma_magap_g  ...     deltajd       lastmjd  \\\n",
       "oid                                       ...                             \n",
       "ZTF20aatxryt    17.302299       0.327757  ...  253.316528  59168.528715   \n",
       "ZTF20abyptpc    14.634500       1.130153  ...   70.867002  59169.227546   \n",
       "ZTF20abywydb    18.398300       0.682794  ...   63.866296  59168.290590   \n",
       "ZTF20acfucwr    17.112900       0.931531  ...   46.845532  59168.140231   \n",
       "ZTF20acgided    17.178801       0.195136  ...   45.916157  59169.217176   \n",
       "\n",
       "                  firstmjd  period  catalogid  classxmatch  classrf  pclassrf  \\\n",
       "oid                                                                             \n",
       "ZTF20aatxryt  58915.212188    None       None         None     14.0  0.337824   \n",
       "ZTF20abyptpc  59098.360544    None       None         None     12.0  0.256736   \n",
       "ZTF20abywydb  59104.424294    None       None         None     14.0  0.330672   \n",
       "ZTF20acfucwr  59121.294699    None       None         None     10.0  0.326024   \n",
       "ZTF20acgided  59123.301018    None       None         None     14.0  0.269280   \n",
       "\n",
       "              pclassearly  classearly  \n",
       "oid                                    \n",
       "ZTF20aatxryt     0.530542          19  \n",
       "ZTF20abyptpc     0.628658          19  \n",
       "ZTF20abywydb     0.495561          19  \n",
       "ZTF20acfucwr     0.449320          19  \n",
       "ZTF20acgided     0.593914          19  \n",
       "\n",
       "[5 rows x 43 columns]"
      ]
     },
     "metadata": {},
     "output_type": "display_data"
    },
    {
     "name": "stdout",
     "output_type": "stream",
     "text": [
      "Number of oids found in db that match criterion: 10\n"
     ]
    }
   ],
   "source": [
    "query = '''\n",
    "SELECT\n",
    "    *\n",
    "FROM\n",
    "    objects\n",
    "WHERE\n",
    "    lastmjd >= %s\n",
    "    AND oid in (%s)\n",
    "''' % (date_lim, ','.join([\"'%s'\" % oid for oid in objs['oid']]))\n",
    "objs_indb = pd.read_sql_query(query, conn)\n",
    "objs_indb.set_index('oid', inplace=True)\n",
    "\n",
    "display(objs_indb.head())\n",
    "print('Number of oids found in db that match criterion:', len(objs_indb))"
   ]
  },
  {
   "cell_type": "markdown",
   "metadata": {},
   "source": [
    "Save to csv file"
   ]
  },
  {
   "cell_type": "code",
   "execution_count": 10,
   "metadata": {
    "ExecuteTime": {
     "end_time": "2020-11-16T19:24:34.670607Z",
     "start_time": "2020-11-16T19:24:34.640128Z"
    }
   },
   "outputs": [
    {
     "name": "stdout",
     "output_type": "stream",
     "text": [
      "Saved to file: /home/ammunoz1/Desktop/Astro2020/ALeRCE/Watchlists/out/sources_out_2020-11-16T19_24_34.000.csv\n"
     ]
    }
   ],
   "source": [
    "namein = namefil.replace(dir_watchlists, '')\n",
    "namein = namein.replace('.csv', '_out_')\n",
    "\n",
    "namefil2 = dir_watchlists+'out/'+namein+str(date_now_utc).replace(':', '_')+'.csv'\n",
    "objs_indb.to_csv(namefil2)\n",
    "\n",
    "print('Saved to file:', namefil2)"
   ]
  },
  {
   "cell_type": "markdown",
   "metadata": {},
   "source": [
    "Close connection to DB"
   ]
  },
  {
   "cell_type": "code",
   "execution_count": 11,
   "metadata": {
    "ExecuteTime": {
     "end_time": "2020-11-16T19:24:34.759843Z",
     "start_time": "2020-11-16T19:24:34.672769Z"
    }
   },
   "outputs": [],
   "source": [
    "conn.close()"
   ]
  },
  {
   "cell_type": "code",
   "execution_count": null,
   "metadata": {},
   "outputs": [],
   "source": []
  }
 ],
 "metadata": {
  "kernelspec": {
   "display_name": "Python 3",
   "language": "python",
   "name": "python3"
  },
  "language_info": {
   "codemirror_mode": {
    "name": "ipython",
    "version": 3
   },
   "file_extension": ".py",
   "mimetype": "text/x-python",
   "name": "python",
   "nbconvert_exporter": "python",
   "pygments_lexer": "ipython3",
   "version": "3.7.5"
  }
 },
 "nbformat": 4,
 "nbformat_minor": 4
}
