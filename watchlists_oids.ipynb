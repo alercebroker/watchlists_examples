{
 "cells": [
  {
   "cell_type": "markdown",
   "metadata": {},
   "source": [
    "# ALeRCE watchlists, list of oids\n",
    "\n",
    "```Author: Alejandra Muñoz Arancibia```\n",
    "\n",
    "ALeRCE notebook\n",
    "\n",
    "Read a list of object identifiers, connect to the database and check which of the objects have recent detections (date criterion can be changed). Save the list of objects that meet the date criterion to a csv file, including their information from the ``objects`` table"
   ]
  },
  {
   "cell_type": "code",
   "execution_count": 1,
   "metadata": {
    "ExecuteTime": {
     "end_time": "2020-11-27T19:32:29.924769Z",
     "start_time": "2020-11-27T19:32:29.909837Z"
    }
   },
   "outputs": [
    {
     "data": {
      "text/html": [
       "<style>.container { width:100% !important; }</style>"
      ],
      "text/plain": [
       "<IPython.core.display.HTML object>"
      ]
     },
     "metadata": {},
     "output_type": "display_data"
    }
   ],
   "source": [
    "from IPython.core.display import display, HTML\n",
    "display(HTML(\"<style>.container { width:100% !important; }</style>\"))"
   ]
  },
  {
   "cell_type": "code",
   "execution_count": 2,
   "metadata": {
    "ExecuteTime": {
     "end_time": "2020-11-27T19:32:30.572899Z",
     "start_time": "2020-11-27T19:32:29.927198Z"
    }
   },
   "outputs": [],
   "source": [
    "import pandas as pd\n",
    "import numpy as np\n",
    "from astropy.time import Time\n",
    "import psycopg2\n",
    "from datetime import date, datetime, timedelta\n",
    "import json"
   ]
  },
  {
   "cell_type": "markdown",
   "metadata": {},
   "source": [
    "Define directory and input file names"
   ]
  },
  {
   "cell_type": "code",
   "execution_count": 3,
   "metadata": {
    "ExecuteTime": {
     "end_time": "2020-11-27T19:32:30.578024Z",
     "start_time": "2020-11-27T19:32:30.575081Z"
    }
   },
   "outputs": [],
   "source": [
    "dir_watchlists = 'example_tables/' # can be changed to preferred directory\n",
    "namefil = dir_watchlists+'sources_example.csv' # can be changed to preferred file"
   ]
  },
  {
   "cell_type": "markdown",
   "metadata": {},
   "source": [
    "Input csv file structure: 1 line header, first column has oid, comments start with '#'"
   ]
  },
  {
   "cell_type": "code",
   "execution_count": 4,
   "metadata": {
    "ExecuteTime": {
     "end_time": "2020-11-27T19:32:30.693266Z",
     "start_time": "2020-11-27T19:32:30.579984Z"
    },
    "scrolled": true
   },
   "outputs": [
    {
     "name": "stdout",
     "output_type": "stream",
     "text": [
      "Number of oids: 7\n"
     ]
    },
    {
     "data": {
      "text/html": [
       "<div>\n",
       "<style scoped>\n",
       "    .dataframe tbody tr th:only-of-type {\n",
       "        vertical-align: middle;\n",
       "    }\n",
       "\n",
       "    .dataframe tbody tr th {\n",
       "        vertical-align: top;\n",
       "    }\n",
       "\n",
       "    .dataframe thead th {\n",
       "        text-align: right;\n",
       "    }\n",
       "</style>\n",
       "<table border=\"1\" class=\"dataframe\">\n",
       "  <thead>\n",
       "    <tr style=\"text-align: right;\">\n",
       "      <th></th>\n",
       "      <th>oid</th>\n",
       "    </tr>\n",
       "  </thead>\n",
       "  <tbody>\n",
       "    <tr>\n",
       "      <th>0</th>\n",
       "      <td>ZTF20abyptpc</td>\n",
       "    </tr>\n",
       "    <tr>\n",
       "      <th>1</th>\n",
       "      <td>ZTF20acgigfo</td>\n",
       "    </tr>\n",
       "    <tr>\n",
       "      <th>2</th>\n",
       "      <td>ZTF20abxgxjd</td>\n",
       "    </tr>\n",
       "    <tr>\n",
       "      <th>3</th>\n",
       "      <td>ZTF18acurdfi</td>\n",
       "    </tr>\n",
       "    <tr>\n",
       "      <th>4</th>\n",
       "      <td>ZTF18absggyi</td>\n",
       "    </tr>\n",
       "    <tr>\n",
       "      <th>5</th>\n",
       "      <td>ZTF18abaqycq</td>\n",
       "    </tr>\n",
       "    <tr>\n",
       "      <th>6</th>\n",
       "      <td>ZTF19aascajb</td>\n",
       "    </tr>\n",
       "  </tbody>\n",
       "</table>\n",
       "</div>"
      ],
      "text/plain": [
       "            oid\n",
       "0  ZTF20abyptpc\n",
       "1  ZTF20acgigfo\n",
       "2  ZTF20abxgxjd\n",
       "3  ZTF18acurdfi\n",
       "4  ZTF18absggyi\n",
       "5  ZTF18abaqycq\n",
       "6  ZTF19aascajb"
      ]
     },
     "metadata": {},
     "output_type": "display_data"
    },
    {
     "name": "stdout",
     "output_type": "stream",
     "text": [
      "Number of unique oids: 7\n"
     ]
    }
   ],
   "source": [
    "objs = pd.read_csv(namefil, sep=',', comment='#', skip_blank_lines=True)\n",
    "objs['oid'] = objs['oid'].str.replace(' ', '') # remove any space in oid\n",
    "#display(objs.head())\n",
    "print('Number of oids:', len(objs))\n",
    "\n",
    "objs_uniq = pd.unique(objs['oid'])\n",
    "objs = pd.DataFrame(objs_uniq, columns=['oid'])\n",
    "nobjs = len(objs)\n",
    "\n",
    "display(objs)\n",
    "#display(objs.head())\n",
    "print('Number of unique oids:', nobjs)"
   ]
  },
  {
   "cell_type": "markdown",
   "metadata": {},
   "source": [
    "Connect to DB"
   ]
  },
  {
   "cell_type": "code",
   "execution_count": 5,
   "metadata": {
    "ExecuteTime": {
     "end_time": "2020-11-27T19:32:31.583714Z",
     "start_time": "2020-11-27T19:32:30.699026Z"
    }
   },
   "outputs": [],
   "source": [
    "dir_dbfile = '../usecases/' # can be changed to preferred directory\n",
    "credentials_file = dir_dbfile+'alercereaduser_v2.json' # online data\n",
    "#credentials_file = dir_dbfile+'alercereaduser_v3.json' # new db\n",
    "\n",
    "with open(credentials_file) as jsonfile:\n",
    "    params = json.load(jsonfile)[\"params\"]\n",
    "\n",
    "conn = psycopg2.connect(dbname=params['dbname'], user=params['user'], host=params['host'],\n",
    "                        password=params['password'])"
   ]
  },
  {
   "cell_type": "markdown",
   "metadata": {},
   "source": [
    "Check that all oids are found in the DB"
   ]
  },
  {
   "cell_type": "code",
   "execution_count": 6,
   "metadata": {
    "ExecuteTime": {
     "end_time": "2020-11-27T19:32:31.965417Z",
     "start_time": "2020-11-27T19:32:31.588926Z"
    },
    "scrolled": true
   },
   "outputs": [
    {
     "data": {
      "text/html": [
       "<div>\n",
       "<style scoped>\n",
       "    .dataframe tbody tr th:only-of-type {\n",
       "        vertical-align: middle;\n",
       "    }\n",
       "\n",
       "    .dataframe tbody tr th {\n",
       "        vertical-align: top;\n",
       "    }\n",
       "\n",
       "    .dataframe thead th {\n",
       "        text-align: right;\n",
       "    }\n",
       "</style>\n",
       "<table border=\"1\" class=\"dataframe\">\n",
       "  <thead>\n",
       "    <tr style=\"text-align: right;\">\n",
       "      <th></th>\n",
       "      <th>nobs</th>\n",
       "      <th>mean_magap_g</th>\n",
       "      <th>mean_magap_r</th>\n",
       "      <th>median_magap_g</th>\n",
       "      <th>median_magap_r</th>\n",
       "      <th>max_magap_g</th>\n",
       "      <th>max_magap_r</th>\n",
       "      <th>min_magap_g</th>\n",
       "      <th>min_magap_r</th>\n",
       "      <th>sigma_magap_g</th>\n",
       "      <th>...</th>\n",
       "      <th>deltajd</th>\n",
       "      <th>lastmjd</th>\n",
       "      <th>firstmjd</th>\n",
       "      <th>period</th>\n",
       "      <th>catalogid</th>\n",
       "      <th>classxmatch</th>\n",
       "      <th>classrf</th>\n",
       "      <th>pclassrf</th>\n",
       "      <th>pclassearly</th>\n",
       "      <th>classearly</th>\n",
       "    </tr>\n",
       "    <tr>\n",
       "      <th>oid</th>\n",
       "      <th></th>\n",
       "      <th></th>\n",
       "      <th></th>\n",
       "      <th></th>\n",
       "      <th></th>\n",
       "      <th></th>\n",
       "      <th></th>\n",
       "      <th></th>\n",
       "      <th></th>\n",
       "      <th></th>\n",
       "      <th></th>\n",
       "      <th></th>\n",
       "      <th></th>\n",
       "      <th></th>\n",
       "      <th></th>\n",
       "      <th></th>\n",
       "      <th></th>\n",
       "      <th></th>\n",
       "      <th></th>\n",
       "      <th></th>\n",
       "      <th></th>\n",
       "    </tr>\n",
       "  </thead>\n",
       "  <tbody>\n",
       "    <tr>\n",
       "      <th>ZTF18abaqycq</th>\n",
       "      <td>214</td>\n",
       "      <td>19.261053</td>\n",
       "      <td>16.064374</td>\n",
       "      <td>19.562508</td>\n",
       "      <td>16.240995</td>\n",
       "      <td>22.017512</td>\n",
       "      <td>18.806114</td>\n",
       "      <td>16.840645</td>\n",
       "      <td>14.190115</td>\n",
       "      <td>1.139188</td>\n",
       "      <td>...</td>\n",
       "      <td>873.677072</td>\n",
       "      <td>59157.078148</td>\n",
       "      <td>58283.401076</td>\n",
       "      <td>None</td>\n",
       "      <td>None</td>\n",
       "      <td>None</td>\n",
       "      <td>4</td>\n",
       "      <td>0.988036</td>\n",
       "      <td>0.995911</td>\n",
       "      <td>20</td>\n",
       "    </tr>\n",
       "    <tr>\n",
       "      <th>ZTF18absggyi</th>\n",
       "      <td>166</td>\n",
       "      <td>15.693993</td>\n",
       "      <td>15.331590</td>\n",
       "      <td>15.862771</td>\n",
       "      <td>15.439172</td>\n",
       "      <td>16.128538</td>\n",
       "      <td>15.657760</td>\n",
       "      <td>14.761267</td>\n",
       "      <td>14.694319</td>\n",
       "      <td>0.346296</td>\n",
       "      <td>...</td>\n",
       "      <td>817.916319</td>\n",
       "      <td>59180.166528</td>\n",
       "      <td>58362.250208</td>\n",
       "      <td>None</td>\n",
       "      <td>None</td>\n",
       "      <td>None</td>\n",
       "      <td>5</td>\n",
       "      <td>0.956160</td>\n",
       "      <td>0.988680</td>\n",
       "      <td>20</td>\n",
       "    </tr>\n",
       "    <tr>\n",
       "      <th>ZTF18acurdfi</th>\n",
       "      <td>137</td>\n",
       "      <td>17.580142</td>\n",
       "      <td>16.957054</td>\n",
       "      <td>17.652945</td>\n",
       "      <td>17.070848</td>\n",
       "      <td>18.107182</td>\n",
       "      <td>17.857178</td>\n",
       "      <td>16.648235</td>\n",
       "      <td>16.076652</td>\n",
       "      <td>0.352519</td>\n",
       "      <td>...</td>\n",
       "      <td>718.064178</td>\n",
       "      <td>59179.525139</td>\n",
       "      <td>58461.460961</td>\n",
       "      <td>None</td>\n",
       "      <td>None</td>\n",
       "      <td>None</td>\n",
       "      <td>8</td>\n",
       "      <td>0.715444</td>\n",
       "      <td>0.821519</td>\n",
       "      <td>19</td>\n",
       "    </tr>\n",
       "    <tr>\n",
       "      <th>ZTF19aascajb</th>\n",
       "      <td>99</td>\n",
       "      <td>19.917325</td>\n",
       "      <td>19.805096</td>\n",
       "      <td>19.866660</td>\n",
       "      <td>19.811933</td>\n",
       "      <td>21.022226</td>\n",
       "      <td>20.458278</td>\n",
       "      <td>19.552661</td>\n",
       "      <td>19.522846</td>\n",
       "      <td>0.233495</td>\n",
       "      <td>...</td>\n",
       "      <td>192.629340</td>\n",
       "      <td>59039.177326</td>\n",
       "      <td>58846.547986</td>\n",
       "      <td>None</td>\n",
       "      <td>None</td>\n",
       "      <td>None</td>\n",
       "      <td>24</td>\n",
       "      <td>0.411384</td>\n",
       "      <td>0.541139</td>\n",
       "      <td>18</td>\n",
       "    </tr>\n",
       "    <tr>\n",
       "      <th>ZTF20abxgxjd</th>\n",
       "      <td>42</td>\n",
       "      <td>19.222247</td>\n",
       "      <td>18.822616</td>\n",
       "      <td>19.103800</td>\n",
       "      <td>18.769100</td>\n",
       "      <td>20.999901</td>\n",
       "      <td>20.016899</td>\n",
       "      <td>18.410400</td>\n",
       "      <td>18.175301</td>\n",
       "      <td>0.765393</td>\n",
       "      <td>...</td>\n",
       "      <td>46.927280</td>\n",
       "      <td>59137.112199</td>\n",
       "      <td>59090.184919</td>\n",
       "      <td>None</td>\n",
       "      <td>None</td>\n",
       "      <td>None</td>\n",
       "      <td>10</td>\n",
       "      <td>0.282000</td>\n",
       "      <td>0.633775</td>\n",
       "      <td>19</td>\n",
       "    </tr>\n",
       "    <tr>\n",
       "      <th>ZTF20abyptpc</th>\n",
       "      <td>73</td>\n",
       "      <td>15.991961</td>\n",
       "      <td>15.697200</td>\n",
       "      <td>15.604600</td>\n",
       "      <td>15.397000</td>\n",
       "      <td>17.747999</td>\n",
       "      <td>17.818800</td>\n",
       "      <td>14.616600</td>\n",
       "      <td>14.634500</td>\n",
       "      <td>1.211162</td>\n",
       "      <td>...</td>\n",
       "      <td>79.793981</td>\n",
       "      <td>59178.154525</td>\n",
       "      <td>59098.360544</td>\n",
       "      <td>None</td>\n",
       "      <td>None</td>\n",
       "      <td>None</td>\n",
       "      <td>12</td>\n",
       "      <td>0.256896</td>\n",
       "      <td>0.628658</td>\n",
       "      <td>19</td>\n",
       "    </tr>\n",
       "    <tr>\n",
       "      <th>ZTF20acgigfo</th>\n",
       "      <td>18</td>\n",
       "      <td>18.973100</td>\n",
       "      <td>18.481600</td>\n",
       "      <td>19.082701</td>\n",
       "      <td>18.345301</td>\n",
       "      <td>19.822500</td>\n",
       "      <td>20.207899</td>\n",
       "      <td>17.432501</td>\n",
       "      <td>16.840599</td>\n",
       "      <td>0.931969</td>\n",
       "      <td>...</td>\n",
       "      <td>45.852905</td>\n",
       "      <td>59170.141262</td>\n",
       "      <td>59124.288357</td>\n",
       "      <td>None</td>\n",
       "      <td>None</td>\n",
       "      <td>None</td>\n",
       "      <td>10</td>\n",
       "      <td>0.394992</td>\n",
       "      <td>0.408832</td>\n",
       "      <td>19</td>\n",
       "    </tr>\n",
       "  </tbody>\n",
       "</table>\n",
       "<p>7 rows × 43 columns</p>\n",
       "</div>"
      ],
      "text/plain": [
       "              nobs  mean_magap_g  mean_magap_r  median_magap_g  \\\n",
       "oid                                                              \n",
       "ZTF18abaqycq   214     19.261053     16.064374       19.562508   \n",
       "ZTF18absggyi   166     15.693993     15.331590       15.862771   \n",
       "ZTF18acurdfi   137     17.580142     16.957054       17.652945   \n",
       "ZTF19aascajb    99     19.917325     19.805096       19.866660   \n",
       "ZTF20abxgxjd    42     19.222247     18.822616       19.103800   \n",
       "ZTF20abyptpc    73     15.991961     15.697200       15.604600   \n",
       "ZTF20acgigfo    18     18.973100     18.481600       19.082701   \n",
       "\n",
       "              median_magap_r  max_magap_g  max_magap_r  min_magap_g  \\\n",
       "oid                                                                   \n",
       "ZTF18abaqycq       16.240995    22.017512    18.806114    16.840645   \n",
       "ZTF18absggyi       15.439172    16.128538    15.657760    14.761267   \n",
       "ZTF18acurdfi       17.070848    18.107182    17.857178    16.648235   \n",
       "ZTF19aascajb       19.811933    21.022226    20.458278    19.552661   \n",
       "ZTF20abxgxjd       18.769100    20.999901    20.016899    18.410400   \n",
       "ZTF20abyptpc       15.397000    17.747999    17.818800    14.616600   \n",
       "ZTF20acgigfo       18.345301    19.822500    20.207899    17.432501   \n",
       "\n",
       "              min_magap_r  sigma_magap_g  ...     deltajd       lastmjd  \\\n",
       "oid                                       ...                             \n",
       "ZTF18abaqycq    14.190115       1.139188  ...  873.677072  59157.078148   \n",
       "ZTF18absggyi    14.694319       0.346296  ...  817.916319  59180.166528   \n",
       "ZTF18acurdfi    16.076652       0.352519  ...  718.064178  59179.525139   \n",
       "ZTF19aascajb    19.522846       0.233495  ...  192.629340  59039.177326   \n",
       "ZTF20abxgxjd    18.175301       0.765393  ...   46.927280  59137.112199   \n",
       "ZTF20abyptpc    14.634500       1.211162  ...   79.793981  59178.154525   \n",
       "ZTF20acgigfo    16.840599       0.931969  ...   45.852905  59170.141262   \n",
       "\n",
       "                  firstmjd  period  catalogid  classxmatch  classrf  pclassrf  \\\n",
       "oid                                                                             \n",
       "ZTF18abaqycq  58283.401076    None       None         None        4  0.988036   \n",
       "ZTF18absggyi  58362.250208    None       None         None        5  0.956160   \n",
       "ZTF18acurdfi  58461.460961    None       None         None        8  0.715444   \n",
       "ZTF19aascajb  58846.547986    None       None         None       24  0.411384   \n",
       "ZTF20abxgxjd  59090.184919    None       None         None       10  0.282000   \n",
       "ZTF20abyptpc  59098.360544    None       None         None       12  0.256896   \n",
       "ZTF20acgigfo  59124.288357    None       None         None       10  0.394992   \n",
       "\n",
       "              pclassearly  classearly  \n",
       "oid                                    \n",
       "ZTF18abaqycq     0.995911          20  \n",
       "ZTF18absggyi     0.988680          20  \n",
       "ZTF18acurdfi     0.821519          19  \n",
       "ZTF19aascajb     0.541139          18  \n",
       "ZTF20abxgxjd     0.633775          19  \n",
       "ZTF20abyptpc     0.628658          19  \n",
       "ZTF20acgigfo     0.408832          19  \n",
       "\n",
       "[7 rows x 43 columns]"
      ]
     },
     "metadata": {},
     "output_type": "display_data"
    },
    {
     "name": "stdout",
     "output_type": "stream",
     "text": [
      "Number of oids found in db: 7\n"
     ]
    }
   ],
   "source": [
    "query = '''\n",
    "SELECT\n",
    "    *\n",
    "FROM\n",
    "    objects\n",
    "WHERE\n",
    "    oid in (%s)\n",
    "''' % \",\".join([\"'%s'\" % oid for oid in objs['oid']])\n",
    "objs_indb = pd.read_sql_query(query, conn)\n",
    "objs_indb.set_index('oid', inplace=True)\n",
    "nobjs_indb = len(objs_indb)\n",
    "\n",
    "display(objs_indb)\n",
    "#display(objs_indb.head())\n",
    "print('Number of oids found in db:', nobjs_indb)\n",
    "\n",
    "if nobjs_indb!=nobjs:\n",
    "    print('Number of unique oids:', nobjs, 'Problem!')"
   ]
  },
  {
   "cell_type": "markdown",
   "metadata": {},
   "source": [
    "Find current datetime in local and UTC formats"
   ]
  },
  {
   "cell_type": "code",
   "execution_count": 7,
   "metadata": {
    "ExecuteTime": {
     "end_time": "2020-11-27T19:32:31.972498Z",
     "start_time": "2020-11-27T19:32:31.967223Z"
    }
   },
   "outputs": [
    {
     "data": {
      "text/plain": [
       "('2020-11-27T16:32:31', '2020-11-27T19:32:31')"
      ]
     },
     "execution_count": 7,
     "metadata": {},
     "output_type": "execute_result"
    }
   ],
   "source": [
    "date_now_local = datetime.now()\n",
    "offset_utc = 3. # use 3 (4) for Chile Summer (Winter) time, change for your time zone\n",
    "date_now_utc = date_now_local+timedelta(hours=offset_utc)\n",
    "\n",
    "date_now_local = date_now_local.strftime('%Y-%m-%dT%H:%M:%S')\n",
    "date_now_utc = date_now_utc.strftime('%Y-%m-%dT%H:%M:%S')\n",
    "\n",
    "date_now_local, date_now_utc"
   ]
  },
  {
   "cell_type": "markdown",
   "metadata": {},
   "source": [
    "Define date criterion. Example: last 10 days (in MJD)"
   ]
  },
  {
   "cell_type": "code",
   "execution_count": 8,
   "metadata": {
    "ExecuteTime": {
     "end_time": "2020-11-27T19:32:32.724152Z",
     "start_time": "2020-11-27T19:32:31.974600Z"
    }
   },
   "outputs": [
    {
     "data": {
      "text/plain": [
       "59170.814247685186"
      ]
     },
     "execution_count": 8,
     "metadata": {},
     "output_type": "execute_result"
    }
   ],
   "source": [
    "ndays_lim = 10 # can be changed to preferred date criterion\n",
    "\n",
    "date_now_utc = Time(date_now_utc, format='isot', scale='utc')\n",
    "date_lim = Time(date_now_utc, format=\"isot\", scale=\"utc\").mjd\n",
    "date_lim = date_lim-ndays_lim\n",
    "\n",
    "date_lim"
   ]
  },
  {
   "cell_type": "markdown",
   "metadata": {},
   "source": [
    "Apply date criterion"
   ]
  },
  {
   "cell_type": "code",
   "execution_count": 9,
   "metadata": {
    "ExecuteTime": {
     "end_time": "2020-11-27T19:32:33.459439Z",
     "start_time": "2020-11-27T19:32:32.725614Z"
    },
    "scrolled": true
   },
   "outputs": [
    {
     "data": {
      "text/html": [
       "<div>\n",
       "<style scoped>\n",
       "    .dataframe tbody tr th:only-of-type {\n",
       "        vertical-align: middle;\n",
       "    }\n",
       "\n",
       "    .dataframe tbody tr th {\n",
       "        vertical-align: top;\n",
       "    }\n",
       "\n",
       "    .dataframe thead th {\n",
       "        text-align: right;\n",
       "    }\n",
       "</style>\n",
       "<table border=\"1\" class=\"dataframe\">\n",
       "  <thead>\n",
       "    <tr style=\"text-align: right;\">\n",
       "      <th></th>\n",
       "      <th>nobs</th>\n",
       "      <th>mean_magap_g</th>\n",
       "      <th>mean_magap_r</th>\n",
       "      <th>median_magap_g</th>\n",
       "      <th>median_magap_r</th>\n",
       "      <th>max_magap_g</th>\n",
       "      <th>max_magap_r</th>\n",
       "      <th>min_magap_g</th>\n",
       "      <th>min_magap_r</th>\n",
       "      <th>sigma_magap_g</th>\n",
       "      <th>...</th>\n",
       "      <th>deltajd</th>\n",
       "      <th>lastmjd</th>\n",
       "      <th>firstmjd</th>\n",
       "      <th>period</th>\n",
       "      <th>catalogid</th>\n",
       "      <th>classxmatch</th>\n",
       "      <th>classrf</th>\n",
       "      <th>pclassrf</th>\n",
       "      <th>pclassearly</th>\n",
       "      <th>classearly</th>\n",
       "    </tr>\n",
       "    <tr>\n",
       "      <th>oid</th>\n",
       "      <th></th>\n",
       "      <th></th>\n",
       "      <th></th>\n",
       "      <th></th>\n",
       "      <th></th>\n",
       "      <th></th>\n",
       "      <th></th>\n",
       "      <th></th>\n",
       "      <th></th>\n",
       "      <th></th>\n",
       "      <th></th>\n",
       "      <th></th>\n",
       "      <th></th>\n",
       "      <th></th>\n",
       "      <th></th>\n",
       "      <th></th>\n",
       "      <th></th>\n",
       "      <th></th>\n",
       "      <th></th>\n",
       "      <th></th>\n",
       "      <th></th>\n",
       "    </tr>\n",
       "  </thead>\n",
       "  <tbody>\n",
       "    <tr>\n",
       "      <th>ZTF18absggyi</th>\n",
       "      <td>166</td>\n",
       "      <td>15.693993</td>\n",
       "      <td>15.331590</td>\n",
       "      <td>15.862771</td>\n",
       "      <td>15.439172</td>\n",
       "      <td>16.128538</td>\n",
       "      <td>15.657760</td>\n",
       "      <td>14.761267</td>\n",
       "      <td>14.694319</td>\n",
       "      <td>0.346296</td>\n",
       "      <td>...</td>\n",
       "      <td>817.916319</td>\n",
       "      <td>59180.166528</td>\n",
       "      <td>58362.250208</td>\n",
       "      <td>None</td>\n",
       "      <td>None</td>\n",
       "      <td>None</td>\n",
       "      <td>5</td>\n",
       "      <td>0.956160</td>\n",
       "      <td>0.988680</td>\n",
       "      <td>20</td>\n",
       "    </tr>\n",
       "    <tr>\n",
       "      <th>ZTF18acurdfi</th>\n",
       "      <td>137</td>\n",
       "      <td>17.580142</td>\n",
       "      <td>16.957054</td>\n",
       "      <td>17.652945</td>\n",
       "      <td>17.070848</td>\n",
       "      <td>18.107182</td>\n",
       "      <td>17.857178</td>\n",
       "      <td>16.648235</td>\n",
       "      <td>16.076652</td>\n",
       "      <td>0.352519</td>\n",
       "      <td>...</td>\n",
       "      <td>718.064178</td>\n",
       "      <td>59179.525139</td>\n",
       "      <td>58461.460961</td>\n",
       "      <td>None</td>\n",
       "      <td>None</td>\n",
       "      <td>None</td>\n",
       "      <td>8</td>\n",
       "      <td>0.715444</td>\n",
       "      <td>0.821519</td>\n",
       "      <td>19</td>\n",
       "    </tr>\n",
       "    <tr>\n",
       "      <th>ZTF20abyptpc</th>\n",
       "      <td>73</td>\n",
       "      <td>15.991961</td>\n",
       "      <td>15.697200</td>\n",
       "      <td>15.604600</td>\n",
       "      <td>15.397000</td>\n",
       "      <td>17.747999</td>\n",
       "      <td>17.818800</td>\n",
       "      <td>14.616600</td>\n",
       "      <td>14.634500</td>\n",
       "      <td>1.211162</td>\n",
       "      <td>...</td>\n",
       "      <td>79.793981</td>\n",
       "      <td>59178.154525</td>\n",
       "      <td>59098.360544</td>\n",
       "      <td>None</td>\n",
       "      <td>None</td>\n",
       "      <td>None</td>\n",
       "      <td>12</td>\n",
       "      <td>0.256896</td>\n",
       "      <td>0.628658</td>\n",
       "      <td>19</td>\n",
       "    </tr>\n",
       "  </tbody>\n",
       "</table>\n",
       "<p>3 rows × 43 columns</p>\n",
       "</div>"
      ],
      "text/plain": [
       "              nobs  mean_magap_g  mean_magap_r  median_magap_g  \\\n",
       "oid                                                              \n",
       "ZTF18absggyi   166     15.693993     15.331590       15.862771   \n",
       "ZTF18acurdfi   137     17.580142     16.957054       17.652945   \n",
       "ZTF20abyptpc    73     15.991961     15.697200       15.604600   \n",
       "\n",
       "              median_magap_r  max_magap_g  max_magap_r  min_magap_g  \\\n",
       "oid                                                                   \n",
       "ZTF18absggyi       15.439172    16.128538    15.657760    14.761267   \n",
       "ZTF18acurdfi       17.070848    18.107182    17.857178    16.648235   \n",
       "ZTF20abyptpc       15.397000    17.747999    17.818800    14.616600   \n",
       "\n",
       "              min_magap_r  sigma_magap_g  ...     deltajd       lastmjd  \\\n",
       "oid                                       ...                             \n",
       "ZTF18absggyi    14.694319       0.346296  ...  817.916319  59180.166528   \n",
       "ZTF18acurdfi    16.076652       0.352519  ...  718.064178  59179.525139   \n",
       "ZTF20abyptpc    14.634500       1.211162  ...   79.793981  59178.154525   \n",
       "\n",
       "                  firstmjd  period  catalogid  classxmatch  classrf  pclassrf  \\\n",
       "oid                                                                             \n",
       "ZTF18absggyi  58362.250208    None       None         None        5  0.956160   \n",
       "ZTF18acurdfi  58461.460961    None       None         None        8  0.715444   \n",
       "ZTF20abyptpc  59098.360544    None       None         None       12  0.256896   \n",
       "\n",
       "              pclassearly  classearly  \n",
       "oid                                    \n",
       "ZTF18absggyi     0.988680          20  \n",
       "ZTF18acurdfi     0.821519          19  \n",
       "ZTF20abyptpc     0.628658          19  \n",
       "\n",
       "[3 rows x 43 columns]"
      ]
     },
     "metadata": {},
     "output_type": "display_data"
    },
    {
     "name": "stdout",
     "output_type": "stream",
     "text": [
      "Number of oids found in db that match criterion: 3\n"
     ]
    }
   ],
   "source": [
    "query = '''\n",
    "SELECT\n",
    "    *\n",
    "FROM\n",
    "    objects\n",
    "WHERE\n",
    "    lastmjd >= %s\n",
    "    AND oid in (%s)\n",
    "''' % (date_lim, ','.join([\"'%s'\" % oid for oid in objs['oid']]))\n",
    "objs_indb = pd.read_sql_query(query, conn)\n",
    "objs_indb.set_index('oid', inplace=True)\n",
    "\n",
    "display(objs_indb.head())\n",
    "print('Number of oids found in db that match criterion:', len(objs_indb))"
   ]
  },
  {
   "cell_type": "markdown",
   "metadata": {},
   "source": [
    "Sort dataframe by last MJD where there are detections for each object, starting with most recent"
   ]
  },
  {
   "cell_type": "code",
   "execution_count": 10,
   "metadata": {
    "ExecuteTime": {
     "end_time": "2020-11-27T19:32:33.526767Z",
     "start_time": "2020-11-27T19:32:33.462670Z"
    }
   },
   "outputs": [
    {
     "data": {
      "text/html": [
       "<div>\n",
       "<style scoped>\n",
       "    .dataframe tbody tr th:only-of-type {\n",
       "        vertical-align: middle;\n",
       "    }\n",
       "\n",
       "    .dataframe tbody tr th {\n",
       "        vertical-align: top;\n",
       "    }\n",
       "\n",
       "    .dataframe thead th {\n",
       "        text-align: right;\n",
       "    }\n",
       "</style>\n",
       "<table border=\"1\" class=\"dataframe\">\n",
       "  <thead>\n",
       "    <tr style=\"text-align: right;\">\n",
       "      <th></th>\n",
       "      <th>nobs</th>\n",
       "      <th>mean_magap_g</th>\n",
       "      <th>mean_magap_r</th>\n",
       "      <th>median_magap_g</th>\n",
       "      <th>median_magap_r</th>\n",
       "      <th>max_magap_g</th>\n",
       "      <th>max_magap_r</th>\n",
       "      <th>min_magap_g</th>\n",
       "      <th>min_magap_r</th>\n",
       "      <th>sigma_magap_g</th>\n",
       "      <th>...</th>\n",
       "      <th>deltajd</th>\n",
       "      <th>lastmjd</th>\n",
       "      <th>firstmjd</th>\n",
       "      <th>period</th>\n",
       "      <th>catalogid</th>\n",
       "      <th>classxmatch</th>\n",
       "      <th>classrf</th>\n",
       "      <th>pclassrf</th>\n",
       "      <th>pclassearly</th>\n",
       "      <th>classearly</th>\n",
       "    </tr>\n",
       "    <tr>\n",
       "      <th>oid</th>\n",
       "      <th></th>\n",
       "      <th></th>\n",
       "      <th></th>\n",
       "      <th></th>\n",
       "      <th></th>\n",
       "      <th></th>\n",
       "      <th></th>\n",
       "      <th></th>\n",
       "      <th></th>\n",
       "      <th></th>\n",
       "      <th></th>\n",
       "      <th></th>\n",
       "      <th></th>\n",
       "      <th></th>\n",
       "      <th></th>\n",
       "      <th></th>\n",
       "      <th></th>\n",
       "      <th></th>\n",
       "      <th></th>\n",
       "      <th></th>\n",
       "      <th></th>\n",
       "    </tr>\n",
       "  </thead>\n",
       "  <tbody>\n",
       "    <tr>\n",
       "      <th>ZTF18absggyi</th>\n",
       "      <td>166</td>\n",
       "      <td>15.693993</td>\n",
       "      <td>15.331590</td>\n",
       "      <td>15.862771</td>\n",
       "      <td>15.439172</td>\n",
       "      <td>16.128538</td>\n",
       "      <td>15.657760</td>\n",
       "      <td>14.761267</td>\n",
       "      <td>14.694319</td>\n",
       "      <td>0.346296</td>\n",
       "      <td>...</td>\n",
       "      <td>817.916319</td>\n",
       "      <td>59180.166528</td>\n",
       "      <td>58362.250208</td>\n",
       "      <td>None</td>\n",
       "      <td>None</td>\n",
       "      <td>None</td>\n",
       "      <td>5</td>\n",
       "      <td>0.956160</td>\n",
       "      <td>0.988680</td>\n",
       "      <td>20</td>\n",
       "    </tr>\n",
       "    <tr>\n",
       "      <th>ZTF18acurdfi</th>\n",
       "      <td>137</td>\n",
       "      <td>17.580142</td>\n",
       "      <td>16.957054</td>\n",
       "      <td>17.652945</td>\n",
       "      <td>17.070848</td>\n",
       "      <td>18.107182</td>\n",
       "      <td>17.857178</td>\n",
       "      <td>16.648235</td>\n",
       "      <td>16.076652</td>\n",
       "      <td>0.352519</td>\n",
       "      <td>...</td>\n",
       "      <td>718.064178</td>\n",
       "      <td>59179.525139</td>\n",
       "      <td>58461.460961</td>\n",
       "      <td>None</td>\n",
       "      <td>None</td>\n",
       "      <td>None</td>\n",
       "      <td>8</td>\n",
       "      <td>0.715444</td>\n",
       "      <td>0.821519</td>\n",
       "      <td>19</td>\n",
       "    </tr>\n",
       "    <tr>\n",
       "      <th>ZTF20abyptpc</th>\n",
       "      <td>73</td>\n",
       "      <td>15.991961</td>\n",
       "      <td>15.697200</td>\n",
       "      <td>15.604600</td>\n",
       "      <td>15.397000</td>\n",
       "      <td>17.747999</td>\n",
       "      <td>17.818800</td>\n",
       "      <td>14.616600</td>\n",
       "      <td>14.634500</td>\n",
       "      <td>1.211162</td>\n",
       "      <td>...</td>\n",
       "      <td>79.793981</td>\n",
       "      <td>59178.154525</td>\n",
       "      <td>59098.360544</td>\n",
       "      <td>None</td>\n",
       "      <td>None</td>\n",
       "      <td>None</td>\n",
       "      <td>12</td>\n",
       "      <td>0.256896</td>\n",
       "      <td>0.628658</td>\n",
       "      <td>19</td>\n",
       "    </tr>\n",
       "  </tbody>\n",
       "</table>\n",
       "<p>3 rows × 43 columns</p>\n",
       "</div>"
      ],
      "text/plain": [
       "              nobs  mean_magap_g  mean_magap_r  median_magap_g  \\\n",
       "oid                                                              \n",
       "ZTF18absggyi   166     15.693993     15.331590       15.862771   \n",
       "ZTF18acurdfi   137     17.580142     16.957054       17.652945   \n",
       "ZTF20abyptpc    73     15.991961     15.697200       15.604600   \n",
       "\n",
       "              median_magap_r  max_magap_g  max_magap_r  min_magap_g  \\\n",
       "oid                                                                   \n",
       "ZTF18absggyi       15.439172    16.128538    15.657760    14.761267   \n",
       "ZTF18acurdfi       17.070848    18.107182    17.857178    16.648235   \n",
       "ZTF20abyptpc       15.397000    17.747999    17.818800    14.616600   \n",
       "\n",
       "              min_magap_r  sigma_magap_g  ...     deltajd       lastmjd  \\\n",
       "oid                                       ...                             \n",
       "ZTF18absggyi    14.694319       0.346296  ...  817.916319  59180.166528   \n",
       "ZTF18acurdfi    16.076652       0.352519  ...  718.064178  59179.525139   \n",
       "ZTF20abyptpc    14.634500       1.211162  ...   79.793981  59178.154525   \n",
       "\n",
       "                  firstmjd  period  catalogid  classxmatch  classrf  pclassrf  \\\n",
       "oid                                                                             \n",
       "ZTF18absggyi  58362.250208    None       None         None        5  0.956160   \n",
       "ZTF18acurdfi  58461.460961    None       None         None        8  0.715444   \n",
       "ZTF20abyptpc  59098.360544    None       None         None       12  0.256896   \n",
       "\n",
       "              pclassearly  classearly  \n",
       "oid                                    \n",
       "ZTF18absggyi     0.988680          20  \n",
       "ZTF18acurdfi     0.821519          19  \n",
       "ZTF20abyptpc     0.628658          19  \n",
       "\n",
       "[3 rows x 43 columns]"
      ]
     },
     "execution_count": 10,
     "metadata": {},
     "output_type": "execute_result"
    }
   ],
   "source": [
    "col_to_sort = 'lastmjd' # can be changed to preferred column\n",
    "ascending = False # if True, sorts from smallest to largest - can be changed to preferred sort\n",
    "\n",
    "objs_indb_sort = objs_indb.sort_values(by=[col_to_sort], ascending=ascending)\n",
    "objs_indb_sort.head(10)"
   ]
  },
  {
   "cell_type": "markdown",
   "metadata": {},
   "source": [
    "Show Explorer link for each object. Allows to see the light curve, stamps, Aladin images, etc (useful for small lists)"
   ]
  },
  {
   "cell_type": "code",
   "execution_count": 11,
   "metadata": {
    "ExecuteTime": {
     "end_time": "2020-11-27T19:32:33.585488Z",
     "start_time": "2020-11-27T19:32:33.530637Z"
    }
   },
   "outputs": [
    {
     "data": {
      "text/html": [
       "<a href='http://alerce.online/object/ZTF18absggyi' target=\"_blank\"> ZTF18absggyi <a>"
      ],
      "text/plain": [
       "<IPython.core.display.HTML object>"
      ]
     },
     "metadata": {},
     "output_type": "display_data"
    },
    {
     "data": {
      "text/html": [
       "<a href='http://alerce.online/object/ZTF18acurdfi' target=\"_blank\"> ZTF18acurdfi <a>"
      ],
      "text/plain": [
       "<IPython.core.display.HTML object>"
      ]
     },
     "metadata": {},
     "output_type": "display_data"
    },
    {
     "data": {
      "text/html": [
       "<a href='http://alerce.online/object/ZTF20abyptpc' target=\"_blank\"> ZTF20abyptpc <a>"
      ],
      "text/plain": [
       "<IPython.core.display.HTML object>"
      ]
     },
     "metadata": {},
     "output_type": "display_data"
    }
   ],
   "source": [
    "for oid in objs_indb_sort.index:\n",
    "    display(HTML(\"<a href='http://alerce.online/object/%s' target=\\\"_blank\\\"> %s <a>\" % (oid, oid))) # online data\n",
    "    #display(HTML(\"<a href='http://dev.alerce.online/object/%s' target=\\\"_blank\\\"> %s <a>\" % (oid, oid))) # new Explorer"
   ]
  },
  {
   "cell_type": "markdown",
   "metadata": {},
   "source": [
    "Save dataframe to csv file, file name will include the current datetime (defined above) in UTC format and date criterion"
   ]
  },
  {
   "cell_type": "code",
   "execution_count": 12,
   "metadata": {
    "ExecuteTime": {
     "end_time": "2020-11-27T19:32:33.661892Z",
     "start_time": "2020-11-27T19:32:33.587189Z"
    }
   },
   "outputs": [
    {
     "name": "stdout",
     "output_type": "stream",
     "text": [
      "Saved to file: out/sources_example_out_2020-11-27T19_32_31.000_last10days.csv\n"
     ]
    }
   ],
   "source": [
    "dir_out = 'out/' # can be changed to preferred directory\n",
    "\n",
    "namein = namefil.replace(dir_watchlists, '')\n",
    "namein = namein.replace('.csv', '_out_')\n",
    "\n",
    "namefil2 = dir_out+namein+str(date_now_utc).replace(':', '_')+'_last'+str(int(ndays_lim))+'days.csv' # can be changed to preferred file name\n",
    "objs_indb_sort.to_csv(namefil2)\n",
    "\n",
    "print('Saved to file:', namefil2)"
   ]
  },
  {
   "cell_type": "markdown",
   "metadata": {},
   "source": [
    "Close connection to DB"
   ]
  },
  {
   "cell_type": "code",
   "execution_count": 13,
   "metadata": {
    "ExecuteTime": {
     "end_time": "2020-11-27T19:32:33.738163Z",
     "start_time": "2020-11-27T19:32:33.663424Z"
    }
   },
   "outputs": [],
   "source": [
    "conn.close()"
   ]
  },
  {
   "cell_type": "code",
   "execution_count": null,
   "metadata": {},
   "outputs": [],
   "source": []
  }
 ],
 "metadata": {
  "kernelspec": {
   "display_name": "Python 3",
   "language": "python",
   "name": "python3"
  },
  "language_info": {
   "codemirror_mode": {
    "name": "ipython",
    "version": 3
   },
   "file_extension": ".py",
   "mimetype": "text/x-python",
   "name": "python",
   "nbconvert_exporter": "python",
   "pygments_lexer": "ipython3",
   "version": "3.7.5"
  }
 },
 "nbformat": 4,
 "nbformat_minor": 4
}
